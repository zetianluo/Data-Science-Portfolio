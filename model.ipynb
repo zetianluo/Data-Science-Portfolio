{
 "cells": [
  {
   "cell_type": "code",
   "execution_count": 1,
   "metadata": {},
   "outputs": [],
   "source": [
    "import pandas as pd\n",
    "import numpy as np \n",
    "import matplotlib.pyplot as plt\n",
    "import seaborn as sns"
   ]
  },
  {
   "cell_type": "code",
   "execution_count": 2,
   "metadata": {},
   "outputs": [
    {
     "data": {
      "text/html": [
       "<div>\n",
       "<style scoped>\n",
       "    .dataframe tbody tr th:only-of-type {\n",
       "        vertical-align: middle;\n",
       "    }\n",
       "\n",
       "    .dataframe tbody tr th {\n",
       "        vertical-align: top;\n",
       "    }\n",
       "\n",
       "    .dataframe thead th {\n",
       "        text-align: right;\n",
       "    }\n",
       "</style>\n",
       "<table border=\"1\" class=\"dataframe\">\n",
       "  <thead>\n",
       "    <tr style=\"text-align: right;\">\n",
       "      <th></th>\n",
       "      <th>Severity</th>\n",
       "      <th>Start_Lat</th>\n",
       "      <th>Start_Lng</th>\n",
       "      <th>Distance</th>\n",
       "      <th>Side</th>\n",
       "      <th>County</th>\n",
       "      <th>Pressure</th>\n",
       "      <th>Wind_Direction</th>\n",
       "      <th>Weather_Condition</th>\n",
       "      <th>Amenity</th>\n",
       "      <th>...</th>\n",
       "      <th>Traffic_Calming</th>\n",
       "      <th>Traffic_Signal</th>\n",
       "      <th>Sunrise_Sunset</th>\n",
       "      <th>Year</th>\n",
       "      <th>Month</th>\n",
       "      <th>Day</th>\n",
       "      <th>Hour</th>\n",
       "      <th>Weekday</th>\n",
       "      <th>Time_Duration</th>\n",
       "      <th>Severity3</th>\n",
       "    </tr>\n",
       "  </thead>\n",
       "  <tbody>\n",
       "    <tr>\n",
       "      <th>0</th>\n",
       "      <td>3</td>\n",
       "      <td>0.586512</td>\n",
       "      <td>0.216692</td>\n",
       "      <td>0.0</td>\n",
       "      <td>R</td>\n",
       "      <td>Solano</td>\n",
       "      <td>0.490460</td>\n",
       "      <td>VAR</td>\n",
       "      <td>Clear</td>\n",
       "      <td>False</td>\n",
       "      <td>...</td>\n",
       "      <td>False</td>\n",
       "      <td>False</td>\n",
       "      <td>Day</td>\n",
       "      <td>0.0</td>\n",
       "      <td>Jun</td>\n",
       "      <td>0.666667</td>\n",
       "      <td>0.434783</td>\n",
       "      <td>Tue</td>\n",
       "      <td>0.112849</td>\n",
       "      <td>1</td>\n",
       "    </tr>\n",
       "    <tr>\n",
       "      <th>1</th>\n",
       "      <td>3</td>\n",
       "      <td>0.538525</td>\n",
       "      <td>0.231791</td>\n",
       "      <td>0.0</td>\n",
       "      <td>R</td>\n",
       "      <td>Alameda</td>\n",
       "      <td>0.491550</td>\n",
       "      <td>W</td>\n",
       "      <td>Clear</td>\n",
       "      <td>False</td>\n",
       "      <td>...</td>\n",
       "      <td>False</td>\n",
       "      <td>False</td>\n",
       "      <td>Day</td>\n",
       "      <td>0.0</td>\n",
       "      <td>Jun</td>\n",
       "      <td>0.666667</td>\n",
       "      <td>0.434783</td>\n",
       "      <td>Tue</td>\n",
       "      <td>0.207880</td>\n",
       "      <td>1</td>\n",
       "    </tr>\n",
       "    <tr>\n",
       "      <th>2</th>\n",
       "      <td>2</td>\n",
       "      <td>0.566540</td>\n",
       "      <td>0.233155</td>\n",
       "      <td>0.0</td>\n",
       "      <td>R</td>\n",
       "      <td>Contra Costa</td>\n",
       "      <td>0.489915</td>\n",
       "      <td>N</td>\n",
       "      <td>Clear</td>\n",
       "      <td>False</td>\n",
       "      <td>...</td>\n",
       "      <td>False</td>\n",
       "      <td>False</td>\n",
       "      <td>Day</td>\n",
       "      <td>0.0</td>\n",
       "      <td>Jun</td>\n",
       "      <td>0.666667</td>\n",
       "      <td>0.434783</td>\n",
       "      <td>Tue</td>\n",
       "      <td>0.112849</td>\n",
       "      <td>0</td>\n",
       "    </tr>\n",
       "    <tr>\n",
       "      <th>3</th>\n",
       "      <td>3</td>\n",
       "      <td>0.507039</td>\n",
       "      <td>0.237035</td>\n",
       "      <td>0.0</td>\n",
       "      <td>R</td>\n",
       "      <td>Santa Clara</td>\n",
       "      <td>0.491187</td>\n",
       "      <td>N</td>\n",
       "      <td>Clear</td>\n",
       "      <td>False</td>\n",
       "      <td>...</td>\n",
       "      <td>False</td>\n",
       "      <td>False</td>\n",
       "      <td>Day</td>\n",
       "      <td>0.0</td>\n",
       "      <td>Jun</td>\n",
       "      <td>0.666667</td>\n",
       "      <td>0.434783</td>\n",
       "      <td>Tue</td>\n",
       "      <td>0.112849</td>\n",
       "      <td>1</td>\n",
       "    </tr>\n",
       "    <tr>\n",
       "      <th>4</th>\n",
       "      <td>2</td>\n",
       "      <td>0.498200</td>\n",
       "      <td>0.249386</td>\n",
       "      <td>0.0</td>\n",
       "      <td>R</td>\n",
       "      <td>Santa Clara</td>\n",
       "      <td>0.491550</td>\n",
       "      <td>VAR</td>\n",
       "      <td>Clear</td>\n",
       "      <td>False</td>\n",
       "      <td>...</td>\n",
       "      <td>False</td>\n",
       "      <td>False</td>\n",
       "      <td>Day</td>\n",
       "      <td>0.0</td>\n",
       "      <td>Jun</td>\n",
       "      <td>0.666667</td>\n",
       "      <td>0.434783</td>\n",
       "      <td>Tue</td>\n",
       "      <td>0.219759</td>\n",
       "      <td>0</td>\n",
       "    </tr>\n",
       "    <tr>\n",
       "      <th>5</th>\n",
       "      <td>3</td>\n",
       "      <td>0.545908</td>\n",
       "      <td>0.249769</td>\n",
       "      <td>0.0</td>\n",
       "      <td>R</td>\n",
       "      <td>Alameda</td>\n",
       "      <td>0.490460</td>\n",
       "      <td>VAR</td>\n",
       "      <td>Clear</td>\n",
       "      <td>False</td>\n",
       "      <td>...</td>\n",
       "      <td>False</td>\n",
       "      <td>False</td>\n",
       "      <td>Day</td>\n",
       "      <td>0.0</td>\n",
       "      <td>Jun</td>\n",
       "      <td>0.666667</td>\n",
       "      <td>0.434783</td>\n",
       "      <td>Tue</td>\n",
       "      <td>0.201941</td>\n",
       "      <td>1</td>\n",
       "    </tr>\n",
       "    <tr>\n",
       "      <th>6</th>\n",
       "      <td>3</td>\n",
       "      <td>0.506410</td>\n",
       "      <td>0.253332</td>\n",
       "      <td>0.0</td>\n",
       "      <td>R</td>\n",
       "      <td>Santa Clara</td>\n",
       "      <td>0.491187</td>\n",
       "      <td>VAR</td>\n",
       "      <td>Cloudy</td>\n",
       "      <td>False</td>\n",
       "      <td>...</td>\n",
       "      <td>False</td>\n",
       "      <td>False</td>\n",
       "      <td>Day</td>\n",
       "      <td>0.0</td>\n",
       "      <td>Jun</td>\n",
       "      <td>0.666667</td>\n",
       "      <td>0.434783</td>\n",
       "      <td>Tue</td>\n",
       "      <td>0.207880</td>\n",
       "      <td>1</td>\n",
       "    </tr>\n",
       "    <tr>\n",
       "      <th>7</th>\n",
       "      <td>3</td>\n",
       "      <td>0.547768</td>\n",
       "      <td>0.194857</td>\n",
       "      <td>0.0</td>\n",
       "      <td>R</td>\n",
       "      <td>San Francisco</td>\n",
       "      <td>0.491187</td>\n",
       "      <td>NE</td>\n",
       "      <td>Cloudy</td>\n",
       "      <td>False</td>\n",
       "      <td>...</td>\n",
       "      <td>False</td>\n",
       "      <td>False</td>\n",
       "      <td>Day</td>\n",
       "      <td>0.0</td>\n",
       "      <td>Jun</td>\n",
       "      <td>0.666667</td>\n",
       "      <td>0.434783</td>\n",
       "      <td>Tue</td>\n",
       "      <td>0.112849</td>\n",
       "      <td>1</td>\n",
       "    </tr>\n",
       "    <tr>\n",
       "      <th>8</th>\n",
       "      <td>2</td>\n",
       "      <td>0.563530</td>\n",
       "      <td>0.220454</td>\n",
       "      <td>0.0</td>\n",
       "      <td>R</td>\n",
       "      <td>Contra Costa</td>\n",
       "      <td>0.489915</td>\n",
       "      <td>N</td>\n",
       "      <td>Clear</td>\n",
       "      <td>False</td>\n",
       "      <td>...</td>\n",
       "      <td>False</td>\n",
       "      <td>False</td>\n",
       "      <td>Day</td>\n",
       "      <td>0.0</td>\n",
       "      <td>Jun</td>\n",
       "      <td>0.666667</td>\n",
       "      <td>0.434783</td>\n",
       "      <td>Tue</td>\n",
       "      <td>0.112849</td>\n",
       "      <td>0</td>\n",
       "    </tr>\n",
       "    <tr>\n",
       "      <th>9</th>\n",
       "      <td>3</td>\n",
       "      <td>0.545841</td>\n",
       "      <td>0.260438</td>\n",
       "      <td>0.0</td>\n",
       "      <td>R</td>\n",
       "      <td>Alameda</td>\n",
       "      <td>0.490460</td>\n",
       "      <td>VAR</td>\n",
       "      <td>Clear</td>\n",
       "      <td>False</td>\n",
       "      <td>...</td>\n",
       "      <td>False</td>\n",
       "      <td>False</td>\n",
       "      <td>Day</td>\n",
       "      <td>0.0</td>\n",
       "      <td>Jun</td>\n",
       "      <td>0.666667</td>\n",
       "      <td>0.434783</td>\n",
       "      <td>Tue</td>\n",
       "      <td>0.112849</td>\n",
       "      <td>1</td>\n",
       "    </tr>\n",
       "  </tbody>\n",
       "</table>\n",
       "<p>10 rows × 29 columns</p>\n",
       "</div>"
      ],
      "text/plain": [
       "   Severity  Start_Lat  Start_Lng  Distance Side         County  Pressure  \\\n",
       "0         3   0.586512   0.216692       0.0    R         Solano  0.490460   \n",
       "1         3   0.538525   0.231791       0.0    R        Alameda  0.491550   \n",
       "2         2   0.566540   0.233155       0.0    R   Contra Costa  0.489915   \n",
       "3         3   0.507039   0.237035       0.0    R    Santa Clara  0.491187   \n",
       "4         2   0.498200   0.249386       0.0    R    Santa Clara  0.491550   \n",
       "5         3   0.545908   0.249769       0.0    R        Alameda  0.490460   \n",
       "6         3   0.506410   0.253332       0.0    R    Santa Clara  0.491187   \n",
       "7         3   0.547768   0.194857       0.0    R  San Francisco  0.491187   \n",
       "8         2   0.563530   0.220454       0.0    R   Contra Costa  0.489915   \n",
       "9         3   0.545841   0.260438       0.0    R        Alameda  0.490460   \n",
       "\n",
       "  Wind_Direction Weather_Condition  Amenity  ...  Traffic_Calming  \\\n",
       "0            VAR             Clear    False  ...            False   \n",
       "1              W             Clear    False  ...            False   \n",
       "2              N             Clear    False  ...            False   \n",
       "3              N             Clear    False  ...            False   \n",
       "4            VAR             Clear    False  ...            False   \n",
       "5            VAR             Clear    False  ...            False   \n",
       "6            VAR            Cloudy    False  ...            False   \n",
       "7             NE            Cloudy    False  ...            False   \n",
       "8              N             Clear    False  ...            False   \n",
       "9            VAR             Clear    False  ...            False   \n",
       "\n",
       "   Traffic_Signal  Sunrise_Sunset  Year  Month       Day      Hour  Weekday  \\\n",
       "0           False             Day   0.0    Jun  0.666667  0.434783      Tue   \n",
       "1           False             Day   0.0    Jun  0.666667  0.434783      Tue   \n",
       "2           False             Day   0.0    Jun  0.666667  0.434783      Tue   \n",
       "3           False             Day   0.0    Jun  0.666667  0.434783      Tue   \n",
       "4           False             Day   0.0    Jun  0.666667  0.434783      Tue   \n",
       "5           False             Day   0.0    Jun  0.666667  0.434783      Tue   \n",
       "6           False             Day   0.0    Jun  0.666667  0.434783      Tue   \n",
       "7           False             Day   0.0    Jun  0.666667  0.434783      Tue   \n",
       "8           False             Day   0.0    Jun  0.666667  0.434783      Tue   \n",
       "9           False             Day   0.0    Jun  0.666667  0.434783      Tue   \n",
       "\n",
       "   Time_Duration  Severity3  \n",
       "0       0.112849          1  \n",
       "1       0.207880          1  \n",
       "2       0.112849          0  \n",
       "3       0.112849          1  \n",
       "4       0.219759          0  \n",
       "5       0.201941          1  \n",
       "6       0.207880          1  \n",
       "7       0.112849          1  \n",
       "8       0.112849          0  \n",
       "9       0.112849          1  \n",
       "\n",
       "[10 rows x 29 columns]"
      ]
     },
     "execution_count": 2,
     "metadata": {},
     "output_type": "execute_result"
    }
   ],
   "source": [
    "#Import CA data\n",
    "full_data = pd.read_csv(\"full_data.csv\")\n",
    "full_data.head(10)"
   ]
  },
  {
   "cell_type": "markdown",
   "metadata": {},
   "source": [
    "# Part 1"
   ]
  },
  {
   "cell_type": "code",
   "execution_count": 3,
   "metadata": {},
   "outputs": [],
   "source": [
    "#Import\n",
    "from sklearn.naive_bayes import CategoricalNB, BernoulliNB, MultinomialNB, GaussianNB\n",
    "from sklearn.neural_network import MLPClassifier\n",
    "from sklearn.ensemble import RandomForestClassifier\n",
    "from sklearn.tree import DecisionTreeClassifier, plot_tree\n",
    "from sklearn.linear_model import LogisticRegression\n",
    "from sklearn.preprocessing import MinMaxScaler\n",
    "from sklearn.metrics import precision_recall_curve\n",
    "from sklearn.metrics import average_precision_score\n",
    "from sklearn.preprocessing import label_binarize"
   ]
  },
  {
   "cell_type": "code",
   "execution_count": 4,
   "metadata": {},
   "outputs": [],
   "source": [
    "# Metrics dictionary\n",
    "accuracy = dict()\n",
    "precision = dict()\n",
    "recall = dict()\n",
    "f1 = dict()\n",
    "fpr = dict()\n",
    "tpr = dict()"
   ]
  },
  {
   "cell_type": "markdown",
   "metadata": {},
   "source": [
    "### 1. set up training data, validation set and test data"
   ]
  },
  {
   "cell_type": "code",
   "execution_count": 5,
   "metadata": {},
   "outputs": [
    {
     "data": {
      "text/plain": [
       "0.00    80101\n",
       "1.00    71262\n",
       "0.25    51706\n",
       "0.75    10206\n",
       "Name: Year, dtype: int64"
      ]
     },
     "execution_count": 5,
     "metadata": {},
     "output_type": "execute_result"
    }
   ],
   "source": [
    "# 1. Look at the year to make sure if we could use year to seperate the data\n",
    "full_data['Year'].value_counts()"
   ]
  },
  {
   "cell_type": "code",
   "execution_count": 6,
   "metadata": {},
   "outputs": [
    {
     "data": {
      "text/plain": [
       "Year  Severity3\n",
       "0.00  0            43382\n",
       "      1            36719\n",
       "0.25  0            27942\n",
       "      1            23764\n",
       "0.75  0             6686\n",
       "      1             3520\n",
       "1.00  0            50053\n",
       "      1            21209\n",
       "Name: Severity3, dtype: int64"
      ]
     },
     "execution_count": 6,
     "metadata": {},
     "output_type": "execute_result"
    }
   ],
   "source": [
    "data = full_data.groupby(full_data['Year'])['Severity3'].value_counts()\n",
    "data"
   ]
  },
  {
   "cell_type": "code",
   "execution_count": 7,
   "metadata": {},
   "outputs": [
    {
     "data": {
      "text/html": [
       "<div>\n",
       "<style scoped>\n",
       "    .dataframe tbody tr th:only-of-type {\n",
       "        vertical-align: middle;\n",
       "    }\n",
       "\n",
       "    .dataframe tbody tr th {\n",
       "        vertical-align: top;\n",
       "    }\n",
       "\n",
       "    .dataframe thead th {\n",
       "        text-align: right;\n",
       "    }\n",
       "</style>\n",
       "<table border=\"1\" class=\"dataframe\">\n",
       "  <thead>\n",
       "    <tr style=\"text-align: right;\">\n",
       "      <th></th>\n",
       "      <th>Severity</th>\n",
       "      <th>Start_Lat</th>\n",
       "      <th>Start_Lng</th>\n",
       "      <th>Distance</th>\n",
       "      <th>Side</th>\n",
       "      <th>County</th>\n",
       "      <th>Pressure</th>\n",
       "      <th>Wind_Direction</th>\n",
       "      <th>Weather_Condition</th>\n",
       "      <th>Amenity</th>\n",
       "      <th>...</th>\n",
       "      <th>Traffic_Calming</th>\n",
       "      <th>Traffic_Signal</th>\n",
       "      <th>Sunrise_Sunset</th>\n",
       "      <th>Year</th>\n",
       "      <th>Month</th>\n",
       "      <th>Day</th>\n",
       "      <th>Hour</th>\n",
       "      <th>Weekday</th>\n",
       "      <th>Time_Duration</th>\n",
       "      <th>Severity3</th>\n",
       "    </tr>\n",
       "  </thead>\n",
       "  <tbody>\n",
       "    <tr>\n",
       "      <th>0</th>\n",
       "      <td>3</td>\n",
       "      <td>0.586512</td>\n",
       "      <td>0.216692</td>\n",
       "      <td>0.0</td>\n",
       "      <td>R</td>\n",
       "      <td>Solano</td>\n",
       "      <td>0.490460</td>\n",
       "      <td>VAR</td>\n",
       "      <td>Clear</td>\n",
       "      <td>False</td>\n",
       "      <td>...</td>\n",
       "      <td>False</td>\n",
       "      <td>False</td>\n",
       "      <td>Day</td>\n",
       "      <td>0.0</td>\n",
       "      <td>Jun</td>\n",
       "      <td>0.666667</td>\n",
       "      <td>0.434783</td>\n",
       "      <td>Tue</td>\n",
       "      <td>0.112849</td>\n",
       "      <td>1</td>\n",
       "    </tr>\n",
       "    <tr>\n",
       "      <th>1</th>\n",
       "      <td>3</td>\n",
       "      <td>0.538525</td>\n",
       "      <td>0.231791</td>\n",
       "      <td>0.0</td>\n",
       "      <td>R</td>\n",
       "      <td>Alameda</td>\n",
       "      <td>0.491550</td>\n",
       "      <td>W</td>\n",
       "      <td>Clear</td>\n",
       "      <td>False</td>\n",
       "      <td>...</td>\n",
       "      <td>False</td>\n",
       "      <td>False</td>\n",
       "      <td>Day</td>\n",
       "      <td>0.0</td>\n",
       "      <td>Jun</td>\n",
       "      <td>0.666667</td>\n",
       "      <td>0.434783</td>\n",
       "      <td>Tue</td>\n",
       "      <td>0.207880</td>\n",
       "      <td>1</td>\n",
       "    </tr>\n",
       "    <tr>\n",
       "      <th>2</th>\n",
       "      <td>2</td>\n",
       "      <td>0.566540</td>\n",
       "      <td>0.233155</td>\n",
       "      <td>0.0</td>\n",
       "      <td>R</td>\n",
       "      <td>Contra Costa</td>\n",
       "      <td>0.489915</td>\n",
       "      <td>N</td>\n",
       "      <td>Clear</td>\n",
       "      <td>False</td>\n",
       "      <td>...</td>\n",
       "      <td>False</td>\n",
       "      <td>False</td>\n",
       "      <td>Day</td>\n",
       "      <td>0.0</td>\n",
       "      <td>Jun</td>\n",
       "      <td>0.666667</td>\n",
       "      <td>0.434783</td>\n",
       "      <td>Tue</td>\n",
       "      <td>0.112849</td>\n",
       "      <td>0</td>\n",
       "    </tr>\n",
       "    <tr>\n",
       "      <th>3</th>\n",
       "      <td>3</td>\n",
       "      <td>0.507039</td>\n",
       "      <td>0.237035</td>\n",
       "      <td>0.0</td>\n",
       "      <td>R</td>\n",
       "      <td>Santa Clara</td>\n",
       "      <td>0.491187</td>\n",
       "      <td>N</td>\n",
       "      <td>Clear</td>\n",
       "      <td>False</td>\n",
       "      <td>...</td>\n",
       "      <td>False</td>\n",
       "      <td>False</td>\n",
       "      <td>Day</td>\n",
       "      <td>0.0</td>\n",
       "      <td>Jun</td>\n",
       "      <td>0.666667</td>\n",
       "      <td>0.434783</td>\n",
       "      <td>Tue</td>\n",
       "      <td>0.112849</td>\n",
       "      <td>1</td>\n",
       "    </tr>\n",
       "    <tr>\n",
       "      <th>4</th>\n",
       "      <td>2</td>\n",
       "      <td>0.498200</td>\n",
       "      <td>0.249386</td>\n",
       "      <td>0.0</td>\n",
       "      <td>R</td>\n",
       "      <td>Santa Clara</td>\n",
       "      <td>0.491550</td>\n",
       "      <td>VAR</td>\n",
       "      <td>Clear</td>\n",
       "      <td>False</td>\n",
       "      <td>...</td>\n",
       "      <td>False</td>\n",
       "      <td>False</td>\n",
       "      <td>Day</td>\n",
       "      <td>0.0</td>\n",
       "      <td>Jun</td>\n",
       "      <td>0.666667</td>\n",
       "      <td>0.434783</td>\n",
       "      <td>Tue</td>\n",
       "      <td>0.219759</td>\n",
       "      <td>0</td>\n",
       "    </tr>\n",
       "  </tbody>\n",
       "</table>\n",
       "<p>5 rows × 29 columns</p>\n",
       "</div>"
      ],
      "text/plain": [
       "   Severity  Start_Lat  Start_Lng  Distance Side        County  Pressure  \\\n",
       "0         3   0.586512   0.216692       0.0    R        Solano  0.490460   \n",
       "1         3   0.538525   0.231791       0.0    R       Alameda  0.491550   \n",
       "2         2   0.566540   0.233155       0.0    R  Contra Costa  0.489915   \n",
       "3         3   0.507039   0.237035       0.0    R   Santa Clara  0.491187   \n",
       "4         2   0.498200   0.249386       0.0    R   Santa Clara  0.491550   \n",
       "\n",
       "  Wind_Direction Weather_Condition  Amenity  ...  Traffic_Calming  \\\n",
       "0            VAR             Clear    False  ...            False   \n",
       "1              W             Clear    False  ...            False   \n",
       "2              N             Clear    False  ...            False   \n",
       "3              N             Clear    False  ...            False   \n",
       "4            VAR             Clear    False  ...            False   \n",
       "\n",
       "   Traffic_Signal  Sunrise_Sunset  Year  Month       Day      Hour  Weekday  \\\n",
       "0           False             Day   0.0    Jun  0.666667  0.434783      Tue   \n",
       "1           False             Day   0.0    Jun  0.666667  0.434783      Tue   \n",
       "2           False             Day   0.0    Jun  0.666667  0.434783      Tue   \n",
       "3           False             Day   0.0    Jun  0.666667  0.434783      Tue   \n",
       "4           False             Day   0.0    Jun  0.666667  0.434783      Tue   \n",
       "\n",
       "   Time_Duration  Severity3  \n",
       "0       0.112849          1  \n",
       "1       0.207880          1  \n",
       "2       0.112849          0  \n",
       "3       0.112849          1  \n",
       "4       0.219759          0  \n",
       "\n",
       "[5 rows x 29 columns]"
      ]
     },
     "execution_count": 7,
     "metadata": {},
     "output_type": "execute_result"
    }
   ],
   "source": [
    "#2. MinMaxScaler\n",
    "from sklearn.preprocessing import MinMaxScaler\n",
    "scaler = MinMaxScaler()\n",
    "features = ['Pressure','Distance','Start_Lng','Start_Lat','Year','Day','Hour','Time_Duration']\n",
    "full_data[features] = scaler.fit_transform(full_data[features])\n",
    "full_data.head()"
   ]
  },
  {
   "cell_type": "code",
   "execution_count": 8,
   "metadata": {},
   "outputs": [],
   "source": [
    "from sklearn.model_selection import train_test_split\n",
    "from sklearn.metrics import mean_squared_error"
   ]
  },
  {
   "cell_type": "code",
   "execution_count": 9,
   "metadata": {},
   "outputs": [
    {
     "data": {
      "text/plain": [
       "((149292, 113), (63983, 113))"
      ]
     },
     "execution_count": 9,
     "metadata": {},
     "output_type": "execute_result"
    }
   ],
   "source": [
    "#3. Split Trian set and Test set\n",
    "x = full_data.drop(['Year', 'Severity', 'Severity3'], axis=1)\n",
    "y = full_data['Severity3']\n",
    "\n",
    "x = x.replace([True, False], [1,0])\n",
    "\n",
    "category = ['Side','Wind_Direction','Weekday', 'County', 'Weather_Condition', 'Sunrise_Sunset', 'Month']\n",
    "x[category] = x[category].astype('category')\n",
    "x = pd.get_dummies(x, columns=category, drop_first=True)\n",
    "\n",
    "x_Train, x_test, y_Train, y_test = train_test_split(x, y, test_size=0.30, random_state=88)\n",
    "x_Train.shape,x_test.shape"
   ]
  },
  {
   "cell_type": "code",
   "execution_count": 10,
   "metadata": {},
   "outputs": [
    {
     "data": {
      "text/plain": [
       "((134362, 113), (14930, 113))"
      ]
     },
     "execution_count": 10,
     "metadata": {},
     "output_type": "execute_result"
    }
   ],
   "source": [
    "#4. Split train and validation set\n",
    "X_train, x_val, Y_train, y_val = train_test_split(x_Train, y_Train, test_size=0.10, random_state=88)\n",
    "X_train.shape,x_val.shape"
   ]
  },
  {
   "cell_type": "markdown",
   "metadata": {},
   "source": [
    "### 2. Logistic Regression Model"
   ]
  },
  {
   "cell_type": "code",
   "execution_count": 11,
   "metadata": {},
   "outputs": [
    {
     "data": {
      "text/plain": [
       "GridSearchCV(cv=5, estimator=LogisticRegression(max_iter=1000), n_jobs=8,\n",
       "             param_grid={'C': array([1.e-02, 1.e-01, 1.e+00, 1.e+01, 1.e+02]),\n",
       "                         'class_weight': ['balanced']},\n",
       "             scoring='f1_macro')"
      ]
     },
     "execution_count": 11,
     "metadata": {},
     "output_type": "execute_result"
    }
   ],
   "source": [
    "from sklearn.linear_model import LogisticRegression\n",
    "from sklearn.model_selection import GridSearchCV\n",
    "from sklearn.metrics import classification_report\n",
    "clf_base = LogisticRegression(max_iter = 1000)\n",
    "grid = {'C': 10.0 ** np.arange(-2, 3),\n",
    "        'class_weight': ['balanced']}\n",
    "clf_lr = GridSearchCV(clf_base, grid, cv=5, n_jobs=8, scoring='f1_macro')\n",
    "\n",
    "clf_lr.fit(X_train, Y_train)"
   ]
  },
  {
   "cell_type": "code",
   "execution_count": 12,
   "metadata": {},
   "outputs": [
    {
     "name": "stdout",
     "output_type": "stream",
     "text": [
      "Best parameters scores:\n",
      "{'C': 100.0, 'class_weight': 'balanced'}\n",
      "Train score: 0.7074505882625046\n",
      "Validation score: 0.7106317425328467\n",
      "              precision    recall  f1-score   support\n",
      "\n",
      "           0       0.84      0.64      0.73      8934\n",
      "           1       0.60      0.81      0.69      5996\n",
      "\n",
      "    accuracy                           0.71     14930\n",
      "   macro avg       0.72      0.73      0.71     14930\n",
      "weighted avg       0.74      0.71      0.71     14930\n",
      "\n"
     ]
    }
   ],
   "source": [
    "print(\"Best parameters scores:\")\n",
    "print(clf_lr.best_params_)\n",
    "print(\"Train score:\", clf_lr.score(X_train, Y_train))\n",
    "print(\"Validation score:\", clf_lr.score(x_val, y_val))\n",
    "\n",
    "coef = clf_lr.best_estimator_.coef_\n",
    "intercept = clf_lr.best_estimator_.intercept_\n",
    "print (classification_report(y_val, clf_lr.predict(x_val)))"
   ]
  },
  {
   "cell_type": "code",
   "execution_count": 13,
   "metadata": {},
   "outputs": [
    {
     "data": {
      "text/plain": [
       "LogisticRegression(C=100.0, class_weight='balanced', max_iter=1000)"
      ]
     },
     "execution_count": 13,
     "metadata": {},
     "output_type": "execute_result"
    }
   ],
   "source": [
    "#Use the best model\n",
    "lr = LogisticRegression(**clf_lr.best_params_, max_iter = 1000)\n",
    "lr.fit(X_train, Y_train)"
   ]
  },
  {
   "cell_type": "markdown",
   "metadata": {},
   "source": [
    "## 3. Random Forest Model"
   ]
  },
  {
   "cell_type": "code",
   "execution_count": 14,
   "metadata": {},
   "outputs": [
    {
     "name": "stdout",
     "output_type": "stream",
     "text": [
      "Fitting 5 folds for each of 16 candidates, totalling 80 fits\n",
      "[CV] max_depth=5, n_estimators=50 ....................................\n"
     ]
    },
    {
     "name": "stderr",
     "output_type": "stream",
     "text": [
      "[Parallel(n_jobs=1)]: Using backend SequentialBackend with 1 concurrent workers.\n"
     ]
    },
    {
     "name": "stdout",
     "output_type": "stream",
     "text": [
      "[CV] ..................... max_depth=5, n_estimators=50, total=  24.2s\n",
      "[CV] max_depth=5, n_estimators=50 ....................................\n"
     ]
    },
    {
     "name": "stderr",
     "output_type": "stream",
     "text": [
      "[Parallel(n_jobs=1)]: Done   1 out of   1 | elapsed:   24.2s remaining:    0.0s\n"
     ]
    },
    {
     "name": "stdout",
     "output_type": "stream",
     "text": [
      "[CV] ..................... max_depth=5, n_estimators=50, total=  25.4s\n",
      "[CV] max_depth=5, n_estimators=50 ....................................\n",
      "[CV] ..................... max_depth=5, n_estimators=50, total=  24.6s\n",
      "[CV] max_depth=5, n_estimators=50 ....................................\n",
      "[CV] ..................... max_depth=5, n_estimators=50, total=  24.6s\n",
      "[CV] max_depth=5, n_estimators=50 ....................................\n",
      "[CV] ..................... max_depth=5, n_estimators=50, total=  24.9s\n",
      "[CV] max_depth=5, n_estimators=100 ...................................\n",
      "[CV] .................... max_depth=5, n_estimators=100, total=  50.5s\n",
      "[CV] max_depth=5, n_estimators=100 ...................................\n",
      "[CV] .................... max_depth=5, n_estimators=100, total=  49.0s\n",
      "[CV] max_depth=5, n_estimators=100 ...................................\n",
      "[CV] .................... max_depth=5, n_estimators=100, total=  49.6s\n",
      "[CV] max_depth=5, n_estimators=100 ...................................\n",
      "[CV] .................... max_depth=5, n_estimators=100, total=  52.4s\n",
      "[CV] max_depth=5, n_estimators=100 ...................................\n",
      "[CV] .................... max_depth=5, n_estimators=100, total=  51.2s\n",
      "[CV] max_depth=5, n_estimators=200 ...................................\n",
      "[CV] .................... max_depth=5, n_estimators=200, total= 1.8min\n",
      "[CV] max_depth=5, n_estimators=200 ...................................\n",
      "[CV] .................... max_depth=5, n_estimators=200, total= 1.6min\n",
      "[CV] max_depth=5, n_estimators=200 ...................................\n",
      "[CV] .................... max_depth=5, n_estimators=200, total= 1.8min\n",
      "[CV] max_depth=5, n_estimators=200 ...................................\n",
      "[CV] .................... max_depth=5, n_estimators=200, total= 1.7min\n",
      "[CV] max_depth=5, n_estimators=200 ...................................\n",
      "[CV] .................... max_depth=5, n_estimators=200, total= 1.8min\n",
      "[CV] max_depth=5, n_estimators=500 ...................................\n",
      "[CV] .................... max_depth=5, n_estimators=500, total= 4.1min\n",
      "[CV] max_depth=5, n_estimators=500 ...................................\n",
      "[CV] .................... max_depth=5, n_estimators=500, total= 4.2min\n",
      "[CV] max_depth=5, n_estimators=500 ...................................\n",
      "[CV] .................... max_depth=5, n_estimators=500, total= 4.1min\n",
      "[CV] max_depth=5, n_estimators=500 ...................................\n",
      "[CV] .................... max_depth=5, n_estimators=500, total= 4.2min\n",
      "[CV] max_depth=5, n_estimators=500 ...................................\n",
      "[CV] .................... max_depth=5, n_estimators=500, total= 4.3min\n",
      "[CV] max_depth=10, n_estimators=50 ...................................\n",
      "[CV] .................... max_depth=10, n_estimators=50, total=  46.2s\n",
      "[CV] max_depth=10, n_estimators=50 ...................................\n",
      "[CV] .................... max_depth=10, n_estimators=50, total=  48.1s\n",
      "[CV] max_depth=10, n_estimators=50 ...................................\n",
      "[CV] .................... max_depth=10, n_estimators=50, total=  47.5s\n",
      "[CV] max_depth=10, n_estimators=50 ...................................\n",
      "[CV] .................... max_depth=10, n_estimators=50, total=  51.0s\n",
      "[CV] max_depth=10, n_estimators=50 ...................................\n",
      "[CV] .................... max_depth=10, n_estimators=50, total=  46.6s\n",
      "[CV] max_depth=10, n_estimators=100 ..................................\n",
      "[CV] ................... max_depth=10, n_estimators=100, total= 1.6min\n",
      "[CV] max_depth=10, n_estimators=100 ..................................\n",
      "[CV] ................... max_depth=10, n_estimators=100, total= 1.6min\n",
      "[CV] max_depth=10, n_estimators=100 ..................................\n",
      "[CV] ................... max_depth=10, n_estimators=100, total= 1.8min\n",
      "[CV] max_depth=10, n_estimators=100 ..................................\n",
      "[CV] ................... max_depth=10, n_estimators=100, total= 1.6min\n",
      "[CV] max_depth=10, n_estimators=100 ..................................\n",
      "[CV] ................... max_depth=10, n_estimators=100, total= 1.6min\n",
      "[CV] max_depth=10, n_estimators=200 ..................................\n",
      "[CV] ................... max_depth=10, n_estimators=200, total= 3.4min\n",
      "[CV] max_depth=10, n_estimators=200 ..................................\n",
      "[CV] ................... max_depth=10, n_estimators=200, total= 3.3min\n",
      "[CV] max_depth=10, n_estimators=200 ..................................\n",
      "[CV] ................... max_depth=10, n_estimators=200, total= 3.4min\n",
      "[CV] max_depth=10, n_estimators=200 ..................................\n",
      "[CV] ................... max_depth=10, n_estimators=200, total= 3.2min\n",
      "[CV] max_depth=10, n_estimators=200 ..................................\n",
      "[CV] ................... max_depth=10, n_estimators=200, total= 3.1min\n",
      "[CV] max_depth=10, n_estimators=500 ..................................\n",
      "[CV] ................... max_depth=10, n_estimators=500, total= 7.9min\n",
      "[CV] max_depth=10, n_estimators=500 ..................................\n",
      "[CV] ................... max_depth=10, n_estimators=500, total= 8.0min\n",
      "[CV] max_depth=10, n_estimators=500 ..................................\n",
      "[CV] ................... max_depth=10, n_estimators=500, total= 8.1min\n",
      "[CV] max_depth=10, n_estimators=500 ..................................\n",
      "[CV] ................... max_depth=10, n_estimators=500, total= 8.1min\n",
      "[CV] max_depth=10, n_estimators=500 ..................................\n",
      "[CV] ................... max_depth=10, n_estimators=500, total= 8.1min\n",
      "[CV] max_depth=15, n_estimators=50 ...................................\n",
      "[CV] .................... max_depth=15, n_estimators=50, total= 1.1min\n",
      "[CV] max_depth=15, n_estimators=50 ...................................\n",
      "[CV] .................... max_depth=15, n_estimators=50, total= 1.1min\n",
      "[CV] max_depth=15, n_estimators=50 ...................................\n",
      "[CV] .................... max_depth=15, n_estimators=50, total= 1.1min\n",
      "[CV] max_depth=15, n_estimators=50 ...................................\n",
      "[CV] .................... max_depth=15, n_estimators=50, total= 1.1min\n",
      "[CV] max_depth=15, n_estimators=50 ...................................\n",
      "[CV] .................... max_depth=15, n_estimators=50, total= 1.1min\n",
      "[CV] max_depth=15, n_estimators=100 ..................................\n",
      "[CV] ................... max_depth=15, n_estimators=100, total= 2.2min\n",
      "[CV] max_depth=15, n_estimators=100 ..................................\n",
      "[CV] ................... max_depth=15, n_estimators=100, total= 2.2min\n",
      "[CV] max_depth=15, n_estimators=100 ..................................\n",
      "[CV] ................... max_depth=15, n_estimators=100, total= 2.2min\n",
      "[CV] max_depth=15, n_estimators=100 ..................................\n",
      "[CV] ................... max_depth=15, n_estimators=100, total= 2.2min\n",
      "[CV] max_depth=15, n_estimators=100 ..................................\n",
      "[CV] ................... max_depth=15, n_estimators=100, total= 2.1min\n",
      "[CV] max_depth=15, n_estimators=200 ..................................\n",
      "[CV] ................... max_depth=15, n_estimators=200, total= 4.3min\n",
      "[CV] max_depth=15, n_estimators=200 ..................................\n",
      "[CV] ................... max_depth=15, n_estimators=200, total= 4.3min\n",
      "[CV] max_depth=15, n_estimators=200 ..................................\n",
      "[CV] ................... max_depth=15, n_estimators=200, total= 4.3min\n",
      "[CV] max_depth=15, n_estimators=200 ..................................\n",
      "[CV] ................... max_depth=15, n_estimators=200, total= 4.3min\n",
      "[CV] max_depth=15, n_estimators=200 ..................................\n",
      "[CV] ................... max_depth=15, n_estimators=200, total= 4.3min\n",
      "[CV] max_depth=15, n_estimators=500 ..................................\n",
      "[CV] ................... max_depth=15, n_estimators=500, total=10.9min\n",
      "[CV] max_depth=15, n_estimators=500 ..................................\n",
      "[CV] ................... max_depth=15, n_estimators=500, total=11.0min\n",
      "[CV] max_depth=15, n_estimators=500 ..................................\n",
      "[CV] ................... max_depth=15, n_estimators=500, total=10.8min\n",
      "[CV] max_depth=15, n_estimators=500 ..................................\n",
      "[CV] ................... max_depth=15, n_estimators=500, total=10.8min\n",
      "[CV] max_depth=15, n_estimators=500 ..................................\n",
      "[CV] ................... max_depth=15, n_estimators=500, total=10.8min\n",
      "[CV] max_depth=30, n_estimators=50 ...................................\n",
      "[CV] .................... max_depth=30, n_estimators=50, total= 1.3min\n",
      "[CV] max_depth=30, n_estimators=50 ...................................\n",
      "[CV] .................... max_depth=30, n_estimators=50, total= 1.3min\n",
      "[CV] max_depth=30, n_estimators=50 ...................................\n",
      "[CV] .................... max_depth=30, n_estimators=50, total= 1.3min\n",
      "[CV] max_depth=30, n_estimators=50 ...................................\n",
      "[CV] .................... max_depth=30, n_estimators=50, total= 1.3min\n",
      "[CV] max_depth=30, n_estimators=50 ...................................\n",
      "[CV] .................... max_depth=30, n_estimators=50, total= 1.3min\n",
      "[CV] max_depth=30, n_estimators=100 ..................................\n",
      "[CV] ................... max_depth=30, n_estimators=100, total= 2.7min\n",
      "[CV] max_depth=30, n_estimators=100 ..................................\n",
      "[CV] ................... max_depth=30, n_estimators=100, total= 2.7min\n",
      "[CV] max_depth=30, n_estimators=100 ..................................\n",
      "[CV] ................... max_depth=30, n_estimators=100, total= 2.7min\n",
      "[CV] max_depth=30, n_estimators=100 ..................................\n",
      "[CV] ................... max_depth=30, n_estimators=100, total= 2.6min\n",
      "[CV] max_depth=30, n_estimators=100 ..................................\n",
      "[CV] ................... max_depth=30, n_estimators=100, total= 2.6min\n",
      "[CV] max_depth=30, n_estimators=200 ..................................\n",
      "[CV] ................... max_depth=30, n_estimators=200, total= 5.3min\n",
      "[CV] max_depth=30, n_estimators=200 ..................................\n",
      "[CV] ................... max_depth=30, n_estimators=200, total= 5.3min\n",
      "[CV] max_depth=30, n_estimators=200 ..................................\n",
      "[CV] ................... max_depth=30, n_estimators=200, total= 5.3min\n",
      "[CV] max_depth=30, n_estimators=200 ..................................\n",
      "[CV] ................... max_depth=30, n_estimators=200, total= 5.2min\n",
      "[CV] max_depth=30, n_estimators=200 ..................................\n",
      "[CV] ................... max_depth=30, n_estimators=200, total= 5.1min\n",
      "[CV] max_depth=30, n_estimators=500 ..................................\n",
      "[CV] ................... max_depth=30, n_estimators=500, total=13.1min\n",
      "[CV] max_depth=30, n_estimators=500 ..................................\n",
      "[CV] ................... max_depth=30, n_estimators=500, total=13.3min\n",
      "[CV] max_depth=30, n_estimators=500 ..................................\n",
      "[CV] ................... max_depth=30, n_estimators=500, total=13.2min\n",
      "[CV] max_depth=30, n_estimators=500 ..................................\n",
      "[CV] ................... max_depth=30, n_estimators=500, total=13.0min\n",
      "[CV] max_depth=30, n_estimators=500 ..................................\n",
      "[CV] ................... max_depth=30, n_estimators=500, total=13.0min\n"
     ]
    },
    {
     "name": "stderr",
     "output_type": "stream",
     "text": [
      "[Parallel(n_jobs=1)]: Done  80 out of  80 | elapsed: 308.6min finished\n"
     ]
    },
    {
     "name": "stdout",
     "output_type": "stream",
     "text": [
      "time: 19543.47 s\n",
      "Best parameters scores:\n",
      "{'max_depth': 30, 'n_estimators': 500}\n",
      "Train score: 0.950921060327081\n",
      "Validation score: 0.6837807090312519\n"
     ]
    }
   ],
   "source": [
    "import time\n",
    "from sklearn.ensemble import RandomForestRegressor\n",
    "\n",
    "from sklearn.model_selection import GridSearchCV\n",
    "from sklearn.tree import DecisionTreeRegressor\n",
    "from sklearn.model_selection import KFold\n",
    "\n",
    "grid_values = {\"n_estimators\": [50, 100, 200, 500], \"max_depth\": [5, 10, 15, 30]}\n",
    "\n",
    "tic = time.time()\n",
    "\n",
    "rf2 = RandomForestRegressor() \n",
    "\n",
    "cv = KFold(n_splits=5,random_state=333,shuffle=True) \n",
    "grid = GridSearchCV(rf2, param_grid=grid_values, scoring='r2', cv=cv,verbose=2)\n",
    "grid.fit(X_train, Y_train)\n",
    "\n",
    "toc = time.time()\n",
    "\n",
    "print('time:', round(toc-tic, 2),'s')\n",
    "print(\"Best parameters scores:\")\n",
    "print(grid.best_params_)\n",
    "print(\"Train score:\", grid.score(X_train, Y_train))\n",
    "print(\"Validation score:\", grid.score(x_val, y_val))"
   ]
  },
  {
   "cell_type": "code",
   "execution_count": 15,
   "metadata": {},
   "outputs": [
    {
     "name": "stdout",
     "output_type": "stream",
     "text": [
      "time: 19565.17 s\n",
      "Best parameters scores:\n",
      "{'max_depth': 30, 'n_estimators': 500}\n",
      "Train score: 0.950921060327081\n",
      "Validation score: 0.6837807090312519\n"
     ]
    }
   ],
   "source": [
    "toc = time.time()\n",
    "\n",
    "print('time:', round(toc-tic, 2),'s')\n",
    "print(\"Best parameters scores:\")\n",
    "print(grid.best_params_)\n",
    "print(\"Train score:\", grid.score(X_train, Y_train))\n",
    "print(\"Validation score:\", grid.score(x_val, y_val))"
   ]
  },
  {
   "cell_type": "code",
   "execution_count": 16,
   "metadata": {},
   "outputs": [
    {
     "name": "stdout",
     "output_type": "stream",
     "text": [
      "Default scores:\n",
      "Train score: 0.9837602893675295\n",
      "Validation score: 0.8330207635632954\n"
     ]
    }
   ],
   "source": [
    "rf2 = RandomForestClassifier(max_depth = 30, n_estimators = 500)\n",
    "\n",
    "print(\"Default scores:\")\n",
    "rf2.fit(X_train, Y_train)\n",
    "print(\"Train score:\", rf2.score(X_train, Y_train))\n",
    "print(\"Validation score:\", rf2.score(x_val, y_val))"
   ]
  },
  {
   "cell_type": "markdown",
   "metadata": {},
   "source": [
    "## 4. Naive Bayes"
   ]
  },
  {
   "cell_type": "code",
   "execution_count": 17,
   "metadata": {},
   "outputs": [
    {
     "name": "stdout",
     "output_type": "stream",
     "text": [
      "Train score: 0.5293981929414566\n",
      "Validation score: 0.5275954454119223\n"
     ]
    }
   ],
   "source": [
    "gnb = GaussianNB()\n",
    "gnb.fit(X_train, Y_train)\n",
    "\n",
    "print(\"Train score:\", gnb.score(X_train, Y_train))\n",
    "print(\"Validation score:\", gnb.score(x_val, y_val))"
   ]
  },
  {
   "cell_type": "markdown",
   "metadata": {},
   "source": [
    "## 5. Test Set Performance\n",
    "\n",
    "### (a) Logistic Regression Model"
   ]
  },
  {
   "cell_type": "code",
   "execution_count": 18,
   "metadata": {},
   "outputs": [
    {
     "name": "stdout",
     "output_type": "stream",
     "text": [
      "              precision    recall  f1-score   support\n",
      "\n",
      "           0       0.84      0.64      0.72     38590\n",
      "           1       0.59      0.81      0.69     25393\n",
      "\n",
      "    accuracy                           0.71     63983\n",
      "   macro avg       0.71      0.72      0.70     63983\n",
      "weighted avg       0.74      0.71      0.71     63983\n",
      "\n"
     ]
    }
   ],
   "source": [
    "from sklearn.metrics import accuracy_score\n",
    "from sklearn.metrics import f1_score\n",
    "\n",
    "y_pred = lr.predict(x_test)\n",
    "\n",
    "accuracy[\"Logistic Regression\"] = accuracy_score(y_test, y_pred)\n",
    "f1[\"Logistic Regression\"] = f1_score(y_test, y_pred, average=\"macro\")\n",
    "\n",
    "print(classification_report(y_test, y_pred))"
   ]
  },
  {
   "cell_type": "code",
   "execution_count": 19,
   "metadata": {},
   "outputs": [
    {
     "data": {
      "image/png": "[encoded data removed]",
      "text/plain": [
       "<Figure size 576x360 with 2 Axes>"
      ]
     },
     "metadata": {
      "needs_background": "light"
     },
     "output_type": "display_data"
    }
   ],
   "source": [
    "from sklearn.metrics import confusion_matrix\n",
    "\n",
    "y_pred = lr.predict(x_test)\n",
    "confmat = confusion_matrix(y_true=y_test, y_pred=y_pred)\n",
    "\n",
    "index = [\"Actual Severity 1\", \"Actual Severity 2\"]\n",
    "columns = [\"Predicted Severity 1\", \"Predicted Severity 2\"]\n",
    "conf_matrix = pd.DataFrame(data=confmat, columns=columns, index=index)\n",
    "plt.figure(figsize=(8, 5))\n",
    "sns.heatmap(conf_matrix, annot=True, fmt=\"d\", cmap=\"YlGnBu\")\n",
    "plt.title(\"Confusion Matrix - Logistic Regression\")\n",
    "plt.show()"
   ]
  },
  {
   "cell_type": "code",
   "execution_count": 20,
   "metadata": {},
   "outputs": [
    {
     "name": "stdout",
     "output_type": "stream",
     "text": [
      "[[0.98284208 0.01715792]\n",
      " [0.36792403 0.63207597]\n",
      " [0.37891823 0.62108177]\n",
      " ...\n",
      " [0.2490101  0.7509899 ]\n",
      " [0.35056945 0.64943055]\n",
      " [0.86766049 0.13233951]]\n"
     ]
    },
    {
     "data": {
      "image/png": "[encoded data removed]",
      "text/plain": [
       "<Figure size 432x288 with 1 Axes>"
      ]
     },
     "metadata": {
      "needs_background": "light"
     },
     "output_type": "display_data"
    }
   ],
   "source": [
    "from sklearn.preprocessing import label_binarize\n",
    "from sklearn.metrics import precision_recall_curve\n",
    "from sklearn.metrics import roc_curve\n",
    "from sklearn.preprocessing import OneHotEncoder\n",
    "enc = OneHotEncoder()\n",
    "Y = label_binarize(y_test, classes=[0, 1])\n",
    "Y = enc.fit_transform(Y).toarray()\n",
    "\n",
    "y_score = lr.predict_proba(x_test)\n",
    "print(y_score)\n",
    "precision[\"Logistic Regression\"], recall[\"Logistic Regression\"], _ = precision_recall_curve(Y.ravel(), y_score.ravel())\n",
    "fpr[\"Logistic Regression\"], tpr[\"Logistic Regression\"], _ = roc_curve(Y.ravel(), y_score.ravel())\n",
    "\n",
    "plt.step(recall[\"Logistic Regression\"], precision[\"Logistic Regression\"], where=\"post\")\n",
    "\n",
    "plt.xlabel(\"Recall\")\n",
    "plt.ylabel(\"Precision\")\n",
    "plt.xlim([0, 1])\n",
    "plt.ylim([0, 1.01])\n",
    "plt.title(\"PR Curve - Logisitc Regression\")\n",
    "plt.show()"
   ]
  },
  {
   "cell_type": "code",
   "execution_count": 21,
   "metadata": {},
   "outputs": [
    {
     "data": {
      "image/png": "[encoded data removed]",
      "text/plain": [
       "<Figure size 432x288 with 1 Axes>"
      ]
     },
     "metadata": {
      "needs_background": "light"
     },
     "output_type": "display_data"
    }
   ],
   "source": [
    "plt.step(fpr[\"Logistic Regression\"], tpr[\"Logistic Regression\"], where=\"post\")\n",
    "\n",
    "plt.title(\"ROC curve - Logistic Regression\")\n",
    "plt.xlabel(\"False Positive Rate\")\n",
    "plt.ylabel(\"True Positive Rate\")\n",
    "plt.xlim([-0.01, 1.01])\n",
    "plt.ylim([-0.01, 1.01])\n",
    "plt.show()"
   ]
  },
  {
   "cell_type": "markdown",
   "metadata": {},
   "source": [
    "### (b) Random Forest "
   ]
  },
  {
   "cell_type": "code",
   "execution_count": 22,
   "metadata": {},
   "outputs": [
    {
     "name": "stdout",
     "output_type": "stream",
     "text": [
      "              precision    recall  f1-score   support\n",
      "\n",
      "           0       0.87      0.84      0.86     38590\n",
      "           1       0.77      0.82      0.79     25393\n",
      "\n",
      "    accuracy                           0.83     63983\n",
      "   macro avg       0.82      0.83      0.83     63983\n",
      "weighted avg       0.83      0.83      0.83     63983\n",
      "\n"
     ]
    }
   ],
   "source": [
    "y_pred = rf2.predict(x_test)\n",
    "\n",
    "accuracy[\"Random Forest\"] = accuracy_score(y_test.values, y_pred)\n",
    "f1[\"Random Forest\"] = f1_score(y_test, y_pred, average=\"macro\")\n",
    "\n",
    "print(classification_report(y_test, y_pred))"
   ]
  },
  {
   "cell_type": "code",
   "execution_count": 23,
   "metadata": {},
   "outputs": [
    {
     "data": {
      "image/png": "[encoded data removed]",
      "text/plain": [
       "<Figure size 576x360 with 2 Axes>"
      ]
     },
     "metadata": {
      "needs_background": "light"
     },
     "output_type": "display_data"
    }
   ],
   "source": [
    "confmat = confusion_matrix(y_true=y_test, y_pred=y_pred)\n",
    "\n",
    "index = [\"Actual Severity 1\", \"Actual Severity 2\"]\n",
    "columns = [\"Predicted Severity 1\", \"Predicted Severity 2\"]\n",
    "conf_matrix = pd.DataFrame(data=confmat, columns=columns, index=index)\n",
    "plt.figure(figsize=(8, 5))\n",
    "sns.heatmap(conf_matrix, annot=True, fmt=\"d\", cmap=\"YlGnBu\")\n",
    "plt.title(\"Confusion Matrix - Random Forest\")\n",
    "plt.show()"
   ]
  },
  {
   "cell_type": "code",
   "execution_count": 24,
   "metadata": {},
   "outputs": [
    {
     "data": {
      "image/png": "[encoded data removed]",
      "text/plain": [
       "<Figure size 1080x720 with 1 Axes>"
      ]
     },
     "metadata": {
      "needs_background": "light"
     },
     "output_type": "display_data"
    }
   ],
   "source": [
    "importances = pd.DataFrame(np.zeros((x_test.shape[1], 1)), columns=[\"importance\"], index=X_train.columns)\n",
    "\n",
    "importances.iloc[:,0] = rf2.feature_importances_\n",
    "\n",
    "importances = importances.sort_values(by=\"importance\", ascending=False)[:30]\n",
    "\n",
    "plt.figure(figsize=(15, 10))\n",
    "sns.barplot(x=\"importance\", y=importances.index, data=importances)\n",
    "plt.show()"
   ]
  },
  {
   "cell_type": "code",
   "execution_count": 25,
   "metadata": {},
   "outputs": [
    {
     "data": {
      "image/png": "[encoded data removed]",
      "text/plain": [
       "<Figure size 432x288 with 1 Axes>"
      ]
     },
     "metadata": {
      "needs_background": "light"
     },
     "output_type": "display_data"
    }
   ],
   "source": [
    "#PR curve\n",
    "enc = OneHotEncoder()\n",
    "Y = label_binarize(y_test, classes=[0, 1])\n",
    "Y = enc.fit_transform(Y).toarray()\n",
    "\n",
    "y_score = rf2.predict_proba(x_test)\n",
    "\n",
    "precision[\"Random Forest\"], recall[\"Random Forest\"], _ = precision_recall_curve(Y.ravel(), y_score.ravel())\n",
    "fpr[\"Random Forest\"], tpr[\"Random Forest\"], _ = roc_curve(Y.ravel(), y_score.ravel())\n",
    "\n",
    "plt.step(recall[\"Random Forest\"], precision[\"Random Forest\"], where=\"post\")\n",
    "\n",
    "plt.xlabel(\"Recall\")\n",
    "plt.ylabel(\"Precision\")\n",
    "plt.xlim([0, 1])\n",
    "plt.ylim([0, 1.01])\n",
    "plt.title(\"PR Curve - Random Forest\")\n",
    "plt.show()"
   ]
  },
  {
   "cell_type": "code",
   "execution_count": 26,
   "metadata": {},
   "outputs": [
    {
     "data": {
      "image/png": "[encoded data removed]",
      "text/plain": [
       "<Figure size 432x288 with 1 Axes>"
      ]
     },
     "metadata": {
      "needs_background": "light"
     },
     "output_type": "display_data"
    }
   ],
   "source": [
    "plt.step(fpr[\"Random Forest\"], tpr[\"Random Forest\"], where=\"post\")\n",
    "\n",
    "plt.title(\"ROC curve - Random Forest\")\n",
    "plt.xlabel(\"False Positive Rate\")\n",
    "plt.ylabel(\"True Positive Rate\")\n",
    "plt.xlim([0, 1])\n",
    "plt.ylim([0, 1.01])\n",
    "plt.show()"
   ]
  },
  {
   "cell_type": "code",
   "execution_count": 27,
   "metadata": {},
   "outputs": [
    {
     "name": "stdout",
     "output_type": "stream",
     "text": [
      "AUC score: 0.8294961479703354\n"
     ]
    }
   ],
   "source": [
    "from sklearn.metrics import roc_auc_score\n",
    "\n",
    "y_pred = rf2.predict(x_test)\n",
    "print(\"AUC score:\", roc_auc_score(y_test, y_pred))"
   ]
  },
  {
   "cell_type": "markdown",
   "metadata": {},
   "source": [
    "### (c) Naive Bayes"
   ]
  },
  {
   "cell_type": "code",
   "execution_count": 28,
   "metadata": {},
   "outputs": [
    {
     "name": "stdout",
     "output_type": "stream",
     "text": [
      "              precision    recall  f1-score   support\n",
      "\n",
      "           0       0.97      0.22      0.36     38590\n",
      "           1       0.46      0.99      0.62     25393\n",
      "\n",
      "    accuracy                           0.53     63983\n",
      "   macro avg       0.71      0.61      0.49     63983\n",
      "weighted avg       0.76      0.53      0.47     63983\n",
      "\n"
     ]
    }
   ],
   "source": [
    "y_pred = gnb.predict(x_test)\n",
    "\n",
    "accuracy[\"Gaussian Naive Bayes\"] = accuracy_score(y_test, y_pred)\n",
    "f1[\"Gaussian Naive Bayes\"] = f1_score(y_test, y_pred, average=\"macro\")\n",
    "\n",
    "print(classification_report(y_test, y_pred))"
   ]
  },
  {
   "cell_type": "code",
   "execution_count": 29,
   "metadata": {},
   "outputs": [
    {
     "data": {
      "image/png": "[encoded data removed]",
      "text/plain": [
       "<Figure size 576x360 with 2 Axes>"
      ]
     },
     "metadata": {
      "needs_background": "light"
     },
     "output_type": "display_data"
    }
   ],
   "source": [
    "y_pred = gnb.predict(x_test)\n",
    "confmat = confusion_matrix(y_true=y_test, y_pred=y_pred)\n",
    "\n",
    "index = [\"Actual Severity 1\", \"Actual Severity 2\"]\n",
    "columns = [\"Predicted Severity 1\", \"Predicted Severity 2\"]\n",
    "conf_matrix = pd.DataFrame(data=confmat, columns=columns, index=index)\n",
    "plt.figure(figsize=(8, 5))\n",
    "sns.heatmap(conf_matrix, annot=True, fmt=\"d\", cmap=\"YlGnBu\")\n",
    "plt.title(\"Confusion Matrix - Gaussian Naive Bayes\")\n",
    "plt.show()"
   ]
  },
  {
   "cell_type": "code",
   "execution_count": 30,
   "metadata": {},
   "outputs": [
    {
     "data": {
      "image/png": "[encoded data removed]",
      "text/plain": [
       "<Figure size 1296x720 with 1 Axes>"
      ]
     },
     "metadata": {
      "needs_background": "light"
     },
     "output_type": "display_data"
    }
   ],
   "source": [
    "enc = OneHotEncoder()\n",
    "Y = label_binarize(y_test, classes=[0, 1])\n",
    "Y = enc.fit_transform(Y).toarray()\n",
    "\n",
    "y_score = gnb.predict_proba(x_test)\n",
    "\n",
    "precision[\"Gaussian Naive Bayes\"], recall[\"Gaussian Naive Bayes\"], _ = precision_recall_curve(Y.ravel(), y_score.ravel())\n",
    "fpr[\"Gaussian Naive Bayes\"], tpr[\"Gaussian Naive Bayes\"], _ = roc_curve(Y.ravel(), y_score.ravel())\n",
    "\n",
    "plt.figure(figsize=(18, 10))\n",
    "plt.step(recall[\"Gaussian Naive Bayes\"], precision[\"Gaussian Naive Bayes\"], where=\"post\")\n",
    "\n",
    "plt.xlabel(\"Recall\")\n",
    "plt.ylabel(\"Precision\")\n",
    "plt.xlim([0, 1])\n",
    "plt.ylim([0, 1.01])\n",
    "plt.title(\"PR Curve - Gaussian Naive Bayes\")\n",
    "plt.show()"
   ]
  },
  {
   "cell_type": "markdown",
   "metadata": {},
   "source": [
    "### (d) Result"
   ]
  },
  {
   "cell_type": "code",
   "execution_count": 31,
   "metadata": {},
   "outputs": [
    {
     "name": "stderr",
     "output_type": "stream",
     "text": [
      "C:\\Users\\Administrator\\anaconda3\\lib\\site-packages\\seaborn\\_decorators.py:36: FutureWarning: Pass the following variables as keyword args: x, y. From version 0.12, the only valid positional argument will be `data`, and passing other arguments without an explicit keyword will result in an error or misinterpretation.\n",
      "  warnings.warn(\n"
     ]
    },
    {
     "data": {
      "image/png": "[encoded data removed]",
      "text/plain": [
       "<Figure size 432x288 with 1 Axes>"
      ]
     },
     "metadata": {
      "needs_background": "light"
     },
     "output_type": "display_data"
    }
   ],
   "source": [
    "plt.title(\"Accuracy on Validation set for each model\")\n",
    "sns.barplot(list(range(len(accuracy))), list(accuracy.values()))\n",
    "plt.xticks(range(len(accuracy)), labels=accuracy.keys())\n",
    "plt.show()"
   ]
  },
  {
   "cell_type": "code",
   "execution_count": 32,
   "metadata": {},
   "outputs": [
    {
     "name": "stderr",
     "output_type": "stream",
     "text": [
      "C:\\Users\\Administrator\\anaconda3\\lib\\site-packages\\seaborn\\_decorators.py:36: FutureWarning: Pass the following variables as keyword args: x, y. From version 0.12, the only valid positional argument will be `data`, and passing other arguments without an explicit keyword will result in an error or misinterpretation.\n",
      "  warnings.warn(\n"
     ]
    },
    {
     "data": {
      "image/png": "[encoded data removed]",
      "text/plain": [
       "<Figure size 432x288 with 1 Axes>"
      ]
     },
     "metadata": {
      "needs_background": "light"
     },
     "output_type": "display_data"
    }
   ],
   "source": [
    "plt.title(\"F1 Score on Validation set for each model\")\n",
    "sns.barplot(list(range(len(f1))), list(f1.values()))\n",
    "plt.xticks(range(len(f1)), labels=f1.keys())\n",
    "plt.show()"
   ]
  },
  {
   "cell_type": "code",
   "execution_count": 33,
   "metadata": {},
   "outputs": [
    {
     "data": {
      "image/png": "[encoded data removed]",
      "text/plain": [
       "<Figure size 1080x576 with 1 Axes>"
      ]
     },
     "metadata": {
      "needs_background": "light"
     },
     "output_type": "display_data"
    }
   ],
   "source": [
    "plt.figure(figsize=(15, 8))\n",
    "for key in f1.keys():\n",
    "    plt.step(recall[key], precision[key], where=\"post\", label=key)\n",
    "\n",
    "plt.xlabel(\"Recall\")\n",
    "plt.ylabel(\"Precision\")\n",
    "plt.xlim([0, 1])\n",
    "plt.ylim([0, 1.01])\n",
    "plt.title(\"PR curve\")\n",
    "plt.legend()\n",
    "plt.show()"
   ]
  },
  {
   "cell_type": "code",
   "execution_count": 34,
   "metadata": {},
   "outputs": [
    {
     "data": {
      "image/png": "[encoded data removed]",
      "text/plain": [
       "<Figure size 1080x576 with 1 Axes>"
      ]
     },
     "metadata": {
      "needs_background": "light"
     },
     "output_type": "display_data"
    }
   ],
   "source": [
    "plt.figure(figsize=(15, 8))\n",
    "for key in f1.keys():\n",
    "    plt.step(fpr[key], tpr[key], where=\"post\", label=key)\n",
    "\n",
    "plt.xlabel(\"False Positive Rate\")\n",
    "plt.ylabel(\"True Positive Rate\")\n",
    "plt.xlim([0, 1])\n",
    "plt.ylim([0, 1.01])\n",
    "plt.title(\"ROC curve\")\n",
    "plt.legend()\n",
    "plt.show()"
   ]
  },
  {
   "cell_type": "markdown",
   "metadata": {},
   "source": [
    "# Part 2 ---- Add Population Density\n",
    "\n",
    "## 1. Adding Variable and Split Data"
   ]
  },
  {
   "cell_type": "code",
   "execution_count": 35,
   "metadata": {},
   "outputs": [],
   "source": [
    "from sklearn.naive_bayes import CategoricalNB, BernoulliNB, MultinomialNB, GaussianNB\n",
    "from sklearn.neural_network import MLPClassifier\n",
    "from sklearn.ensemble import RandomForestClassifier\n",
    "from sklearn.tree import DecisionTreeClassifier, plot_tree\n",
    "from sklearn.linear_model import LogisticRegression\n",
    "from sklearn.preprocessing import MinMaxScaler\n",
    "from sklearn.metrics import precision_recall_curve\n",
    "from sklearn.metrics import average_precision_score\n",
    "from sklearn.preprocessing import label_binarize"
   ]
  },
  {
   "cell_type": "code",
   "execution_count": 36,
   "metadata": {},
   "outputs": [
    {
     "data": {
      "text/html": [
       "<div>\n",
       "<style scoped>\n",
       "    .dataframe tbody tr th:only-of-type {\n",
       "        vertical-align: middle;\n",
       "    }\n",
       "\n",
       "    .dataframe tbody tr th {\n",
       "        vertical-align: top;\n",
       "    }\n",
       "\n",
       "    .dataframe thead th {\n",
       "        text-align: right;\n",
       "    }\n",
       "</style>\n",
       "<table border=\"1\" class=\"dataframe\">\n",
       "  <thead>\n",
       "    <tr style=\"text-align: right;\">\n",
       "      <th></th>\n",
       "      <th>County</th>\n",
       "      <th>Population Density</th>\n",
       "    </tr>\n",
       "  </thead>\n",
       "  <tbody>\n",
       "    <tr>\n",
       "      <th>0</th>\n",
       "      <td>Alameda</td>\n",
       "      <td>0.118876</td>\n",
       "    </tr>\n",
       "    <tr>\n",
       "      <th>1</th>\n",
       "      <td>Alpine</td>\n",
       "      <td>0.000000</td>\n",
       "    </tr>\n",
       "    <tr>\n",
       "      <th>2</th>\n",
       "      <td>Amador</td>\n",
       "      <td>0.003638</td>\n",
       "    </tr>\n",
       "    <tr>\n",
       "      <th>3</th>\n",
       "      <td>Butte</td>\n",
       "      <td>0.007731</td>\n",
       "    </tr>\n",
       "    <tr>\n",
       "      <th>4</th>\n",
       "      <td>Calaveras</td>\n",
       "      <td>0.002509</td>\n",
       "    </tr>\n",
       "    <tr>\n",
       "      <th>5</th>\n",
       "      <td>Colusa</td>\n",
       "      <td>0.000990</td>\n",
       "    </tr>\n",
       "    <tr>\n",
       "      <th>6</th>\n",
       "      <td>Contra Costa</td>\n",
       "      <td>0.085204</td>\n",
       "    </tr>\n",
       "    <tr>\n",
       "      <th>7</th>\n",
       "      <td>Del Norte</td>\n",
       "      <td>0.001560</td>\n",
       "    </tr>\n",
       "    <tr>\n",
       "      <th>8</th>\n",
       "      <td>El Dorado</td>\n",
       "      <td>0.006078</td>\n",
       "    </tr>\n",
       "    <tr>\n",
       "      <th>9</th>\n",
       "      <td>Fresno</td>\n",
       "      <td>0.009000</td>\n",
       "    </tr>\n",
       "    <tr>\n",
       "      <th>10</th>\n",
       "      <td>Glenn</td>\n",
       "      <td>0.001153</td>\n",
       "    </tr>\n",
       "    <tr>\n",
       "      <th>11</th>\n",
       "      <td>Humboldt</td>\n",
       "      <td>0.002102</td>\n",
       "    </tr>\n",
       "    <tr>\n",
       "      <th>12</th>\n",
       "      <td>Imperial</td>\n",
       "      <td>0.002340</td>\n",
       "    </tr>\n",
       "    <tr>\n",
       "      <th>13</th>\n",
       "      <td>Inyo</td>\n",
       "      <td>0.000012</td>\n",
       "    </tr>\n",
       "    <tr>\n",
       "      <th>14</th>\n",
       "      <td>Kern</td>\n",
       "      <td>0.005921</td>\n",
       "    </tr>\n",
       "    <tr>\n",
       "      <th>15</th>\n",
       "      <td>Kings</td>\n",
       "      <td>0.006316</td>\n",
       "    </tr>\n",
       "    <tr>\n",
       "      <th>16</th>\n",
       "      <td>Lake</td>\n",
       "      <td>0.002905</td>\n",
       "    </tr>\n",
       "    <tr>\n",
       "      <th>17</th>\n",
       "      <td>Lassen</td>\n",
       "      <td>0.000355</td>\n",
       "    </tr>\n",
       "    <tr>\n",
       "      <th>18</th>\n",
       "      <td>Los Angeles</td>\n",
       "      <td>0.140766</td>\n",
       "    </tr>\n",
       "    <tr>\n",
       "      <th>19</th>\n",
       "      <td>Madera</td>\n",
       "      <td>0.004017</td>\n",
       "    </tr>\n",
       "    <tr>\n",
       "      <th>20</th>\n",
       "      <td>Marin</td>\n",
       "      <td>0.028147</td>\n",
       "    </tr>\n",
       "    <tr>\n",
       "      <th>21</th>\n",
       "      <td>Mariposa</td>\n",
       "      <td>0.000640</td>\n",
       "    </tr>\n",
       "    <tr>\n",
       "      <th>22</th>\n",
       "      <td>Mendocino</td>\n",
       "      <td>0.001368</td>\n",
       "    </tr>\n",
       "    <tr>\n",
       "      <th>23</th>\n",
       "      <td>Merced</td>\n",
       "      <td>0.007603</td>\n",
       "    </tr>\n",
       "    <tr>\n",
       "      <th>24</th>\n",
       "      <td>Modoc</td>\n",
       "      <td>0.000052</td>\n",
       "    </tr>\n",
       "    <tr>\n",
       "      <th>25</th>\n",
       "      <td>Mono</td>\n",
       "      <td>0.000180</td>\n",
       "    </tr>\n",
       "    <tr>\n",
       "      <th>26</th>\n",
       "      <td>Monterey</td>\n",
       "      <td>0.007271</td>\n",
       "    </tr>\n",
       "    <tr>\n",
       "      <th>27</th>\n",
       "      <td>Napa</td>\n",
       "      <td>0.010525</td>\n",
       "    </tr>\n",
       "    <tr>\n",
       "      <th>28</th>\n",
       "      <td>Nevada</td>\n",
       "      <td>0.005909</td>\n",
       "    </tr>\n",
       "    <tr>\n",
       "      <th>29</th>\n",
       "      <td>Orange</td>\n",
       "      <td>0.221575</td>\n",
       "    </tr>\n",
       "    <tr>\n",
       "      <th>30</th>\n",
       "      <td>Placer</td>\n",
       "      <td>0.014321</td>\n",
       "    </tr>\n",
       "    <tr>\n",
       "      <th>31</th>\n",
       "      <td>Plumas</td>\n",
       "      <td>0.000361</td>\n",
       "    </tr>\n",
       "    <tr>\n",
       "      <th>32</th>\n",
       "      <td>Riverside</td>\n",
       "      <td>0.017593</td>\n",
       "    </tr>\n",
       "    <tr>\n",
       "      <th>33</th>\n",
       "      <td>Sacramento</td>\n",
       "      <td>0.085530</td>\n",
       "    </tr>\n",
       "    <tr>\n",
       "      <th>34</th>\n",
       "      <td>San Benito</td>\n",
       "      <td>0.002224</td>\n",
       "    </tr>\n",
       "    <tr>\n",
       "      <th>35</th>\n",
       "      <td>San Bernardino</td>\n",
       "      <td>0.005816</td>\n",
       "    </tr>\n",
       "    <tr>\n",
       "      <th>36</th>\n",
       "      <td>San Diego</td>\n",
       "      <td>0.042742</td>\n",
       "    </tr>\n",
       "    <tr>\n",
       "      <th>37</th>\n",
       "      <td>San Francisco</td>\n",
       "      <td>1.000000</td>\n",
       "    </tr>\n",
       "    <tr>\n",
       "      <th>38</th>\n",
       "      <td>San Joaquin</td>\n",
       "      <td>0.028584</td>\n",
       "    </tr>\n",
       "    <tr>\n",
       "      <th>39</th>\n",
       "      <td>San Luis Obispo</td>\n",
       "      <td>0.004663</td>\n",
       "    </tr>\n",
       "    <tr>\n",
       "      <th>40</th>\n",
       "      <td>San Mateo</td>\n",
       "      <td>0.093180</td>\n",
       "    </tr>\n",
       "    <tr>\n",
       "      <th>41</th>\n",
       "      <td>Santa Barbara</td>\n",
       "      <td>0.008930</td>\n",
       "    </tr>\n",
       "    <tr>\n",
       "      <th>42</th>\n",
       "      <td>Santa Clara</td>\n",
       "      <td>0.080303</td>\n",
       "    </tr>\n",
       "    <tr>\n",
       "      <th>43</th>\n",
       "      <td>Santa Cruz</td>\n",
       "      <td>0.034219</td>\n",
       "    </tr>\n",
       "    <tr>\n",
       "      <th>44</th>\n",
       "      <td>Shasta</td>\n",
       "      <td>0.002637</td>\n",
       "    </tr>\n",
       "    <tr>\n",
       "      <th>45</th>\n",
       "      <td>Sierra</td>\n",
       "      <td>0.000105</td>\n",
       "    </tr>\n",
       "    <tr>\n",
       "      <th>46</th>\n",
       "      <td>Siskiyou</td>\n",
       "      <td>0.000326</td>\n",
       "    </tr>\n",
       "    <tr>\n",
       "      <th>47</th>\n",
       "      <td>Solano</td>\n",
       "      <td>0.029189</td>\n",
       "    </tr>\n",
       "    <tr>\n",
       "      <th>48</th>\n",
       "      <td>Sonoma</td>\n",
       "      <td>0.017785</td>\n",
       "    </tr>\n",
       "    <tr>\n",
       "      <th>49</th>\n",
       "      <td>Stanislaus</td>\n",
       "      <td>0.019945</td>\n",
       "    </tr>\n",
       "    <tr>\n",
       "      <th>50</th>\n",
       "      <td>Sutter</td>\n",
       "      <td>0.009064</td>\n",
       "    </tr>\n",
       "    <tr>\n",
       "      <th>51</th>\n",
       "      <td>Tehama</td>\n",
       "      <td>0.001158</td>\n",
       "    </tr>\n",
       "    <tr>\n",
       "      <th>52</th>\n",
       "      <td>Trinity</td>\n",
       "      <td>0.000157</td>\n",
       "    </tr>\n",
       "    <tr>\n",
       "      <th>53</th>\n",
       "      <td>Tulare</td>\n",
       "      <td>0.005245</td>\n",
       "    </tr>\n",
       "    <tr>\n",
       "      <th>54</th>\n",
       "      <td>Tuolumne</td>\n",
       "      <td>0.001356</td>\n",
       "    </tr>\n",
       "    <tr>\n",
       "      <th>55</th>\n",
       "      <td>Ventura</td>\n",
       "      <td>0.025912</td>\n",
       "    </tr>\n",
       "    <tr>\n",
       "      <th>56</th>\n",
       "      <td>Yolo</td>\n",
       "      <td>0.011428</td>\n",
       "    </tr>\n",
       "    <tr>\n",
       "      <th>57</th>\n",
       "      <td>Yuba</td>\n",
       "      <td>0.006555</td>\n",
       "    </tr>\n",
       "  </tbody>\n",
       "</table>\n",
       "</div>"
      ],
      "text/plain": [
       "             County  Population Density\n",
       "0           Alameda            0.118876\n",
       "1            Alpine            0.000000\n",
       "2            Amador            0.003638\n",
       "3             Butte            0.007731\n",
       "4         Calaveras            0.002509\n",
       "5            Colusa            0.000990\n",
       "6      Contra Costa            0.085204\n",
       "7         Del Norte            0.001560\n",
       "8         El Dorado            0.006078\n",
       "9            Fresno            0.009000\n",
       "10            Glenn            0.001153\n",
       "11         Humboldt            0.002102\n",
       "12         Imperial            0.002340\n",
       "13             Inyo            0.000012\n",
       "14             Kern            0.005921\n",
       "15            Kings            0.006316\n",
       "16             Lake            0.002905\n",
       "17           Lassen            0.000355\n",
       "18      Los Angeles            0.140766\n",
       "19           Madera            0.004017\n",
       "20            Marin            0.028147\n",
       "21         Mariposa            0.000640\n",
       "22        Mendocino            0.001368\n",
       "23           Merced            0.007603\n",
       "24            Modoc            0.000052\n",
       "25             Mono            0.000180\n",
       "26         Monterey            0.007271\n",
       "27             Napa            0.010525\n",
       "28           Nevada            0.005909\n",
       "29           Orange            0.221575\n",
       "30           Placer            0.014321\n",
       "31           Plumas            0.000361\n",
       "32        Riverside            0.017593\n",
       "33       Sacramento            0.085530\n",
       "34       San Benito            0.002224\n",
       "35   San Bernardino            0.005816\n",
       "36        San Diego            0.042742\n",
       "37    San Francisco            1.000000\n",
       "38      San Joaquin            0.028584\n",
       "39  San Luis Obispo            0.004663\n",
       "40        San Mateo            0.093180\n",
       "41    Santa Barbara            0.008930\n",
       "42      Santa Clara            0.080303\n",
       "43       Santa Cruz            0.034219\n",
       "44           Shasta            0.002637\n",
       "45           Sierra            0.000105\n",
       "46         Siskiyou            0.000326\n",
       "47           Solano            0.029189\n",
       "48           Sonoma            0.017785\n",
       "49       Stanislaus            0.019945\n",
       "50           Sutter            0.009064\n",
       "51           Tehama            0.001158\n",
       "52          Trinity            0.000157\n",
       "53           Tulare            0.005245\n",
       "54         Tuolumne            0.001356\n",
       "55          Ventura            0.025912\n",
       "56             Yolo            0.011428\n",
       "57             Yuba            0.006555"
      ]
     },
     "execution_count": 36,
     "metadata": {},
     "output_type": "execute_result"
    }
   ],
   "source": [
    "CA_popdensity = pd.read_csv(\"CA_pop_density.csv\")\n",
    "scaler = MinMaxScaler()\n",
    "features = ['Population Density']\n",
    "CA_popdensity[features] = scaler.fit_transform(CA_popdensity[features])\n",
    "CA_popdensity"
   ]
  },
  {
   "cell_type": "code",
   "execution_count": 37,
   "metadata": {},
   "outputs": [
    {
     "data": {
      "text/html": [
       "<div>\n",
       "<style scoped>\n",
       "    .dataframe tbody tr th:only-of-type {\n",
       "        vertical-align: middle;\n",
       "    }\n",
       "\n",
       "    .dataframe tbody tr th {\n",
       "        vertical-align: top;\n",
       "    }\n",
       "\n",
       "    .dataframe thead th {\n",
       "        text-align: right;\n",
       "    }\n",
       "</style>\n",
       "<table border=\"1\" class=\"dataframe\">\n",
       "  <thead>\n",
       "    <tr style=\"text-align: right;\">\n",
       "      <th></th>\n",
       "      <th>Severity</th>\n",
       "      <th>Start_Lat</th>\n",
       "      <th>Start_Lng</th>\n",
       "      <th>Distance</th>\n",
       "      <th>Side</th>\n",
       "      <th>County</th>\n",
       "      <th>Pressure</th>\n",
       "      <th>Wind_Direction</th>\n",
       "      <th>Weather_Condition</th>\n",
       "      <th>Amenity</th>\n",
       "      <th>...</th>\n",
       "      <th>Traffic_Signal</th>\n",
       "      <th>Sunrise_Sunset</th>\n",
       "      <th>Year</th>\n",
       "      <th>Month</th>\n",
       "      <th>Day</th>\n",
       "      <th>Hour</th>\n",
       "      <th>Weekday</th>\n",
       "      <th>Time_Duration</th>\n",
       "      <th>Severity3</th>\n",
       "      <th>Population Density</th>\n",
       "    </tr>\n",
       "  </thead>\n",
       "  <tbody>\n",
       "    <tr>\n",
       "      <th>0</th>\n",
       "      <td>3</td>\n",
       "      <td>0.586512</td>\n",
       "      <td>0.216692</td>\n",
       "      <td>0.0</td>\n",
       "      <td>R</td>\n",
       "      <td>Solano</td>\n",
       "      <td>0.490460</td>\n",
       "      <td>VAR</td>\n",
       "      <td>Clear</td>\n",
       "      <td>False</td>\n",
       "      <td>...</td>\n",
       "      <td>False</td>\n",
       "      <td>Day</td>\n",
       "      <td>0.00</td>\n",
       "      <td>Jun</td>\n",
       "      <td>0.666667</td>\n",
       "      <td>0.434783</td>\n",
       "      <td>Tue</td>\n",
       "      <td>0.112849</td>\n",
       "      <td>1</td>\n",
       "      <td>0.029189</td>\n",
       "    </tr>\n",
       "    <tr>\n",
       "      <th>1</th>\n",
       "      <td>3</td>\n",
       "      <td>0.620332</td>\n",
       "      <td>0.249207</td>\n",
       "      <td>0.0</td>\n",
       "      <td>R</td>\n",
       "      <td>Solano</td>\n",
       "      <td>0.489006</td>\n",
       "      <td>S</td>\n",
       "      <td>Clear</td>\n",
       "      <td>False</td>\n",
       "      <td>...</td>\n",
       "      <td>False</td>\n",
       "      <td>Day</td>\n",
       "      <td>0.00</td>\n",
       "      <td>Jun</td>\n",
       "      <td>0.666667</td>\n",
       "      <td>0.652174</td>\n",
       "      <td>Tue</td>\n",
       "      <td>0.112849</td>\n",
       "      <td>1</td>\n",
       "      <td>0.029189</td>\n",
       "    </tr>\n",
       "    <tr>\n",
       "      <th>2</th>\n",
       "      <td>3</td>\n",
       "      <td>0.630599</td>\n",
       "      <td>0.261717</td>\n",
       "      <td>0.0</td>\n",
       "      <td>R</td>\n",
       "      <td>Solano</td>\n",
       "      <td>0.488461</td>\n",
       "      <td>S</td>\n",
       "      <td>Clear</td>\n",
       "      <td>False</td>\n",
       "      <td>...</td>\n",
       "      <td>False</td>\n",
       "      <td>Night</td>\n",
       "      <td>0.00</td>\n",
       "      <td>Jun</td>\n",
       "      <td>0.666667</td>\n",
       "      <td>0.956522</td>\n",
       "      <td>Tue</td>\n",
       "      <td>0.112849</td>\n",
       "      <td>1</td>\n",
       "      <td>0.029189</td>\n",
       "    </tr>\n",
       "    <tr>\n",
       "      <th>3</th>\n",
       "      <td>3</td>\n",
       "      <td>0.603126</td>\n",
       "      <td>0.231550</td>\n",
       "      <td>0.0</td>\n",
       "      <td>R</td>\n",
       "      <td>Solano</td>\n",
       "      <td>0.489733</td>\n",
       "      <td>W</td>\n",
       "      <td>Clear</td>\n",
       "      <td>False</td>\n",
       "      <td>...</td>\n",
       "      <td>False</td>\n",
       "      <td>Day</td>\n",
       "      <td>0.00</td>\n",
       "      <td>Jun</td>\n",
       "      <td>0.700000</td>\n",
       "      <td>0.391304</td>\n",
       "      <td>Wed</td>\n",
       "      <td>0.112849</td>\n",
       "      <td>1</td>\n",
       "      <td>0.029189</td>\n",
       "    </tr>\n",
       "    <tr>\n",
       "      <th>4</th>\n",
       "      <td>3</td>\n",
       "      <td>0.588146</td>\n",
       "      <td>0.217012</td>\n",
       "      <td>0.0</td>\n",
       "      <td>R</td>\n",
       "      <td>Solano</td>\n",
       "      <td>0.489551</td>\n",
       "      <td>S</td>\n",
       "      <td>Clear</td>\n",
       "      <td>False</td>\n",
       "      <td>...</td>\n",
       "      <td>False</td>\n",
       "      <td>Day</td>\n",
       "      <td>0.00</td>\n",
       "      <td>Jun</td>\n",
       "      <td>0.700000</td>\n",
       "      <td>0.478261</td>\n",
       "      <td>Wed</td>\n",
       "      <td>0.112849</td>\n",
       "      <td>1</td>\n",
       "      <td>0.029189</td>\n",
       "    </tr>\n",
       "    <tr>\n",
       "      <th>...</th>\n",
       "      <td>...</td>\n",
       "      <td>...</td>\n",
       "      <td>...</td>\n",
       "      <td>...</td>\n",
       "      <td>...</td>\n",
       "      <td>...</td>\n",
       "      <td>...</td>\n",
       "      <td>...</td>\n",
       "      <td>...</td>\n",
       "      <td>...</td>\n",
       "      <td>...</td>\n",
       "      <td>...</td>\n",
       "      <td>...</td>\n",
       "      <td>...</td>\n",
       "      <td>...</td>\n",
       "      <td>...</td>\n",
       "      <td>...</td>\n",
       "      <td>...</td>\n",
       "      <td>...</td>\n",
       "      <td>...</td>\n",
       "      <td>...</td>\n",
       "    </tr>\n",
       "    <tr>\n",
       "      <th>213270</th>\n",
       "      <td>2</td>\n",
       "      <td>0.900539</td>\n",
       "      <td>0.169429</td>\n",
       "      <td>0.0</td>\n",
       "      <td>R</td>\n",
       "      <td>Trinity</td>\n",
       "      <td>0.445757</td>\n",
       "      <td>CALM</td>\n",
       "      <td>Clear</td>\n",
       "      <td>False</td>\n",
       "      <td>...</td>\n",
       "      <td>False</td>\n",
       "      <td>Day</td>\n",
       "      <td>1.00</td>\n",
       "      <td>Feb</td>\n",
       "      <td>0.400000</td>\n",
       "      <td>0.521739</td>\n",
       "      <td>Thu</td>\n",
       "      <td>0.397942</td>\n",
       "      <td>0</td>\n",
       "      <td>0.000157</td>\n",
       "    </tr>\n",
       "    <tr>\n",
       "      <th>213271</th>\n",
       "      <td>2</td>\n",
       "      <td>0.833651</td>\n",
       "      <td>0.121187</td>\n",
       "      <td>0.0</td>\n",
       "      <td>R</td>\n",
       "      <td>Trinity</td>\n",
       "      <td>0.443576</td>\n",
       "      <td>CALM</td>\n",
       "      <td>Cloudy</td>\n",
       "      <td>False</td>\n",
       "      <td>...</td>\n",
       "      <td>False</td>\n",
       "      <td>Day</td>\n",
       "      <td>0.75</td>\n",
       "      <td>Dec</td>\n",
       "      <td>0.100000</td>\n",
       "      <td>0.695652</td>\n",
       "      <td>Wed</td>\n",
       "      <td>0.201941</td>\n",
       "      <td>0</td>\n",
       "      <td>0.000157</td>\n",
       "    </tr>\n",
       "    <tr>\n",
       "      <th>213272</th>\n",
       "      <td>2</td>\n",
       "      <td>0.867347</td>\n",
       "      <td>0.114004</td>\n",
       "      <td>0.0</td>\n",
       "      <td>L</td>\n",
       "      <td>Trinity</td>\n",
       "      <td>0.452299</td>\n",
       "      <td>W</td>\n",
       "      <td>Clear</td>\n",
       "      <td>False</td>\n",
       "      <td>...</td>\n",
       "      <td>False</td>\n",
       "      <td>Day</td>\n",
       "      <td>0.75</td>\n",
       "      <td>Dec</td>\n",
       "      <td>0.500000</td>\n",
       "      <td>0.478261</td>\n",
       "      <td>Mon</td>\n",
       "      <td>0.754308</td>\n",
       "      <td>0</td>\n",
       "      <td>0.000157</td>\n",
       "    </tr>\n",
       "    <tr>\n",
       "      <th>213273</th>\n",
       "      <td>2</td>\n",
       "      <td>0.866799</td>\n",
       "      <td>0.144875</td>\n",
       "      <td>0.0</td>\n",
       "      <td>L</td>\n",
       "      <td>Trinity</td>\n",
       "      <td>0.446665</td>\n",
       "      <td>CALM</td>\n",
       "      <td>Clear</td>\n",
       "      <td>True</td>\n",
       "      <td>...</td>\n",
       "      <td>False</td>\n",
       "      <td>Day</td>\n",
       "      <td>0.75</td>\n",
       "      <td>Oct</td>\n",
       "      <td>0.200000</td>\n",
       "      <td>0.565217</td>\n",
       "      <td>Mon</td>\n",
       "      <td>0.469215</td>\n",
       "      <td>0</td>\n",
       "      <td>0.000157</td>\n",
       "    </tr>\n",
       "    <tr>\n",
       "      <th>213274</th>\n",
       "      <td>2</td>\n",
       "      <td>0.628077</td>\n",
       "      <td>0.442417</td>\n",
       "      <td>0.0</td>\n",
       "      <td>R</td>\n",
       "      <td>Alpine</td>\n",
       "      <td>0.450663</td>\n",
       "      <td>CALM</td>\n",
       "      <td>Clear</td>\n",
       "      <td>False</td>\n",
       "      <td>...</td>\n",
       "      <td>False</td>\n",
       "      <td>Day</td>\n",
       "      <td>1.00</td>\n",
       "      <td>Oct</td>\n",
       "      <td>0.533333</td>\n",
       "      <td>0.304348</td>\n",
       "      <td>Sat</td>\n",
       "      <td>0.469215</td>\n",
       "      <td>0</td>\n",
       "      <td>0.000000</td>\n",
       "    </tr>\n",
       "  </tbody>\n",
       "</table>\n",
       "<p>213275 rows × 30 columns</p>\n",
       "</div>"
      ],
      "text/plain": [
       "        Severity  Start_Lat  Start_Lng  Distance Side   County  Pressure  \\\n",
       "0              3   0.586512   0.216692       0.0    R   Solano  0.490460   \n",
       "1              3   0.620332   0.249207       0.0    R   Solano  0.489006   \n",
       "2              3   0.630599   0.261717       0.0    R   Solano  0.488461   \n",
       "3              3   0.603126   0.231550       0.0    R   Solano  0.489733   \n",
       "4              3   0.588146   0.217012       0.0    R   Solano  0.489551   \n",
       "...          ...        ...        ...       ...  ...      ...       ...   \n",
       "213270         2   0.900539   0.169429       0.0    R  Trinity  0.445757   \n",
       "213271         2   0.833651   0.121187       0.0    R  Trinity  0.443576   \n",
       "213272         2   0.867347   0.114004       0.0    L  Trinity  0.452299   \n",
       "213273         2   0.866799   0.144875       0.0    L  Trinity  0.446665   \n",
       "213274         2   0.628077   0.442417       0.0    R   Alpine  0.450663   \n",
       "\n",
       "       Wind_Direction Weather_Condition  Amenity  ...  Traffic_Signal  \\\n",
       "0                 VAR             Clear    False  ...           False   \n",
       "1                   S             Clear    False  ...           False   \n",
       "2                   S             Clear    False  ...           False   \n",
       "3                   W             Clear    False  ...           False   \n",
       "4                   S             Clear    False  ...           False   \n",
       "...               ...               ...      ...  ...             ...   \n",
       "213270           CALM             Clear    False  ...           False   \n",
       "213271           CALM            Cloudy    False  ...           False   \n",
       "213272              W             Clear    False  ...           False   \n",
       "213273           CALM             Clear     True  ...           False   \n",
       "213274           CALM             Clear    False  ...           False   \n",
       "\n",
       "        Sunrise_Sunset  Year  Month       Day      Hour  Weekday  \\\n",
       "0                  Day  0.00    Jun  0.666667  0.434783      Tue   \n",
       "1                  Day  0.00    Jun  0.666667  0.652174      Tue   \n",
       "2                Night  0.00    Jun  0.666667  0.956522      Tue   \n",
       "3                  Day  0.00    Jun  0.700000  0.391304      Wed   \n",
       "4                  Day  0.00    Jun  0.700000  0.478261      Wed   \n",
       "...                ...   ...    ...       ...       ...      ...   \n",
       "213270             Day  1.00    Feb  0.400000  0.521739      Thu   \n",
       "213271             Day  0.75    Dec  0.100000  0.695652      Wed   \n",
       "213272             Day  0.75    Dec  0.500000  0.478261      Mon   \n",
       "213273             Day  0.75    Oct  0.200000  0.565217      Mon   \n",
       "213274             Day  1.00    Oct  0.533333  0.304348      Sat   \n",
       "\n",
       "        Time_Duration  Severity3  Population Density  \n",
       "0            0.112849          1            0.029189  \n",
       "1            0.112849          1            0.029189  \n",
       "2            0.112849          1            0.029189  \n",
       "3            0.112849          1            0.029189  \n",
       "4            0.112849          1            0.029189  \n",
       "...               ...        ...                 ...  \n",
       "213270       0.397942          0            0.000157  \n",
       "213271       0.201941          0            0.000157  \n",
       "213272       0.754308          0            0.000157  \n",
       "213273       0.469215          0            0.000157  \n",
       "213274       0.469215          0            0.000000  \n",
       "\n",
       "[213275 rows x 30 columns]"
      ]
     },
     "execution_count": 37,
     "metadata": {},
     "output_type": "execute_result"
    }
   ],
   "source": [
    "full_data_new = pd.merge(full_data, CA_popdensity)\n",
    "full_data_new"
   ]
  },
  {
   "cell_type": "code",
   "execution_count": 38,
   "metadata": {},
   "outputs": [
    {
     "data": {
      "text/plain": [
       "((149292, 114), (63983, 114))"
      ]
     },
     "execution_count": 38,
     "metadata": {},
     "output_type": "execute_result"
    }
   ],
   "source": [
    "#3. Split Trian set and Test set\n",
    "x = full_data_new.drop(['Year', 'Severity', 'Severity3'], axis=1)\n",
    "y = full_data_new['Severity3']\n",
    "\n",
    "x = x.replace([True, False], [1,0])\n",
    "\n",
    "category = ['Side','Wind_Direction','Weekday', 'County', 'Weather_Condition', 'Sunrise_Sunset', 'Month']\n",
    "x[category] = x[category].astype('category')\n",
    "x = pd.get_dummies(x, columns=category, drop_first=True)\n",
    "\n",
    "x_Train, x_test, y_Train, y_test = train_test_split(x, y, test_size=0.30, random_state=88)\n",
    "x_Train.shape,x_test.shape"
   ]
  },
  {
   "cell_type": "code",
   "execution_count": 39,
   "metadata": {},
   "outputs": [
    {
     "data": {
      "text/plain": [
       "((134362, 114), (14930, 114))"
      ]
     },
     "execution_count": 39,
     "metadata": {},
     "output_type": "execute_result"
    }
   ],
   "source": [
    "#4. Split train and validation set\n",
    "X_train, x_val, Y_train, y_val = train_test_split(x_Train, y_Train, test_size=0.10, random_state=88)\n",
    "X_train.shape,x_val.shape"
   ]
  },
  {
   "cell_type": "markdown",
   "metadata": {},
   "source": [
    "## 2. Logistic Model"
   ]
  },
  {
   "cell_type": "code",
   "execution_count": 40,
   "metadata": {},
   "outputs": [
    {
     "data": {
      "text/plain": [
       "GridSearchCV(cv=5, estimator=LogisticRegression(max_iter=1000), n_jobs=8,\n",
       "             param_grid={'C': array([1.e-02, 1.e-01, 1.e+00, 1.e+01, 1.e+02]),\n",
       "                         'class_weight': ['balanced']},\n",
       "             scoring='f1_macro')"
      ]
     },
     "execution_count": 40,
     "metadata": {},
     "output_type": "execute_result"
    }
   ],
   "source": [
    "from sklearn.linear_model import LogisticRegression\n",
    "from sklearn.model_selection import GridSearchCV\n",
    "from sklearn.metrics import classification_report\n",
    "clf_base = LogisticRegression(max_iter = 1000)\n",
    "grid = {'C': 10.0 ** np.arange(-2, 3),\n",
    "        'class_weight': ['balanced']}\n",
    "clf_lr = GridSearchCV(clf_base, grid, cv=5, n_jobs=8, scoring='f1_macro')\n",
    "\n",
    "clf_lr.fit(X_train, Y_train)"
   ]
  },
  {
   "cell_type": "code",
   "execution_count": 41,
   "metadata": {},
   "outputs": [
    {
     "name": "stdout",
     "output_type": "stream",
     "text": [
      "Best parameters scores:\n",
      "{'C': 100.0, 'class_weight': 'balanced'}\n",
      "Train score: 0.7065110118285001\n",
      "Validation score: 0.7044928707910152\n",
      "              precision    recall  f1-score   support\n",
      "\n",
      "           0       0.83      0.63      0.72      8865\n",
      "           1       0.60      0.81      0.69      6065\n",
      "\n",
      "    accuracy                           0.71     14930\n",
      "   macro avg       0.72      0.72      0.70     14930\n",
      "weighted avg       0.74      0.71      0.71     14930\n",
      "\n"
     ]
    }
   ],
   "source": [
    "print(\"Best parameters scores:\")\n",
    "print(clf_lr.best_params_)\n",
    "print(\"Train score:\", clf_lr.score(X_train, Y_train))\n",
    "print(\"Validation score:\", clf_lr.score(x_val, y_val))\n",
    "\n",
    "coef = clf_lr.best_estimator_.coef_\n",
    "intercept = clf_lr.best_estimator_.intercept_\n",
    "print (classification_report(y_val, clf_lr.predict(x_val)))"
   ]
  },
  {
   "cell_type": "code",
   "execution_count": 42,
   "metadata": {},
   "outputs": [
    {
     "data": {
      "text/plain": [
       "LogisticRegression(C=100.0, class_weight='balanced', max_iter=1000)"
      ]
     },
     "execution_count": 42,
     "metadata": {},
     "output_type": "execute_result"
    }
   ],
   "source": [
    "#Use the best model\n",
    "lr_population = LogisticRegression(**clf_lr.best_params_, max_iter = 1000)\n",
    "lr_population.fit(X_train, Y_train)"
   ]
  },
  {
   "cell_type": "markdown",
   "metadata": {},
   "source": [
    "## 3. Random Forest Model"
   ]
  },
  {
   "cell_type": "code",
   "execution_count": 43,
   "metadata": {},
   "outputs": [
    {
     "name": "stdout",
     "output_type": "stream",
     "text": [
      "Fitting 5 folds for each of 16 candidates, totalling 80 fits\n",
      "[CV] max_depth=5, n_estimators=50 ....................................\n"
     ]
    },
    {
     "name": "stderr",
     "output_type": "stream",
     "text": [
      "[Parallel(n_jobs=1)]: Using backend SequentialBackend with 1 concurrent workers.\n"
     ]
    },
    {
     "name": "stdout",
     "output_type": "stream",
     "text": [
      "[CV] ..................... max_depth=5, n_estimators=50, total=   3.7s\n",
      "[CV] max_depth=5, n_estimators=50 ....................................\n"
     ]
    },
    {
     "name": "stderr",
     "output_type": "stream",
     "text": [
      "[Parallel(n_jobs=1)]: Done   1 out of   1 | elapsed:    3.6s remaining:    0.0s\n"
     ]
    },
    {
     "name": "stdout",
     "output_type": "stream",
     "text": [
      "[CV] ..................... max_depth=5, n_estimators=50, total=   3.8s\n",
      "[CV] max_depth=5, n_estimators=50 ....................................\n",
      "[CV] ..................... max_depth=5, n_estimators=50, total=   3.9s\n",
      "[CV] max_depth=5, n_estimators=50 ....................................\n",
      "[CV] ..................... max_depth=5, n_estimators=50, total=   3.7s\n",
      "[CV] max_depth=5, n_estimators=50 ....................................\n",
      "[CV] ..................... max_depth=5, n_estimators=50, total=   4.0s\n",
      "[CV] max_depth=5, n_estimators=100 ...................................\n",
      "[CV] .................... max_depth=5, n_estimators=100, total=   7.0s\n",
      "[CV] max_depth=5, n_estimators=100 ...................................\n",
      "[CV] .................... max_depth=5, n_estimators=100, total=   7.0s\n",
      "[CV] max_depth=5, n_estimators=100 ...................................\n",
      "[CV] .................... max_depth=5, n_estimators=100, total=   7.1s\n",
      "[CV] max_depth=5, n_estimators=100 ...................................\n",
      "[CV] .................... max_depth=5, n_estimators=100, total=   7.0s\n",
      "[CV] max_depth=5, n_estimators=100 ...................................\n",
      "[CV] .................... max_depth=5, n_estimators=100, total=   7.4s\n",
      "[CV] max_depth=5, n_estimators=200 ...................................\n",
      "[CV] .................... max_depth=5, n_estimators=200, total=  13.5s\n",
      "[CV] max_depth=5, n_estimators=200 ...................................\n",
      "[CV] .................... max_depth=5, n_estimators=200, total=  13.2s\n",
      "[CV] max_depth=5, n_estimators=200 ...................................\n",
      "[CV] .................... max_depth=5, n_estimators=200, total=  13.5s\n",
      "[CV] max_depth=5, n_estimators=200 ...................................\n",
      "[CV] .................... max_depth=5, n_estimators=200, total=  13.5s\n",
      "[CV] max_depth=5, n_estimators=200 ...................................\n",
      "[CV] .................... max_depth=5, n_estimators=200, total=  13.8s\n",
      "[CV] max_depth=5, n_estimators=500 ...................................\n",
      "[CV] .................... max_depth=5, n_estimators=500, total=  33.4s\n",
      "[CV] max_depth=5, n_estimators=500 ...................................\n",
      "[CV] .................... max_depth=5, n_estimators=500, total=  33.1s\n",
      "[CV] max_depth=5, n_estimators=500 ...................................\n",
      "[CV] .................... max_depth=5, n_estimators=500, total=  33.2s\n",
      "[CV] max_depth=5, n_estimators=500 ...................................\n",
      "[CV] .................... max_depth=5, n_estimators=500, total=  34.3s\n",
      "[CV] max_depth=5, n_estimators=500 ...................................\n",
      "[CV] .................... max_depth=5, n_estimators=500, total=  32.9s\n",
      "[CV] max_depth=10, n_estimators=50 ...................................\n",
      "[CV] .................... max_depth=10, n_estimators=50, total=   6.7s\n",
      "[CV] max_depth=10, n_estimators=50 ...................................\n",
      "[CV] .................... max_depth=10, n_estimators=50, total=   6.6s\n",
      "[CV] max_depth=10, n_estimators=50 ...................................\n",
      "[CV] .................... max_depth=10, n_estimators=50, total=   6.9s\n",
      "[CV] max_depth=10, n_estimators=50 ...................................\n",
      "[CV] .................... max_depth=10, n_estimators=50, total=   6.6s\n",
      "[CV] max_depth=10, n_estimators=50 ...................................\n",
      "[CV] .................... max_depth=10, n_estimators=50, total=   6.6s\n",
      "[CV] max_depth=10, n_estimators=100 ..................................\n",
      "[CV] ................... max_depth=10, n_estimators=100, total=  13.0s\n",
      "[CV] max_depth=10, n_estimators=100 ..................................\n",
      "[CV] ................... max_depth=10, n_estimators=100, total=  13.5s\n",
      "[CV] max_depth=10, n_estimators=100 ..................................\n",
      "[CV] ................... max_depth=10, n_estimators=100, total=  13.0s\n",
      "[CV] max_depth=10, n_estimators=100 ..................................\n",
      "[CV] ................... max_depth=10, n_estimators=100, total=  12.7s\n",
      "[CV] max_depth=10, n_estimators=100 ..................................\n",
      "[CV] ................... max_depth=10, n_estimators=100, total=  13.0s\n",
      "[CV] max_depth=10, n_estimators=200 ..................................\n",
      "[CV] ................... max_depth=10, n_estimators=200, total=  25.6s\n",
      "[CV] max_depth=10, n_estimators=200 ..................................\n",
      "[CV] ................... max_depth=10, n_estimators=200, total=  26.7s\n",
      "[CV] max_depth=10, n_estimators=200 ..................................\n",
      "[CV] ................... max_depth=10, n_estimators=200, total=  25.7s\n",
      "[CV] max_depth=10, n_estimators=200 ..................................\n",
      "[CV] ................... max_depth=10, n_estimators=200, total=  25.7s\n",
      "[CV] max_depth=10, n_estimators=200 ..................................\n",
      "[CV] ................... max_depth=10, n_estimators=200, total=  25.4s\n",
      "[CV] max_depth=10, n_estimators=500 ..................................\n",
      "[CV] ................... max_depth=10, n_estimators=500, total= 1.1min\n",
      "[CV] max_depth=10, n_estimators=500 ..................................\n",
      "[CV] ................... max_depth=10, n_estimators=500, total= 1.1min\n",
      "[CV] max_depth=10, n_estimators=500 ..................................\n",
      "[CV] ................... max_depth=10, n_estimators=500, total= 1.1min\n",
      "[CV] max_depth=10, n_estimators=500 ..................................\n",
      "[CV] ................... max_depth=10, n_estimators=500, total= 1.1min\n",
      "[CV] max_depth=10, n_estimators=500 ..................................\n",
      "[CV] ................... max_depth=10, n_estimators=500, total= 1.1min\n",
      "[CV] max_depth=15, n_estimators=50 ...................................\n",
      "[CV] .................... max_depth=15, n_estimators=50, total=   9.9s\n",
      "[CV] max_depth=15, n_estimators=50 ...................................\n",
      "[CV] .................... max_depth=15, n_estimators=50, total=   9.6s\n",
      "[CV] max_depth=15, n_estimators=50 ...................................\n",
      "[CV] .................... max_depth=15, n_estimators=50, total=   9.6s\n",
      "[CV] max_depth=15, n_estimators=50 ...................................\n",
      "[CV] .................... max_depth=15, n_estimators=50, total=   9.6s\n",
      "[CV] max_depth=15, n_estimators=50 ...................................\n",
      "[CV] .................... max_depth=15, n_estimators=50, total=   9.6s\n",
      "[CV] max_depth=15, n_estimators=100 ..................................\n",
      "[CV] ................... max_depth=15, n_estimators=100, total=  18.8s\n",
      "[CV] max_depth=15, n_estimators=100 ..................................\n",
      "[CV] ................... max_depth=15, n_estimators=100, total=  19.8s\n",
      "[CV] max_depth=15, n_estimators=100 ..................................\n",
      "[CV] ................... max_depth=15, n_estimators=100, total=  19.6s\n",
      "[CV] max_depth=15, n_estimators=100 ..................................\n",
      "[CV] ................... max_depth=15, n_estimators=100, total=  18.9s\n",
      "[CV] max_depth=15, n_estimators=100 ..................................\n",
      "[CV] ................... max_depth=15, n_estimators=100, total=  18.8s\n",
      "[CV] max_depth=15, n_estimators=200 ..................................\n",
      "[CV] ................... max_depth=15, n_estimators=200, total=  38.7s\n",
      "[CV] max_depth=15, n_estimators=200 ..................................\n",
      "[CV] ................... max_depth=15, n_estimators=200, total=  38.7s\n",
      "[CV] max_depth=15, n_estimators=200 ..................................\n",
      "[CV] ................... max_depth=15, n_estimators=200, total=  38.9s\n",
      "[CV] max_depth=15, n_estimators=200 ..................................\n",
      "[CV] ................... max_depth=15, n_estimators=200, total=  39.4s\n",
      "[CV] max_depth=15, n_estimators=200 ..................................\n",
      "[CV] ................... max_depth=15, n_estimators=200, total=  38.0s\n",
      "[CV] max_depth=15, n_estimators=500 ..................................\n",
      "[CV] ................... max_depth=15, n_estimators=500, total= 1.6min\n",
      "[CV] max_depth=15, n_estimators=500 ..................................\n",
      "[CV] ................... max_depth=15, n_estimators=500, total= 1.6min\n",
      "[CV] max_depth=15, n_estimators=500 ..................................\n",
      "[CV] ................... max_depth=15, n_estimators=500, total= 1.6min\n",
      "[CV] max_depth=15, n_estimators=500 ..................................\n",
      "[CV] ................... max_depth=15, n_estimators=500, total= 1.6min\n",
      "[CV] max_depth=15, n_estimators=500 ..................................\n",
      "[CV] ................... max_depth=15, n_estimators=500, total= 1.6min\n",
      "[CV] max_depth=30, n_estimators=50 ...................................\n",
      "[CV] .................... max_depth=30, n_estimators=50, total=  15.6s\n",
      "[CV] max_depth=30, n_estimators=50 ...................................\n",
      "[CV] .................... max_depth=30, n_estimators=50, total=  16.5s\n",
      "[CV] max_depth=30, n_estimators=50 ...................................\n",
      "[CV] .................... max_depth=30, n_estimators=50, total=  15.9s\n",
      "[CV] max_depth=30, n_estimators=50 ...................................\n",
      "[CV] .................... max_depth=30, n_estimators=50, total=  15.4s\n",
      "[CV] max_depth=30, n_estimators=50 ...................................\n",
      "[CV] .................... max_depth=30, n_estimators=50, total=  15.6s\n",
      "[CV] max_depth=30, n_estimators=100 ..................................\n",
      "[CV] ................... max_depth=30, n_estimators=100, total=  30.6s\n",
      "[CV] max_depth=30, n_estimators=100 ..................................\n",
      "[CV] ................... max_depth=30, n_estimators=100, total=  30.8s\n",
      "[CV] max_depth=30, n_estimators=100 ..................................\n",
      "[CV] ................... max_depth=30, n_estimators=100, total=  30.4s\n",
      "[CV] max_depth=30, n_estimators=100 ..................................\n",
      "[CV] ................... max_depth=30, n_estimators=100, total=  30.5s\n",
      "[CV] max_depth=30, n_estimators=100 ..................................\n",
      "[CV] ................... max_depth=30, n_estimators=100, total=  31.7s\n",
      "[CV] max_depth=30, n_estimators=200 ..................................\n",
      "[CV] ................... max_depth=30, n_estimators=200, total= 1.0min\n",
      "[CV] max_depth=30, n_estimators=200 ..................................\n",
      "[CV] ................... max_depth=30, n_estimators=200, total= 1.0min\n",
      "[CV] max_depth=30, n_estimators=200 ..................................\n",
      "[CV] ................... max_depth=30, n_estimators=200, total= 1.0min\n",
      "[CV] max_depth=30, n_estimators=200 ..................................\n",
      "[CV] ................... max_depth=30, n_estimators=200, total= 1.0min\n",
      "[CV] max_depth=30, n_estimators=200 ..................................\n",
      "[CV] ................... max_depth=30, n_estimators=200, total= 1.0min\n",
      "[CV] max_depth=30, n_estimators=500 ..................................\n",
      "[CV] ................... max_depth=30, n_estimators=500, total= 2.6min\n",
      "[CV] max_depth=30, n_estimators=500 ..................................\n",
      "[CV] ................... max_depth=30, n_estimators=500, total= 2.6min\n",
      "[CV] max_depth=30, n_estimators=500 ..................................\n",
      "[CV] ................... max_depth=30, n_estimators=500, total= 2.6min\n",
      "[CV] max_depth=30, n_estimators=500 ..................................\n",
      "[CV] ................... max_depth=30, n_estimators=500, total= 2.6min\n",
      "[CV] max_depth=30, n_estimators=500 ..................................\n",
      "[CV] ................... max_depth=30, n_estimators=500, total= 2.6min\n"
     ]
    },
    {
     "name": "stderr",
     "output_type": "stream",
     "text": [
      "[Parallel(n_jobs=1)]: Done  80 out of  80 | elapsed: 49.5min finished\n"
     ]
    },
    {
     "name": "stdout",
     "output_type": "stream",
     "text": [
      "time: 3169.55 s\n",
      "Best parameters scores:\n",
      "{'max_depth': 30, 'n_estimators': 500}\n",
      "Train score: 0.955156275667802\n",
      "Validation score: 0.31217767287920994\n"
     ]
    }
   ],
   "source": [
    "import time\n",
    "from sklearn.ensemble import RandomForestClassifier\n",
    "\n",
    "from sklearn.model_selection import GridSearchCV\n",
    "from sklearn.tree import DecisionTreeRegressor\n",
    "from sklearn.model_selection import KFold\n",
    "\n",
    "grid_values = {\"n_estimators\": [50, 100, 200, 500], \"max_depth\": [5, 10, 15, 30]}\n",
    "\n",
    "tic = time.time()\n",
    "\n",
    "rf2 = RandomForestClassifier() \n",
    "\n",
    "cv = KFold(n_splits=5,random_state=333,shuffle=True) \n",
    "grid = GridSearchCV(rf2, param_grid=grid_values, scoring='r2', cv=cv,verbose=2)\n",
    "grid.fit(X_train, Y_train)\n",
    "\n",
    "toc = time.time()\n",
    "\n",
    "print('time:', round(toc-tic, 2),'s')\n",
    "print(\"Best parameters scores:\")\n",
    "print(grid.best_params_)\n",
    "print(\"Train score:\", grid.score(X_train, Y_train))\n",
    "print(\"Validation score:\", grid.score(x_val, y_val))"
   ]
  },
  {
   "cell_type": "code",
   "execution_count": 44,
   "metadata": {},
   "outputs": [
    {
     "name": "stdout",
     "output_type": "stream",
     "text": [
      "Default scores:\n",
      "Train score: 0.9889998660335512\n",
      "Validation score: 0.8359678499665104\n"
     ]
    }
   ],
   "source": [
    "rf_population = RandomForestClassifier(max_depth = 30, n_estimators = 500)\n",
    "\n",
    "print(\"Default scores:\")\n",
    "rf_population.fit(X_train, Y_train)\n",
    "print(\"Train score:\", rf_population.score(X_train, Y_train))\n",
    "print(\"Validation score:\", rf_population.score(x_val, y_val))"
   ]
  },
  {
   "cell_type": "markdown",
   "metadata": {},
   "source": [
    "## 4. Naive Bayes"
   ]
  },
  {
   "cell_type": "code",
   "execution_count": 45,
   "metadata": {},
   "outputs": [
    {
     "name": "stdout",
     "output_type": "stream",
     "text": [
      "Train score: 0.5269346987987675\n",
      "Validation score: 0.5253851306095111\n"
     ]
    }
   ],
   "source": [
    "gnb_population = GaussianNB()\n",
    "gnb_population.fit(X_train, Y_train)\n",
    "\n",
    "print(\"Train score:\", gnb_population.score(X_train, Y_train))\n",
    "print(\"Validation score:\", gnb_population.score(x_val, y_val))"
   ]
  },
  {
   "cell_type": "markdown",
   "metadata": {},
   "source": [
    "## 5. Test Performance"
   ]
  },
  {
   "cell_type": "markdown",
   "metadata": {},
   "source": [
    "### (a). Logistic Regression Model"
   ]
  },
  {
   "cell_type": "code",
   "execution_count": 46,
   "metadata": {},
   "outputs": [
    {
     "name": "stdout",
     "output_type": "stream",
     "text": [
      "              precision    recall  f1-score   support\n",
      "\n",
      "           0       0.84      0.64      0.73     38462\n",
      "           1       0.60      0.81      0.69     25521\n",
      "\n",
      "    accuracy                           0.71     63983\n",
      "   macro avg       0.72      0.73      0.71     63983\n",
      "weighted avg       0.74      0.71      0.71     63983\n",
      "\n"
     ]
    }
   ],
   "source": [
    "from sklearn.metrics import accuracy_score\n",
    "from sklearn.metrics import f1_score\n",
    "\n",
    "y_pred = lr_population.predict(x_test)\n",
    "\n",
    "accuracy[\"Logistic Regression\"] = accuracy_score(y_test, y_pred)\n",
    "f1[\"Logistic Regression\"] = f1_score(y_test, y_pred, average=\"macro\")\n",
    "\n",
    "print(classification_report(y_test, y_pred))"
   ]
  },
  {
   "cell_type": "code",
   "execution_count": 47,
   "metadata": {},
   "outputs": [
    {
     "data": {
      "image/png": "[encoded data removed]",
      "text/plain": [
       "<Figure size 576x360 with 2 Axes>"
      ]
     },
     "metadata": {
      "needs_background": "light"
     },
     "output_type": "display_data"
    }
   ],
   "source": [
    "from sklearn.metrics import confusion_matrix\n",
    "\n",
    "y_pred = lr_population.predict(x_test)\n",
    "confmat = confusion_matrix(y_true=y_test, y_pred=y_pred)\n",
    "\n",
    "index = [\"Actual Severity 1\", \"Actual Severity 2\"]\n",
    "columns = [\"Predicted Severity 1\", \"Predicted Severity 2\"]\n",
    "conf_matrix = pd.DataFrame(data=confmat, columns=columns, index=index)\n",
    "plt.figure(figsize=(8, 5))\n",
    "sns.heatmap(conf_matrix, annot=True, fmt=\"d\", cmap=\"YlGnBu\")\n",
    "plt.title(\"Confusion Matrix - Logistic Regression\")\n",
    "plt.show()"
   ]
  },
  {
   "cell_type": "code",
   "execution_count": 48,
   "metadata": {},
   "outputs": [
    {
     "data": {
      "image/png": "[encoded data removed]",
      "text/plain": [
       "<Figure size 432x288 with 1 Axes>"
      ]
     },
     "metadata": {
      "needs_background": "light"
     },
     "output_type": "display_data"
    }
   ],
   "source": [
    "plt.step(fpr[\"Logistic Regression\"], tpr[\"Logistic Regression\"], where=\"post\")\n",
    "\n",
    "plt.title(\"ROC curve - Logistic Regression (population)\")\n",
    "plt.xlabel(\"False Positive Rate\")\n",
    "plt.ylabel(\"True Positive Rate\")\n",
    "plt.xlim([-0.01, 1.01])\n",
    "plt.ylim([-0.01, 1.01])\n",
    "plt.show()"
   ]
  },
  {
   "cell_type": "markdown",
   "metadata": {},
   "source": [
    "### (b). Random Forest"
   ]
  },
  {
   "cell_type": "code",
   "execution_count": 49,
   "metadata": {},
   "outputs": [
    {
     "name": "stdout",
     "output_type": "stream",
     "text": [
      "              precision    recall  f1-score   support\n",
      "\n",
      "           0       0.87      0.85      0.86     38462\n",
      "           1       0.78      0.82      0.80     25521\n",
      "\n",
      "    accuracy                           0.84     63983\n",
      "   macro avg       0.83      0.83      0.83     63983\n",
      "weighted avg       0.84      0.84      0.84     63983\n",
      "\n"
     ]
    }
   ],
   "source": [
    "y_pred = rf_population.predict(x_test)\n",
    "\n",
    "accuracy[\"Random Forest\"] = accuracy_score(y_test.values, y_pred)\n",
    "f1[\"Random Forest\"] = f1_score(y_test, y_pred, average=\"macro\")\n",
    "\n",
    "print(classification_report(y_test, y_pred))"
   ]
  },
  {
   "cell_type": "code",
   "execution_count": 50,
   "metadata": {},
   "outputs": [
    {
     "data": {
      "image/png": "[encoded data removed]",
      "text/plain": [
       "<Figure size 576x360 with 2 Axes>"
      ]
     },
     "metadata": {
      "needs_background": "light"
     },
     "output_type": "display_data"
    }
   ],
   "source": [
    "confmat = confusion_matrix(y_true=y_test, y_pred=y_pred)\n",
    "\n",
    "index = [\"Actual Severity 1\", \"Actual Severity 2\"]\n",
    "columns = [\"Predicted Severity 1\", \"Predicted Severity 2\"]\n",
    "conf_matrix = pd.DataFrame(data=confmat, columns=columns, index=index)\n",
    "plt.figure(figsize=(8, 5))\n",
    "sns.heatmap(conf_matrix, annot=True, fmt=\"d\", cmap=\"YlGnBu\")\n",
    "plt.title(\"Confusion Matrix - Random Forest\")\n",
    "plt.show()"
   ]
  },
  {
   "cell_type": "code",
   "execution_count": 51,
   "metadata": {},
   "outputs": [
    {
     "data": {
      "image/png": "[encoded data removed]",
      "text/plain": [
       "<Figure size 1080x720 with 1 Axes>"
      ]
     },
     "metadata": {
      "needs_background": "light"
     },
     "output_type": "display_data"
    }
   ],
   "source": [
    "importances = pd.DataFrame(np.zeros((x_test.shape[1], 1)), columns=[\"importance\"], index=X_train.columns)\n",
    "\n",
    "importances.iloc[:,0] = rf_population.feature_importances_\n",
    "\n",
    "importances = importances.sort_values(by=\"importance\", ascending=False)[:30]\n",
    "\n",
    "plt.figure(figsize=(15, 10))\n",
    "sns.barplot(x=\"importance\", y=importances.index, data=importances)\n",
    "plt.show()"
   ]
  },
  {
   "cell_type": "code",
   "execution_count": 52,
   "metadata": {},
   "outputs": [
    {
     "data": {
      "image/png": "[encoded data removed]",
      "text/plain": [
       "<Figure size 432x288 with 1 Axes>"
      ]
     },
     "metadata": {
      "needs_background": "light"
     },
     "output_type": "display_data"
    }
   ],
   "source": [
    "enc = OneHotEncoder()\n",
    "Y = label_binarize(y_test, classes=[0, 1])\n",
    "Y = enc.fit_transform(Y).toarray()\n",
    "\n",
    "y_score = rf_population.predict_proba(x_test)\n",
    "\n",
    "precision[\"Random Forest\"], recall[\"Random Forest\"], _ = precision_recall_curve(Y.ravel(), y_score.ravel())\n",
    "fpr[\"Random Forest\"], tpr[\"Random Forest\"], _ = roc_curve(Y.ravel(), y_score.ravel())\n",
    "\n",
    "plt.step(recall[\"Random Forest\"], precision[\"Random Forest\"], where=\"post\")\n",
    "\n",
    "plt.xlabel(\"Recall\")\n",
    "plt.ylabel(\"Precision\")\n",
    "plt.xlim([0, 1])\n",
    "plt.ylim([0, 1.01])\n",
    "plt.title(\"PR Curve - Random Forest(population)\")\n",
    "plt.show()"
   ]
  },
  {
   "cell_type": "code",
   "execution_count": 53,
   "metadata": {},
   "outputs": [
    {
     "data": {
      "image/png": "[encoded data removed]",
      "text/plain": [
       "<Figure size 432x288 with 1 Axes>"
      ]
     },
     "metadata": {
      "needs_background": "light"
     },
     "output_type": "display_data"
    }
   ],
   "source": [
    "plt.step(fpr[\"Random Forest\"], tpr[\"Random Forest\"], where=\"post\")\n",
    "\n",
    "plt.title(\"ROC curve - Random Forest(population)\")\n",
    "plt.xlabel(\"False Positive Rate\")\n",
    "plt.ylabel(\"True Positive Rate\")\n",
    "plt.xlim([0, 1])\n",
    "plt.ylim([0, 1.01])\n",
    "plt.show()"
   ]
  },
  {
   "cell_type": "code",
   "execution_count": 54,
   "metadata": {},
   "outputs": [
    {
     "name": "stdout",
     "output_type": "stream",
     "text": [
      "AUC score: 0.8325942228499692\n"
     ]
    }
   ],
   "source": [
    "from sklearn.metrics import roc_auc_score\n",
    "\n",
    "y_pred = rf_population.predict(x_test)\n",
    "print(\"AUC score:\", roc_auc_score(y_test, y_pred))"
   ]
  },
  {
   "cell_type": "markdown",
   "metadata": {},
   "source": [
    "### (c). Naive Bayes"
   ]
  },
  {
   "cell_type": "code",
   "execution_count": 55,
   "metadata": {},
   "outputs": [
    {
     "name": "stdout",
     "output_type": "stream",
     "text": [
      "              precision    recall  f1-score   support\n",
      "\n",
      "           0       0.97      0.23      0.37     38462\n",
      "           1       0.46      0.99      0.63     25521\n",
      "\n",
      "    accuracy                           0.53     63983\n",
      "   macro avg       0.71      0.61      0.50     63983\n",
      "weighted avg       0.77      0.53      0.47     63983\n",
      "\n"
     ]
    }
   ],
   "source": [
    "y_pred = gnb_population.predict(x_test)\n",
    "\n",
    "accuracy[\"Gaussian Naive Bayes\"] = accuracy_score(y_test, y_pred)\n",
    "f1[\"Gaussian Naive Bayes\"] = f1_score(y_test, y_pred, average=\"macro\")\n",
    "\n",
    "print(classification_report(y_test, y_pred))"
   ]
  },
  {
   "cell_type": "code",
   "execution_count": 56,
   "metadata": {},
   "outputs": [
    {
     "data": {
      "image/png": "[encoded data removed]",
      "text/plain": [
       "<Figure size 576x360 with 2 Axes>"
      ]
     },
     "metadata": {
      "needs_background": "light"
     },
     "output_type": "display_data"
    }
   ],
   "source": [
    "y_pred = gnb_population.predict(x_test)\n",
    "confmat = confusion_matrix(y_true=y_test, y_pred=y_pred)\n",
    "\n",
    "index = [\"Actual Severity 1\", \"Actual Severity 2\"]\n",
    "columns = [\"Predicted Severity 1\", \"Predicted Severity 2\"]\n",
    "conf_matrix = pd.DataFrame(data=confmat, columns=columns, index=index)\n",
    "plt.figure(figsize=(8, 5))\n",
    "sns.heatmap(conf_matrix, annot=True, fmt=\"d\", cmap=\"YlGnBu\")\n",
    "plt.title(\"Confusion Matrix - Gaussian Naive Bayes\")\n",
    "plt.show()"
   ]
  },
  {
   "cell_type": "code",
   "execution_count": 57,
   "metadata": {},
   "outputs": [
    {
     "data": {
      "image/png": "[encoded data removed]",
      "text/plain": [
       "<Figure size 1296x720 with 1 Axes>"
      ]
     },
     "metadata": {
      "needs_background": "light"
     },
     "output_type": "display_data"
    }
   ],
   "source": [
    "enc = OneHotEncoder()\n",
    "Y = label_binarize(y_test, classes=[0, 1])\n",
    "Y = enc.fit_transform(Y).toarray()\n",
    "\n",
    "y_score = gnb_population.predict_proba(x_test)\n",
    "\n",
    "precision[\"Gaussian Naive Bayes\"], recall[\"Gaussian Naive Bayes\"], _ = precision_recall_curve(Y.ravel(), y_score.ravel())\n",
    "fpr[\"Gaussian Naive Bayes\"], tpr[\"Gaussian Naive Bayes\"], _ = roc_curve(Y.ravel(), y_score.ravel())\n",
    "\n",
    "plt.figure(figsize=(18, 10))\n",
    "plt.step(recall[\"Gaussian Naive Bayes\"], precision[\"Gaussian Naive Bayes\"], where=\"post\")\n",
    "\n",
    "plt.xlabel(\"Recall\")\n",
    "plt.ylabel(\"Precision\")\n",
    "plt.xlim([0, 1])\n",
    "plt.ylim([0, 1.01])\n",
    "plt.title(\"PR Curve - Gaussian Naive Bayes\")\n",
    "plt.show()"
   ]
  },
  {
   "cell_type": "markdown",
   "metadata": {},
   "source": [
    "# Overall Result"
   ]
  },
  {
   "cell_type": "code",
   "execution_count": 58,
   "metadata": {},
   "outputs": [
    {
     "name": "stderr",
     "output_type": "stream",
     "text": [
      "C:\\Users\\Administrator\\anaconda3\\lib\\site-packages\\seaborn\\_decorators.py:36: FutureWarning: Pass the following variables as keyword args: x, y. From version 0.12, the only valid positional argument will be `data`, and passing other arguments without an explicit keyword will result in an error or misinterpretation.\n",
      "  warnings.warn(\n"
     ]
    },
    {
     "data": {
      "image/png": "[encoded data removed]",
      "text/plain": [
       "<Figure size 432x288 with 1 Axes>"
      ]
     },
     "metadata": {
      "needs_background": "light"
     },
     "output_type": "display_data"
    }
   ],
   "source": [
    "plt.title(\"Accuracy on Validation set for each model\")\n",
    "sns.barplot(list(range(len(accuracy))), list(accuracy.values()))\n",
    "plt.xticks(range(len(accuracy)), labels=accuracy.keys())\n",
    "plt.show()"
   ]
  },
  {
   "cell_type": "code",
   "execution_count": 59,
   "metadata": {},
   "outputs": [
    {
     "name": "stderr",
     "output_type": "stream",
     "text": [
      "C:\\Users\\Administrator\\anaconda3\\lib\\site-packages\\seaborn\\_decorators.py:36: FutureWarning: Pass the following variables as keyword args: x, y. From version 0.12, the only valid positional argument will be `data`, and passing other arguments without an explicit keyword will result in an error or misinterpretation.\n",
      "  warnings.warn(\n"
     ]
    },
    {
     "data": {
      "image/png": "[encoded data removed]",
      "text/plain": [
       "<Figure size 432x288 with 1 Axes>"
      ]
     },
     "metadata": {
      "needs_background": "light"
     },
     "output_type": "display_data"
    }
   ],
   "source": [
    "plt.title(\"F1 Score on Validation set for each model\")\n",
    "sns.barplot(list(range(len(f1))), list(f1.values()))\n",
    "plt.xticks(range(len(f1)), labels=f1.keys())\n",
    "plt.show()"
   ]
  },
  {
   "cell_type": "code",
   "execution_count": 60,
   "metadata": {},
   "outputs": [
    {
     "data": {
      "image/png": "[encoded data removed]",
      "text/plain": [
       "<Figure size 432x288 with 1 Axes>"
      ]
     },
     "metadata": {
      "needs_background": "light"
     },
     "output_type": "display_data"
    }
   ],
   "source": [
    "for key in f1.keys():\n",
    "    plt.step(recall[key], precision[key], where=\"post\", label=key)\n",
    "\n",
    "plt.xlabel(\"Recall\")\n",
    "plt.ylabel(\"Precision\")\n",
    "plt.xlim([0, 1])\n",
    "plt.ylim([0, 1.01])\n",
    "plt.title(\"PR curve\")\n",
    "plt.legend()\n",
    "plt.show()"
   ]
  },
  {
   "cell_type": "code",
   "execution_count": 61,
   "metadata": {},
   "outputs": [
    {
     "data": {
      "image/png": "[encoded data removed]",
      "text/plain": [
       "<Figure size 432x288 with 1 Axes>"
      ]
     },
     "metadata": {
      "needs_background": "light"
     },
     "output_type": "display_data"
    }
   ],
   "source": [
    "for key in f1.keys():\n",
    "    plt.step(fpr[key], tpr[key], where=\"post\", label=key)\n",
    "\n",
    "plt.xlabel(\"False Positive Rate\")\n",
    "plt.ylabel(\"True Positive Rate\")\n",
    "plt.xlim([0, 1])\n",
    "plt.ylim([0, 1.01])\n",
    "plt.title(\"ROC curve\")\n",
    "plt.legend()\n",
    "plt.show()"
   ]
  },
  {
   "cell_type": "code",
   "execution_count": null,
   "metadata": {},
   "outputs": [],
   "source": []
  },
  {
   "cell_type": "code",
   "execution_count": null,
   "metadata": {},
   "outputs": [],
   "source": []
  }
 ],
 "metadata": {
  "kernelspec": {
   "display_name": "Python 3",
   "language": "python",
   "name": "python3"
  },
  "language_info": {
   "codemirror_mode": {
    "name": "ipython",
    "version": 3
   },
   "file_extension": ".py",
   "mimetype": "text/x-python",
   "name": "python",
   "nbconvert_exporter": "python",
   "pygments_lexer": "ipython3",
   "version": "3.8.8"
  }
 },
 "nbformat": 4,
 "nbformat_minor": 4
}
