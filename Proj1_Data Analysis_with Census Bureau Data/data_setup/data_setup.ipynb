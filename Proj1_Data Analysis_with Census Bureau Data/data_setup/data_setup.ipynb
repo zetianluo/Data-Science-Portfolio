{
 "cells": [
  {
   "cell_type": "code",
   "execution_count": 1,
   "metadata": {},
   "outputs": [],
   "source": [
    "import pandas as pd\n",
    "import numpy as np \n",
    "import matplotlib.pyplot as plt\n",
    "import seaborn as sns"
   ]
  },
  {
   "cell_type": "markdown",
   "metadata": {},
   "source": [
    "# 1. Import Data\n",
    "\n",
    "NOTE: Because the data set is too large, it will take too much time to filter data directly in jupyter. Therefore, this step of selecting California data is carried out in EXCEL, and a csv file is generated."
   ]
  },
  {
   "cell_type": "code",
   "execution_count": 2,
   "metadata": {},
   "outputs": [
    {
     "data": {
      "text/html": [
       "<div>\n",
       "<style scoped>\n",
       "    .dataframe tbody tr th:only-of-type {\n",
       "        vertical-align: middle;\n",
       "    }\n",
       "\n",
       "    .dataframe tbody tr th {\n",
       "        vertical-align: top;\n",
       "    }\n",
       "\n",
       "    .dataframe thead th {\n",
       "        text-align: right;\n",
       "    }\n",
       "</style>\n",
       "<table border=\"1\" class=\"dataframe\">\n",
       "  <thead>\n",
       "    <tr style=\"text-align: right;\">\n",
       "      <th></th>\n",
       "      <th>ID</th>\n",
       "      <th>Source</th>\n",
       "      <th>TMC</th>\n",
       "      <th>Severity</th>\n",
       "      <th>Start_Time</th>\n",
       "      <th>End_Time</th>\n",
       "      <th>Start_Lat</th>\n",
       "      <th>Start_Lng</th>\n",
       "      <th>End_Lat</th>\n",
       "      <th>End_Lng</th>\n",
       "      <th>...</th>\n",
       "      <th>Roundabout</th>\n",
       "      <th>Station</th>\n",
       "      <th>Stop</th>\n",
       "      <th>Traffic_Calming</th>\n",
       "      <th>Traffic_Signal</th>\n",
       "      <th>Turning_Loop</th>\n",
       "      <th>Sunrise_Sunset</th>\n",
       "      <th>Civil_Twilight</th>\n",
       "      <th>Nautical_Twilight</th>\n",
       "      <th>Astronomical_Twilight</th>\n",
       "    </tr>\n",
       "  </thead>\n",
       "  <tbody>\n",
       "    <tr>\n",
       "      <th>0</th>\n",
       "      <td>A-729</td>\n",
       "      <td>MapQuest</td>\n",
       "      <td>201</td>\n",
       "      <td>3</td>\n",
       "      <td>2016/6/21 10:34</td>\n",
       "      <td>2016/6/21 11:04</td>\n",
       "      <td>38.085300</td>\n",
       "      <td>-122.233017</td>\n",
       "      <td>NaN</td>\n",
       "      <td>NaN</td>\n",
       "      <td>...</td>\n",
       "      <td>False</td>\n",
       "      <td>False</td>\n",
       "      <td>False</td>\n",
       "      <td>False</td>\n",
       "      <td>False</td>\n",
       "      <td>False</td>\n",
       "      <td>Day</td>\n",
       "      <td>Day</td>\n",
       "      <td>Day</td>\n",
       "      <td>Day</td>\n",
       "    </tr>\n",
       "    <tr>\n",
       "      <th>1</th>\n",
       "      <td>A-730</td>\n",
       "      <td>MapQuest</td>\n",
       "      <td>201</td>\n",
       "      <td>3</td>\n",
       "      <td>2016/6/21 10:30</td>\n",
       "      <td>2016/6/21 11:16</td>\n",
       "      <td>37.631813</td>\n",
       "      <td>-122.084167</td>\n",
       "      <td>NaN</td>\n",
       "      <td>NaN</td>\n",
       "      <td>...</td>\n",
       "      <td>False</td>\n",
       "      <td>False</td>\n",
       "      <td>False</td>\n",
       "      <td>False</td>\n",
       "      <td>False</td>\n",
       "      <td>False</td>\n",
       "      <td>Day</td>\n",
       "      <td>Day</td>\n",
       "      <td>Day</td>\n",
       "      <td>Day</td>\n",
       "    </tr>\n",
       "    <tr>\n",
       "      <th>2</th>\n",
       "      <td>A-731</td>\n",
       "      <td>MapQuest</td>\n",
       "      <td>201</td>\n",
       "      <td>2</td>\n",
       "      <td>2016/6/21 10:49</td>\n",
       "      <td>2016/6/21 11:19</td>\n",
       "      <td>37.896564</td>\n",
       "      <td>-122.070717</td>\n",
       "      <td>NaN</td>\n",
       "      <td>NaN</td>\n",
       "      <td>...</td>\n",
       "      <td>False</td>\n",
       "      <td>False</td>\n",
       "      <td>False</td>\n",
       "      <td>False</td>\n",
       "      <td>False</td>\n",
       "      <td>False</td>\n",
       "      <td>Day</td>\n",
       "      <td>Day</td>\n",
       "      <td>Day</td>\n",
       "      <td>Day</td>\n",
       "    </tr>\n",
       "    <tr>\n",
       "      <th>3</th>\n",
       "      <td>A-732</td>\n",
       "      <td>MapQuest</td>\n",
       "      <td>201</td>\n",
       "      <td>3</td>\n",
       "      <td>2016/6/21 10:41</td>\n",
       "      <td>2016/6/21 11:11</td>\n",
       "      <td>37.334255</td>\n",
       "      <td>-122.032471</td>\n",
       "      <td>NaN</td>\n",
       "      <td>NaN</td>\n",
       "      <td>...</td>\n",
       "      <td>False</td>\n",
       "      <td>False</td>\n",
       "      <td>False</td>\n",
       "      <td>False</td>\n",
       "      <td>False</td>\n",
       "      <td>False</td>\n",
       "      <td>Day</td>\n",
       "      <td>Day</td>\n",
       "      <td>Day</td>\n",
       "      <td>Day</td>\n",
       "    </tr>\n",
       "    <tr>\n",
       "      <th>4</th>\n",
       "      <td>A-733</td>\n",
       "      <td>MapQuest</td>\n",
       "      <td>201</td>\n",
       "      <td>2</td>\n",
       "      <td>2016/6/21 10:16</td>\n",
       "      <td>2016/6/21 11:04</td>\n",
       "      <td>37.250729</td>\n",
       "      <td>-121.910713</td>\n",
       "      <td>NaN</td>\n",
       "      <td>NaN</td>\n",
       "      <td>...</td>\n",
       "      <td>False</td>\n",
       "      <td>False</td>\n",
       "      <td>False</td>\n",
       "      <td>False</td>\n",
       "      <td>False</td>\n",
       "      <td>False</td>\n",
       "      <td>Day</td>\n",
       "      <td>Day</td>\n",
       "      <td>Day</td>\n",
       "      <td>Day</td>\n",
       "    </tr>\n",
       "    <tr>\n",
       "      <th>5</th>\n",
       "      <td>A-734</td>\n",
       "      <td>MapQuest</td>\n",
       "      <td>201</td>\n",
       "      <td>3</td>\n",
       "      <td>2016/6/21 10:31</td>\n",
       "      <td>2016/6/21 11:16</td>\n",
       "      <td>37.701584</td>\n",
       "      <td>-121.906929</td>\n",
       "      <td>NaN</td>\n",
       "      <td>NaN</td>\n",
       "      <td>...</td>\n",
       "      <td>False</td>\n",
       "      <td>False</td>\n",
       "      <td>False</td>\n",
       "      <td>False</td>\n",
       "      <td>False</td>\n",
       "      <td>False</td>\n",
       "      <td>Day</td>\n",
       "      <td>Day</td>\n",
       "      <td>Day</td>\n",
       "      <td>Day</td>\n",
       "    </tr>\n",
       "    <tr>\n",
       "      <th>6</th>\n",
       "      <td>A-735</td>\n",
       "      <td>MapQuest</td>\n",
       "      <td>201</td>\n",
       "      <td>3</td>\n",
       "      <td>2016/6/21 10:17</td>\n",
       "      <td>2016/6/21 11:03</td>\n",
       "      <td>37.328312</td>\n",
       "      <td>-121.871811</td>\n",
       "      <td>NaN</td>\n",
       "      <td>NaN</td>\n",
       "      <td>...</td>\n",
       "      <td>False</td>\n",
       "      <td>False</td>\n",
       "      <td>False</td>\n",
       "      <td>False</td>\n",
       "      <td>False</td>\n",
       "      <td>False</td>\n",
       "      <td>Day</td>\n",
       "      <td>Day</td>\n",
       "      <td>Day</td>\n",
       "      <td>Day</td>\n",
       "    </tr>\n",
       "    <tr>\n",
       "      <th>7</th>\n",
       "      <td>A-736</td>\n",
       "      <td>MapQuest</td>\n",
       "      <td>201</td>\n",
       "      <td>3</td>\n",
       "      <td>2016/6/21 10:51</td>\n",
       "      <td>2016/6/21 11:21</td>\n",
       "      <td>37.719162</td>\n",
       "      <td>-122.448273</td>\n",
       "      <td>NaN</td>\n",
       "      <td>NaN</td>\n",
       "      <td>...</td>\n",
       "      <td>False</td>\n",
       "      <td>False</td>\n",
       "      <td>False</td>\n",
       "      <td>False</td>\n",
       "      <td>False</td>\n",
       "      <td>False</td>\n",
       "      <td>Day</td>\n",
       "      <td>Day</td>\n",
       "      <td>Day</td>\n",
       "      <td>Day</td>\n",
       "    </tr>\n",
       "    <tr>\n",
       "      <th>8</th>\n",
       "      <td>A-737</td>\n",
       "      <td>MapQuest</td>\n",
       "      <td>201</td>\n",
       "      <td>2</td>\n",
       "      <td>2016/6/21 10:56</td>\n",
       "      <td>2016/6/21 11:26</td>\n",
       "      <td>37.868114</td>\n",
       "      <td>-122.195930</td>\n",
       "      <td>NaN</td>\n",
       "      <td>NaN</td>\n",
       "      <td>...</td>\n",
       "      <td>False</td>\n",
       "      <td>False</td>\n",
       "      <td>False</td>\n",
       "      <td>False</td>\n",
       "      <td>False</td>\n",
       "      <td>False</td>\n",
       "      <td>Day</td>\n",
       "      <td>Day</td>\n",
       "      <td>Day</td>\n",
       "      <td>Day</td>\n",
       "    </tr>\n",
       "    <tr>\n",
       "      <th>9</th>\n",
       "      <td>A-738</td>\n",
       "      <td>MapQuest</td>\n",
       "      <td>201</td>\n",
       "      <td>3</td>\n",
       "      <td>2016/6/21 10:57</td>\n",
       "      <td>2016/6/21 11:27</td>\n",
       "      <td>37.700951</td>\n",
       "      <td>-121.801750</td>\n",
       "      <td>NaN</td>\n",
       "      <td>NaN</td>\n",
       "      <td>...</td>\n",
       "      <td>False</td>\n",
       "      <td>False</td>\n",
       "      <td>False</td>\n",
       "      <td>False</td>\n",
       "      <td>False</td>\n",
       "      <td>False</td>\n",
       "      <td>Day</td>\n",
       "      <td>Day</td>\n",
       "      <td>Day</td>\n",
       "      <td>Day</td>\n",
       "    </tr>\n",
       "  </tbody>\n",
       "</table>\n",
       "<p>10 rows × 49 columns</p>\n",
       "</div>"
      ],
      "text/plain": [
       "      ID    Source  TMC  Severity       Start_Time         End_Time  \\\n",
       "0  A-729  MapQuest  201         3  2016/6/21 10:34  2016/6/21 11:04   \n",
       "1  A-730  MapQuest  201         3  2016/6/21 10:30  2016/6/21 11:16   \n",
       "2  A-731  MapQuest  201         2  2016/6/21 10:49  2016/6/21 11:19   \n",
       "3  A-732  MapQuest  201         3  2016/6/21 10:41  2016/6/21 11:11   \n",
       "4  A-733  MapQuest  201         2  2016/6/21 10:16  2016/6/21 11:04   \n",
       "5  A-734  MapQuest  201         3  2016/6/21 10:31  2016/6/21 11:16   \n",
       "6  A-735  MapQuest  201         3  2016/6/21 10:17  2016/6/21 11:03   \n",
       "7  A-736  MapQuest  201         3  2016/6/21 10:51  2016/6/21 11:21   \n",
       "8  A-737  MapQuest  201         2  2016/6/21 10:56  2016/6/21 11:26   \n",
       "9  A-738  MapQuest  201         3  2016/6/21 10:57  2016/6/21 11:27   \n",
       "\n",
       "   Start_Lat   Start_Lng  End_Lat  End_Lng  ...  Roundabout Station   Stop  \\\n",
       "0  38.085300 -122.233017      NaN      NaN  ...       False   False  False   \n",
       "1  37.631813 -122.084167      NaN      NaN  ...       False   False  False   \n",
       "2  37.896564 -122.070717      NaN      NaN  ...       False   False  False   \n",
       "3  37.334255 -122.032471      NaN      NaN  ...       False   False  False   \n",
       "4  37.250729 -121.910713      NaN      NaN  ...       False   False  False   \n",
       "5  37.701584 -121.906929      NaN      NaN  ...       False   False  False   \n",
       "6  37.328312 -121.871811      NaN      NaN  ...       False   False  False   \n",
       "7  37.719162 -122.448273      NaN      NaN  ...       False   False  False   \n",
       "8  37.868114 -122.195930      NaN      NaN  ...       False   False  False   \n",
       "9  37.700951 -121.801750      NaN      NaN  ...       False   False  False   \n",
       "\n",
       "  Traffic_Calming Traffic_Signal Turning_Loop Sunrise_Sunset Civil_Twilight  \\\n",
       "0           False          False        False            Day            Day   \n",
       "1           False          False        False            Day            Day   \n",
       "2           False          False        False            Day            Day   \n",
       "3           False          False        False            Day            Day   \n",
       "4           False          False        False            Day            Day   \n",
       "5           False          False        False            Day            Day   \n",
       "6           False          False        False            Day            Day   \n",
       "7           False          False        False            Day            Day   \n",
       "8           False          False        False            Day            Day   \n",
       "9           False          False        False            Day            Day   \n",
       "\n",
       "  Nautical_Twilight Astronomical_Twilight  \n",
       "0               Day                   Day  \n",
       "1               Day                   Day  \n",
       "2               Day                   Day  \n",
       "3               Day                   Day  \n",
       "4               Day                   Day  \n",
       "5               Day                   Day  \n",
       "6               Day                   Day  \n",
       "7               Day                   Day  \n",
       "8               Day                   Day  \n",
       "9               Day                   Day  \n",
       "\n",
       "[10 rows x 49 columns]"
      ]
     },
     "execution_count": 2,
     "metadata": {},
     "output_type": "execute_result"
    }
   ],
   "source": [
    "#Import CA data\n",
    "US_Accidents_Dec20_CA = pd.read_csv(\"US_Accidents_Dec20_CA.csv\")\n",
    "US_Accidents_Dec20_CA.head(10)"
   ]
  },
  {
   "cell_type": "code",
   "execution_count": 3,
   "metadata": {},
   "outputs": [
    {
     "data": {
      "text/plain": [
       "array(['CA'], dtype=object)"
      ]
     },
     "execution_count": 3,
     "metadata": {},
     "output_type": "execute_result"
    }
   ],
   "source": [
    "#Ckeck the data if only contain CA\n",
    "US_Accidents_Dec20_CA[\"State\"].unique()"
   ]
  },
  {
   "cell_type": "code",
   "execution_count": 4,
   "metadata": {},
   "outputs": [
    {
     "data": {
      "text/plain": [
       "(260386, 49)"
      ]
     },
     "execution_count": 4,
     "metadata": {},
     "output_type": "execute_result"
    }
   ],
   "source": [
    "US_Accidents_Dec20_CA.shape"
   ]
  },
  {
   "cell_type": "code",
   "execution_count": 5,
   "metadata": {
    "scrolled": true
   },
   "outputs": [
    {
     "name": "stdout",
     "output_type": "stream",
     "text": [
      "<class 'pandas.core.frame.DataFrame'>\n",
      "RangeIndex: 260386 entries, 0 to 260385\n",
      "Data columns (total 49 columns):\n",
      " #   Column                 Non-Null Count   Dtype  \n",
      "---  ------                 --------------   -----  \n",
      " 0   ID                     260386 non-null  object \n",
      " 1   Source                 260386 non-null  object \n",
      " 2   TMC                    260386 non-null  int64  \n",
      " 3   Severity               260386 non-null  int64  \n",
      " 4   Start_Time             260386 non-null  object \n",
      " 5   End_Time               260386 non-null  object \n",
      " 6   Start_Lat              260386 non-null  float64\n",
      " 7   Start_Lng              260386 non-null  float64\n",
      " 8   End_Lat                0 non-null       float64\n",
      " 9   End_Lng                0 non-null       float64\n",
      " 10  Distance(mi)           260386 non-null  float64\n",
      " 11  Description            260385 non-null  object \n",
      " 12  Number                 61915 non-null   float64\n",
      " 13  Street                 260386 non-null  object \n",
      " 14  Side                   260386 non-null  object \n",
      " 15  City                   260384 non-null  object \n",
      " 16  County                 260386 non-null  object \n",
      " 17  State                  260386 non-null  object \n",
      " 18  Zipcode                260333 non-null  object \n",
      " 19  Country                260386 non-null  object \n",
      " 20  Timezone               260333 non-null  object \n",
      " 21  Airport_Code           260324 non-null  object \n",
      " 22  Weather_Timestamp      256356 non-null  object \n",
      " 23  Temperature(F)         254569 non-null  float64\n",
      " 24  Wind_Chill(F)          88119 non-null   float64\n",
      " 25  Humidity(%)            254046 non-null  float64\n",
      " 26  Pressure(in)           255667 non-null  float64\n",
      " 27  Visibility(mi)         254794 non-null  float64\n",
      " 28  Wind_Direction         255614 non-null  object \n",
      " 29  Wind_Speed(mph)        216728 non-null  float64\n",
      " 30  Precipitation(in)      88105 non-null   float64\n",
      " 31  Weather_Condition      255213 non-null  object \n",
      " 32  Amenity                260386 non-null  bool   \n",
      " 33  Bump                   260386 non-null  bool   \n",
      " 34  Crossing               260386 non-null  bool   \n",
      " 35  Give_Way               260386 non-null  bool   \n",
      " 36  Junction               260386 non-null  bool   \n",
      " 37  No_Exit                260386 non-null  bool   \n",
      " 38  Railway                260386 non-null  bool   \n",
      " 39  Roundabout             260386 non-null  bool   \n",
      " 40  Station                260386 non-null  bool   \n",
      " 41  Stop                   260386 non-null  bool   \n",
      " 42  Traffic_Calming        260386 non-null  bool   \n",
      " 43  Traffic_Signal         260386 non-null  bool   \n",
      " 44  Turning_Loop           260386 non-null  bool   \n",
      " 45  Sunrise_Sunset         260384 non-null  object \n",
      " 46  Civil_Twilight         260384 non-null  object \n",
      " 47  Nautical_Twilight      260384 non-null  object \n",
      " 48  Astronomical_Twilight  260384 non-null  object \n",
      "dtypes: bool(13), float64(13), int64(2), object(21)\n",
      "memory usage: 74.7+ MB\n"
     ]
    }
   ],
   "source": [
    "#Total variable information\n",
    "US_Accidents_Dec20_CA.info()"
   ]
  },
  {
   "cell_type": "code",
   "execution_count": 6,
   "metadata": {
    "scrolled": true
   },
   "outputs": [
    {
     "data": {
      "text/plain": [
       "ID                                                                   A-729\n",
       "Source                                                            MapQuest\n",
       "TMC                                                                    201\n",
       "Severity                                                                 3\n",
       "Start_Time                                                 2016/6/21 10:34\n",
       "End_Time                                                   2016/6/21 11:04\n",
       "Start_Lat                                                          38.0853\n",
       "Start_Lng                                                         -122.233\n",
       "End_Lat                                                                NaN\n",
       "End_Lng                                                                NaN\n",
       "Distance(mi)                                                             0\n",
       "Description              Right hand shoulder blocked due to accident on...\n",
       "Number                                                                 NaN\n",
       "Street                                                         Magazine St\n",
       "Side                                                                     R\n",
       "City                                                               Vallejo\n",
       "County                                                              Solano\n",
       "State                                                                   CA\n",
       "Zipcode                                                              94591\n",
       "Country                                                                 US\n",
       "Timezone                                                        US/Pacific\n",
       "Airport_Code                                                          KAPC\n",
       "Weather_Timestamp                                          2016/6/21 10:54\n",
       "Temperature(F)                                                          75\n",
       "Wind_Chill(F)                                                          NaN\n",
       "Humidity(%)                                                             48\n",
       "Pressure(in)                                                            30\n",
       "Visibility(mi)                                                          10\n",
       "Wind_Direction                                                    Variable\n",
       "Wind_Speed(mph)                                                        5.8\n",
       "Precipitation(in)                                                      NaN\n",
       "Weather_Condition                                                    Clear\n",
       "Amenity                                                              False\n",
       "Bump                                                                 False\n",
       "Crossing                                                             False\n",
       "Give_Way                                                             False\n",
       "Junction                                                             False\n",
       "No_Exit                                                              False\n",
       "Railway                                                              False\n",
       "Roundabout                                                           False\n",
       "Station                                                              False\n",
       "Stop                                                                 False\n",
       "Traffic_Calming                                                      False\n",
       "Traffic_Signal                                                       False\n",
       "Turning_Loop                                                         False\n",
       "Sunrise_Sunset                                                         Day\n",
       "Civil_Twilight                                                         Day\n",
       "Nautical_Twilight                                                      Day\n",
       "Astronomical_Twilight                                                  Day\n",
       "Name: 0, dtype: object"
      ]
     },
     "execution_count": 6,
     "metadata": {},
     "output_type": "execute_result"
    }
   ],
   "source": [
    "#The first row of data set content\n",
    "US_Accidents_Dec20_CA.iloc[0,:]"
   ]
  },
  {
   "cell_type": "markdown",
   "metadata": {},
   "source": [
    "# 2. Data Cleaning"
   ]
  },
  {
   "cell_type": "markdown",
   "metadata": {},
   "source": [
    "## (i) Drop Unnecessary varaibles"
   ]
  },
  {
   "cell_type": "code",
   "execution_count": 7,
   "metadata": {},
   "outputs": [],
   "source": [
    "#Drop the variables which our group thinks that are not necessary\n",
    "US_Accidents_Dec20_CA = US_Accidents_Dec20_CA.drop(['ID', 'Description', 'Street', \n",
    "                                                    'Zipcode', 'Country','Weather_Timestamp',\n",
    "                                                    'TMC','Number','Street',\n",
    "                                                    'Timezone','Civil_Twilight',\n",
    "                                                    'Nautical_Twilight','Astronomical_Twilight'], axis=1)"
   ]
  },
  {
   "cell_type": "code",
   "execution_count": 8,
   "metadata": {},
   "outputs": [],
   "source": [
    "# drop variables with only one level\n",
    "US_Accidents_Dec20_CA = US_Accidents_Dec20_CA.drop(['State', 'Source', 'Turning_Loop'], axis=1)"
   ]
  },
  {
   "cell_type": "markdown",
   "metadata": {},
   "source": [
    "## (ii). Creating features\n",
    "\n",
    "(a). Set up a time duration"
   ]
  },
  {
   "cell_type": "code",
   "execution_count": 9,
   "metadata": {},
   "outputs": [
    {
     "data": {
      "text/plain": [
       "Index(['Severity', 'Start_Time', 'End_Time', 'Start_Lat', 'Start_Lng',\n",
       "       'End_Lat', 'End_Lng', 'Distance(mi)', 'Side', 'City', 'County',\n",
       "       'Airport_Code', 'Temperature(F)', 'Wind_Chill(F)', 'Humidity(%)',\n",
       "       'Pressure(in)', 'Visibility(mi)', 'Wind_Direction', 'Wind_Speed(mph)',\n",
       "       'Precipitation(in)', 'Weather_Condition', 'Amenity', 'Bump', 'Crossing',\n",
       "       'Give_Way', 'Junction', 'No_Exit', 'Railway', 'Roundabout', 'Station',\n",
       "       'Stop', 'Traffic_Calming', 'Traffic_Signal', 'Sunrise_Sunset'],\n",
       "      dtype='object')"
      ]
     },
     "execution_count": 9,
     "metadata": {},
     "output_type": "execute_result"
    }
   ],
   "source": [
    "#Current features\n",
    "US_Accidents_Dec20_CA.columns"
   ]
  },
  {
   "cell_type": "code",
   "execution_count": 10,
   "metadata": {},
   "outputs": [
    {
     "data": {
      "text/plain": [
       "0         30.0\n",
       "1         46.0\n",
       "2         30.0\n",
       "3         30.0\n",
       "4         48.0\n",
       "          ... \n",
       "260381    48.0\n",
       "260382    28.0\n",
       "260383    30.0\n",
       "260384    47.0\n",
       "260385    30.0\n",
       "Name: Time_Duration(min), Length: 260386, dtype: float64"
      ]
     },
     "execution_count": 10,
     "metadata": {},
     "output_type": "execute_result"
    }
   ],
   "source": [
    "## extrac year, month day, hour, weekday, and time to clear accidenct\n",
    "US_Accidents_Dec20_CA[\"Start_Time\"] = pd.to_datetime(US_Accidents_Dec20_CA[\"Start_Time\"],errors=\"coerce\")\n",
    "US_Accidents_Dec20_CA[\"End_Time\"] = pd.to_datetime(US_Accidents_Dec20_CA[\"End_Time\"],errors=\"coerce\")\n",
    "\n",
    "## extract year, month day, hour \n",
    "US_Accidents_Dec20_CA[\"Year\"] = US_Accidents_Dec20_CA[\"Start_Time\"].dt.year\n",
    "US_Accidents_Dec20_CA['Month']=US_Accidents_Dec20_CA['Start_Time'].dt.strftime('%b')\n",
    "US_Accidents_Dec20_CA['Day']=US_Accidents_Dec20_CA['Start_Time'].dt.day\n",
    "US_Accidents_Dec20_CA['Hour']=US_Accidents_Dec20_CA['Start_Time'].dt.hour\n",
    "US_Accidents_Dec20_CA['Weekday']=US_Accidents_Dec20_CA['Start_Time'].dt.strftime('%a')\n",
    "\n",
    "td = \"Time_Duration(min)\"\n",
    "US_Accidents_Dec20_CA[td] = round((US_Accidents_Dec20_CA[\"End_Time\"]-US_Accidents_Dec20_CA[\"Start_Time\"])/np.timedelta64(1,\"m\"))\n",
    "US_Accidents_Dec20_CA[td]"
   ]
  },
  {
   "cell_type": "code",
   "execution_count": 11,
   "metadata": {},
   "outputs": [],
   "source": [
    "# Drop start time and end time because we don't need it\n",
    "US_Accidents_Dec20_CA = US_Accidents_Dec20_CA.drop(['Start_Time', 'End_Time'], axis=1)"
   ]
  },
  {
   "cell_type": "markdown",
   "metadata": {},
   "source": [
    "## (iii) Drop Missing Value"
   ]
  },
  {
   "cell_type": "code",
   "execution_count": 12,
   "metadata": {},
   "outputs": [
    {
     "data": {
      "text/plain": [
       "Severity                   0\n",
       "Start_Lat                  0\n",
       "Start_Lng                  0\n",
       "End_Lat               260386\n",
       "End_Lng               260386\n",
       "Distance(mi)               0\n",
       "Side                       0\n",
       "City                       2\n",
       "County                     0\n",
       "Airport_Code              62\n",
       "Temperature(F)          5817\n",
       "Wind_Chill(F)         172267\n",
       "Humidity(%)             6340\n",
       "Pressure(in)            4719\n",
       "Visibility(mi)          5592\n",
       "Wind_Direction          4772\n",
       "Wind_Speed(mph)        43658\n",
       "Precipitation(in)     172281\n",
       "Weather_Condition       5173\n",
       "Amenity                    0\n",
       "Bump                       0\n",
       "Crossing                   0\n",
       "Give_Way                   0\n",
       "Junction                   0\n",
       "No_Exit                    0\n",
       "Railway                    0\n",
       "Roundabout                 0\n",
       "Station                    0\n",
       "Stop                       0\n",
       "Traffic_Calming            0\n",
       "Traffic_Signal             0\n",
       "Sunrise_Sunset             2\n",
       "Year                       0\n",
       "Month                      0\n",
       "Day                        0\n",
       "Hour                       0\n",
       "Weekday                    0\n",
       "Time_Duration(min)         0\n",
       "dtype: int64"
      ]
     },
     "execution_count": 12,
     "metadata": {},
     "output_type": "execute_result"
    }
   ],
   "source": [
    "## missing values count\n",
    "s_nacount = np.sum(US_Accidents_Dec20_CA.isna())\n",
    "s_nacount"
   ]
  },
  {
   "cell_type": "code",
   "execution_count": 13,
   "metadata": {},
   "outputs": [
    {
     "data": {
      "text/plain": [
       "Severity                0.000000\n",
       "Start_Lat               0.000000\n",
       "Start_Lng               0.000000\n",
       "End_Lat               100.000000\n",
       "End_Lng               100.000000\n",
       "Distance(mi)            0.000000\n",
       "Side                    0.000000\n",
       "City                    0.000768\n",
       "County                  0.000000\n",
       "Airport_Code            0.023811\n",
       "Temperature(F)          2.233991\n",
       "Wind_Chill(F)          66.158319\n",
       "Humidity(%)             2.434847\n",
       "Pressure(in)            1.812309\n",
       "Visibility(mi)          2.147581\n",
       "Wind_Direction          1.832664\n",
       "Wind_Speed(mph)        16.766646\n",
       "Precipitation(in)      66.163695\n",
       "Weather_Condition       1.986666\n",
       "Amenity                 0.000000\n",
       "Bump                    0.000000\n",
       "Crossing                0.000000\n",
       "Give_Way                0.000000\n",
       "Junction                0.000000\n",
       "No_Exit                 0.000000\n",
       "Railway                 0.000000\n",
       "Roundabout              0.000000\n",
       "Station                 0.000000\n",
       "Stop                    0.000000\n",
       "Traffic_Calming         0.000000\n",
       "Traffic_Signal          0.000000\n",
       "Sunrise_Sunset          0.000768\n",
       "Year                    0.000000\n",
       "Month                   0.000000\n",
       "Day                     0.000000\n",
       "Hour                    0.000000\n",
       "Weekday                 0.000000\n",
       "Time_Duration(min)      0.000000\n",
       "dtype: float64"
      ]
     },
     "execution_count": 13,
     "metadata": {},
     "output_type": "execute_result"
    }
   ],
   "source": [
    "# Proportion of missing value\n",
    "US_Accidents_Dec20_CA.isnull().sum()/US_Accidents_Dec20_CA.shape[0]*100"
   ]
  },
  {
   "cell_type": "code",
   "execution_count": 14,
   "metadata": {},
   "outputs": [],
   "source": [
    "## Dropping variables with >50% missing observations\n",
    "US_Accidents_Dec20_CA = US_Accidents_Dec20_CA.drop(['End_Lat','End_Lng','Wind_Chill(F)','Precipitation(in)'],axis=1)"
   ]
  },
  {
   "cell_type": "code",
   "execution_count": 15,
   "metadata": {},
   "outputs": [
    {
     "name": "stdout",
     "output_type": "stream",
     "text": [
      "Total missing values: 0\n",
      "(213707, 34)\n"
     ]
    }
   ],
   "source": [
    "## Dropping missing values\n",
    "US_Accidents_Dec20_CA.dropna(axis=0,how=\"any\",inplace=True)\n",
    "print(\"Total missing values:\",np.sum(US_Accidents_Dec20_CA.isna()).sum())\n",
    "print(US_Accidents_Dec20_CA.shape)"
   ]
  },
  {
   "cell_type": "code",
   "execution_count": 16,
   "metadata": {},
   "outputs": [
    {
     "data": {
      "text/plain": [
       "Severity              0\n",
       "Start_Lat             0\n",
       "Start_Lng             0\n",
       "Distance(mi)          0\n",
       "Side                  0\n",
       "City                  0\n",
       "County                0\n",
       "Airport_Code          0\n",
       "Temperature(F)        0\n",
       "Humidity(%)           0\n",
       "Pressure(in)          0\n",
       "Visibility(mi)        0\n",
       "Wind_Direction        0\n",
       "Wind_Speed(mph)       0\n",
       "Weather_Condition     0\n",
       "Amenity               0\n",
       "Bump                  0\n",
       "Crossing              0\n",
       "Give_Way              0\n",
       "Junction              0\n",
       "No_Exit               0\n",
       "Railway               0\n",
       "Roundabout            0\n",
       "Station               0\n",
       "Stop                  0\n",
       "Traffic_Calming       0\n",
       "Traffic_Signal        0\n",
       "Sunrise_Sunset        0\n",
       "Year                  0\n",
       "Month                 0\n",
       "Day                   0\n",
       "Hour                  0\n",
       "Weekday               0\n",
       "Time_Duration(min)    0\n",
       "dtype: int64"
      ]
     },
     "execution_count": 16,
     "metadata": {},
     "output_type": "execute_result"
    }
   ],
   "source": [
    "#Check if we drop all the missing value\n",
    "US_Accidents_Dec20_CA.isna().sum()"
   ]
  },
  {
   "cell_type": "markdown",
   "metadata": {},
   "source": [
    "## (iv) Drop duplicated Entries"
   ]
  },
  {
   "cell_type": "code",
   "execution_count": 17,
   "metadata": {},
   "outputs": [
    {
     "name": "stdout",
     "output_type": "stream",
     "text": [
      "432\n"
     ]
    }
   ],
   "source": [
    "## Check Duplicated entries\n",
    "num_duplicated = np.sum(US_Accidents_Dec20_CA.duplicated())\n",
    "print(num_duplicated)"
   ]
  },
  {
   "cell_type": "code",
   "execution_count": 18,
   "metadata": {},
   "outputs": [],
   "source": [
    "## Drop Duplicate entries\n",
    "US_Accidents_Dec20_CA.drop_duplicates(inplace=True)"
   ]
  },
  {
   "cell_type": "code",
   "execution_count": 19,
   "metadata": {},
   "outputs": [
    {
     "name": "stdout",
     "output_type": "stream",
     "text": [
      "0\n"
     ]
    }
   ],
   "source": [
    "# Check Duplicated entries again\n",
    "num_duplicated = np.sum(US_Accidents_Dec20_CA.duplicated())\n",
    "print(num_duplicated)"
   ]
  },
  {
   "cell_type": "markdown",
   "metadata": {},
   "source": [
    "## (v) Simplify categorical variables with too many levels\n",
    "\n",
    "1. Simplify wind direction\n",
    "2. Simplify weather condition"
   ]
  },
  {
   "cell_type": "code",
   "execution_count": 20,
   "metadata": {},
   "outputs": [
    {
     "data": {
      "text/plain": [
       "array(['Variable', 'WSW', 'NNW', 'NNE', 'NE', 'WNW', 'NW', 'West',\n",
       "       'South', 'SW', 'North', 'SSW', 'SE', 'SSE', 'ESE', 'ENE', 'East',\n",
       "       'S', 'VAR', 'CALM', 'E', 'W', 'N'], dtype=object)"
      ]
     },
     "execution_count": 20,
     "metadata": {},
     "output_type": "execute_result"
    }
   ],
   "source": [
    "# simplify wind direction \n",
    "US_Accidents_Dec20_CA['Wind_Direction'].unique()"
   ]
  },
  {
   "cell_type": "code",
   "execution_count": 21,
   "metadata": {},
   "outputs": [
    {
     "name": "stdout",
     "output_type": "stream",
     "text": [
      "Wind Direction after simplification:  ['VAR' 'W' 'N' 'NE' 'NW' 'S' 'SW' 'SE' 'E' 'CALM']\n"
     ]
    }
   ],
   "source": [
    "US_Accidents_Dec20_CA.loc[(US_Accidents_Dec20_CA['Wind_Direction']=='West')|(US_Accidents_Dec20_CA['Wind_Direction']=='WSW')|(US_Accidents_Dec20_CA['Wind_Direction']=='WNW'),'Wind_Direction'] = 'W'\n",
    "US_Accidents_Dec20_CA.loc[(US_Accidents_Dec20_CA['Wind_Direction']=='South')|(US_Accidents_Dec20_CA['Wind_Direction']=='SSW')|(US_Accidents_Dec20_CA['Wind_Direction']=='SSE'),'Wind_Direction'] = 'S'\n",
    "US_Accidents_Dec20_CA.loc[(US_Accidents_Dec20_CA['Wind_Direction']=='North')|(US_Accidents_Dec20_CA['Wind_Direction']=='NNW')|(US_Accidents_Dec20_CA['Wind_Direction']=='NNE'),'Wind_Direction'] = 'N'\n",
    "US_Accidents_Dec20_CA.loc[(US_Accidents_Dec20_CA['Wind_Direction']=='East')|(US_Accidents_Dec20_CA['Wind_Direction']=='ESE')|(US_Accidents_Dec20_CA['Wind_Direction']=='ENE'),'Wind_Direction'] = 'E'\n",
    "US_Accidents_Dec20_CA.loc[US_Accidents_Dec20_CA['Wind_Direction']=='Variable','Wind_Direction'] = 'VAR'\n",
    "print(\"Wind Direction after simplification: \", US_Accidents_Dec20_CA['Wind_Direction'].unique())"
   ]
  },
  {
   "cell_type": "code",
   "execution_count": 22,
   "metadata": {},
   "outputs": [
    {
     "data": {
      "text/plain": [
       "array(['Clear', 'Partly Cloudy', 'Haze', 'Mostly Cloudy',\n",
       "       'Scattered Clouds', 'Overcast', 'Light Rain', 'Smoke', 'Fog',\n",
       "       'Patches of Fog', 'Rain', 'Mist', 'Light Drizzle', 'Heavy Rain',\n",
       "       'Shallow Fog', 'Light Snow', 'Snow', 'Light Freezing Fog',\n",
       "       'Light Haze', 'Light Thunderstorms and Rain', 'Light Rain Showers',\n",
       "       'Thunderstorms and Rain', 'Fair', 'Cloudy', 'Blowing Sand',\n",
       "       'Blowing Dust / Windy', 'Widespread Dust', 'Fair / Windy',\n",
       "       'Rain Showers', 'Drizzle', 'Light Rain / Windy', 'Hail',\n",
       "       'Heavy Drizzle', 'Showers in the Vicinity', 'Light Rain Shower',\n",
       "       'Light Rain with Thunder', 'Mostly Cloudy / Windy',\n",
       "       'Partly Cloudy / Windy', 'Thunder in the Vicinity', 'T-Storm',\n",
       "       'Rain / Windy', 'Heavy Rain / Windy', 'Light Freezing Rain',\n",
       "       'Thunderstorm', 'Squalls', 'N/A Precipitation', 'Heavy T-Storm',\n",
       "       'Thunder', 'Cloudy / Windy', 'Partial Fog', 'Haze / Windy',\n",
       "       'Heavy Snow', 'Light Snow / Windy', 'Smoke / Windy',\n",
       "       'Blowing Dust', 'Squalls / Windy', 'Rain Shower',\n",
       "       'Light Rain Shower / Windy', 'Fog / Windy', 'Wintry Mix',\n",
       "       'Light Drizzle / Windy'], dtype=object)"
      ]
     },
     "execution_count": 22,
     "metadata": {},
     "output_type": "execute_result"
    }
   ],
   "source": [
    "# simplify weather condition\n",
    "US_Accidents_Dec20_CA['Weather_Condition'].unique()"
   ]
  },
  {
   "cell_type": "code",
   "execution_count": 23,
   "metadata": {},
   "outputs": [],
   "source": [
    "US_Accidents_Dec20_CA.loc[US_Accidents_Dec20_CA[\"Weather_Condition\"].str.contains(\"Thunder|T-Storm\", na=False), \"Weather_Condition\"] = \"Thunderstorm\"\n",
    "US_Accidents_Dec20_CA.loc[US_Accidents_Dec20_CA[\"Weather_Condition\"].str.contains(\"Snow|Sleet|Wintry\", na=False), \"Weather_Condition\"] = \"Snow\"\n",
    "US_Accidents_Dec20_CA.loc[US_Accidents_Dec20_CA[\"Weather_Condition\"].str.contains(\"Rain|Drizzle|Shower\", na=False), \"Weather_Condition\"] = \"Rain\"\n",
    "US_Accidents_Dec20_CA.loc[US_Accidents_Dec20_CA[\"Weather_Condition\"].str.contains(\"Wind|Squalls\", na=False), \"Weather_Condition\"] = \"Windy\"\n",
    "US_Accidents_Dec20_CA.loc[US_Accidents_Dec20_CA[\"Weather_Condition\"].str.contains(\"Hail|Pellets\", na=False), \"Weather_Condition\"] = \"Hail\"\n",
    "US_Accidents_Dec20_CA.loc[US_Accidents_Dec20_CA[\"Weather_Condition\"].str.contains(\"Fair\", na=False), \"Weather_Condition\"] = \"Clear\"\n",
    "US_Accidents_Dec20_CA.loc[US_Accidents_Dec20_CA[\"Weather_Condition\"].str.contains(\"Cloud|Overcast\", na=False), \"Weather_Condition\"] = \"Cloudy\"\n",
    "US_Accidents_Dec20_CA.loc[US_Accidents_Dec20_CA[\"Weather_Condition\"].str.contains(\"Mist|Haze|Fog\", na=False), \"Weather_Condition\"] = \"Fog\"\n",
    "US_Accidents_Dec20_CA.loc[US_Accidents_Dec20_CA[\"Weather_Condition\"].str.contains(\"Sand|Dust\", na=False), \"Weather_Condition\"] = \"Sand\"\n",
    "US_Accidents_Dec20_CA.loc[US_Accidents_Dec20_CA[\"Weather_Condition\"].str.contains(\"Smoke|Volcanic Ash\", na=False), \"Weather_Condition\"] = \"Smoke\"\n",
    "US_Accidents_Dec20_CA.loc[US_Accidents_Dec20_CA[\"Weather_Condition\"].str.contains(\"N/A Precipitation\", na=False), \"Weather_Condition\"] = np.nan"
   ]
  },
  {
   "cell_type": "code",
   "execution_count": 24,
   "metadata": {},
   "outputs": [
    {
     "name": "stdout",
     "output_type": "stream",
     "text": [
      "Weather_Condition after simplification:  ['Clear' 'Cloudy' 'Fog' 'Rain' 'Smoke' 'Snow' 'Thunderstorm' 'Sand'\n",
      " 'Windy' 'Hail' nan]\n"
     ]
    }
   ],
   "source": [
    "print(\"Weather_Condition after simplification: \", US_Accidents_Dec20_CA[\"Weather_Condition\"].unique())"
   ]
  },
  {
   "cell_type": "markdown",
   "metadata": {},
   "source": [
    "# 3. EDA"
   ]
  },
  {
   "cell_type": "markdown",
   "metadata": {},
   "source": [
    "## (1) Look the outliers"
   ]
  },
  {
   "cell_type": "code",
   "execution_count": 25,
   "metadata": {},
   "outputs": [
    {
     "data": {
      "text/html": [
       "<div>\n",
       "<style scoped>\n",
       "    .dataframe tbody tr th:only-of-type {\n",
       "        vertical-align: middle;\n",
       "    }\n",
       "\n",
       "    .dataframe tbody tr th {\n",
       "        vertical-align: top;\n",
       "    }\n",
       "\n",
       "    .dataframe thead th {\n",
       "        text-align: right;\n",
       "    }\n",
       "</style>\n",
       "<table border=\"1\" class=\"dataframe\">\n",
       "  <thead>\n",
       "    <tr style=\"text-align: right;\">\n",
       "      <th></th>\n",
       "      <th>count</th>\n",
       "      <th>mean</th>\n",
       "      <th>std</th>\n",
       "      <th>min</th>\n",
       "      <th>25%</th>\n",
       "      <th>50%</th>\n",
       "      <th>75%</th>\n",
       "      <th>max</th>\n",
       "      <th>outlier_max</th>\n",
       "      <th>outlier_min</th>\n",
       "      <th>outlier</th>\n",
       "    </tr>\n",
       "  </thead>\n",
       "  <tbody>\n",
       "    <tr>\n",
       "      <th>Severity</th>\n",
       "      <td>213275.0</td>\n",
       "      <td>2.400206</td>\n",
       "      <td>0.494020</td>\n",
       "      <td>1.000000</td>\n",
       "      <td>2.000000</td>\n",
       "      <td>2.000000</td>\n",
       "      <td>3.000000</td>\n",
       "      <td>4.000000</td>\n",
       "      <td>3.882267</td>\n",
       "      <td>0.918146</td>\n",
       "      <td>1.0</td>\n",
       "    </tr>\n",
       "    <tr>\n",
       "      <th>Start_Lat</th>\n",
       "      <td>213275.0</td>\n",
       "      <td>35.623320</td>\n",
       "      <td>2.064440</td>\n",
       "      <td>32.542587</td>\n",
       "      <td>33.949665</td>\n",
       "      <td>34.216019</td>\n",
       "      <td>37.749832</td>\n",
       "      <td>41.992886</td>\n",
       "      <td>41.816641</td>\n",
       "      <td>29.429999</td>\n",
       "      <td>1.0</td>\n",
       "    </tr>\n",
       "    <tr>\n",
       "      <th>Start_Lng</th>\n",
       "      <td>213275.0</td>\n",
       "      <td>-119.600102</td>\n",
       "      <td>1.996001</td>\n",
       "      <td>-124.369232</td>\n",
       "      <td>-121.833443</td>\n",
       "      <td>-118.452553</td>\n",
       "      <td>-117.936512</td>\n",
       "      <td>-114.510925</td>\n",
       "      <td>-113.612098</td>\n",
       "      <td>-125.588106</td>\n",
       "      <td>NaN</td>\n",
       "    </tr>\n",
       "    <tr>\n",
       "      <th>Distance(mi)</th>\n",
       "      <td>213275.0</td>\n",
       "      <td>0.045946</td>\n",
       "      <td>0.444381</td>\n",
       "      <td>0.000000</td>\n",
       "      <td>0.000000</td>\n",
       "      <td>0.000000</td>\n",
       "      <td>0.010000</td>\n",
       "      <td>51.130000</td>\n",
       "      <td>1.379091</td>\n",
       "      <td>-1.287198</td>\n",
       "      <td>1.0</td>\n",
       "    </tr>\n",
       "    <tr>\n",
       "      <th>Temperature(F)</th>\n",
       "      <td>213275.0</td>\n",
       "      <td>65.986089</td>\n",
       "      <td>12.656290</td>\n",
       "      <td>7.000000</td>\n",
       "      <td>57.000000</td>\n",
       "      <td>64.900000</td>\n",
       "      <td>73.900000</td>\n",
       "      <td>127.000000</td>\n",
       "      <td>103.954960</td>\n",
       "      <td>28.017219</td>\n",
       "      <td>1.0</td>\n",
       "    </tr>\n",
       "    <tr>\n",
       "      <th>Humidity(%)</th>\n",
       "      <td>213275.0</td>\n",
       "      <td>58.964764</td>\n",
       "      <td>23.149133</td>\n",
       "      <td>2.000000</td>\n",
       "      <td>42.000000</td>\n",
       "      <td>61.000000</td>\n",
       "      <td>77.000000</td>\n",
       "      <td>100.000000</td>\n",
       "      <td>128.412163</td>\n",
       "      <td>-10.482635</td>\n",
       "      <td>NaN</td>\n",
       "    </tr>\n",
       "    <tr>\n",
       "      <th>Pressure(in)</th>\n",
       "      <td>213275.0</td>\n",
       "      <td>29.816991</td>\n",
       "      <td>0.498205</td>\n",
       "      <td>3.010000</td>\n",
       "      <td>29.820000</td>\n",
       "      <td>29.920000</td>\n",
       "      <td>30.020000</td>\n",
       "      <td>58.040000</td>\n",
       "      <td>31.311607</td>\n",
       "      <td>28.322375</td>\n",
       "      <td>1.0</td>\n",
       "    </tr>\n",
       "    <tr>\n",
       "      <th>Visibility(mi)</th>\n",
       "      <td>213275.0</td>\n",
       "      <td>9.202990</td>\n",
       "      <td>2.329285</td>\n",
       "      <td>0.000000</td>\n",
       "      <td>10.000000</td>\n",
       "      <td>10.000000</td>\n",
       "      <td>10.000000</td>\n",
       "      <td>100.000000</td>\n",
       "      <td>16.190844</td>\n",
       "      <td>2.215136</td>\n",
       "      <td>1.0</td>\n",
       "    </tr>\n",
       "    <tr>\n",
       "      <th>Wind_Speed(mph)</th>\n",
       "      <td>213275.0</td>\n",
       "      <td>7.097722</td>\n",
       "      <td>6.223569</td>\n",
       "      <td>0.000000</td>\n",
       "      <td>3.500000</td>\n",
       "      <td>6.900000</td>\n",
       "      <td>9.200000</td>\n",
       "      <td>822.800000</td>\n",
       "      <td>25.768430</td>\n",
       "      <td>-11.572986</td>\n",
       "      <td>1.0</td>\n",
       "    </tr>\n",
       "    <tr>\n",
       "      <th>Year</th>\n",
       "      <td>213275.0</td>\n",
       "      <td>2017.722527</td>\n",
       "      <td>1.747040</td>\n",
       "      <td>2016.000000</td>\n",
       "      <td>2016.000000</td>\n",
       "      <td>2017.000000</td>\n",
       "      <td>2020.000000</td>\n",
       "      <td>2020.000000</td>\n",
       "      <td>2022.963646</td>\n",
       "      <td>2012.481408</td>\n",
       "      <td>NaN</td>\n",
       "    </tr>\n",
       "    <tr>\n",
       "      <th>Day</th>\n",
       "      <td>213275.0</td>\n",
       "      <td>15.622848</td>\n",
       "      <td>8.654492</td>\n",
       "      <td>1.000000</td>\n",
       "      <td>8.000000</td>\n",
       "      <td>16.000000</td>\n",
       "      <td>23.000000</td>\n",
       "      <td>31.000000</td>\n",
       "      <td>41.586324</td>\n",
       "      <td>-10.340628</td>\n",
       "      <td>NaN</td>\n",
       "    </tr>\n",
       "    <tr>\n",
       "      <th>Hour</th>\n",
       "      <td>213275.0</td>\n",
       "      <td>12.981784</td>\n",
       "      <td>5.532879</td>\n",
       "      <td>0.000000</td>\n",
       "      <td>9.000000</td>\n",
       "      <td>13.000000</td>\n",
       "      <td>17.000000</td>\n",
       "      <td>23.000000</td>\n",
       "      <td>29.580422</td>\n",
       "      <td>-3.616854</td>\n",
       "      <td>NaN</td>\n",
       "    </tr>\n",
       "    <tr>\n",
       "      <th>Time_Duration(min)</th>\n",
       "      <td>213275.0</td>\n",
       "      <td>52.960000</td>\n",
       "      <td>42.135488</td>\n",
       "      <td>11.000000</td>\n",
       "      <td>30.000000</td>\n",
       "      <td>45.000000</td>\n",
       "      <td>60.000000</td>\n",
       "      <td>7800.000000</td>\n",
       "      <td>179.366465</td>\n",
       "      <td>-73.446465</td>\n",
       "      <td>1.0</td>\n",
       "    </tr>\n",
       "  </tbody>\n",
       "</table>\n",
       "</div>"
      ],
      "text/plain": [
       "                       count         mean        std          min  \\\n",
       "Severity            213275.0     2.400206   0.494020     1.000000   \n",
       "Start_Lat           213275.0    35.623320   2.064440    32.542587   \n",
       "Start_Lng           213275.0  -119.600102   1.996001  -124.369232   \n",
       "Distance(mi)        213275.0     0.045946   0.444381     0.000000   \n",
       "Temperature(F)      213275.0    65.986089  12.656290     7.000000   \n",
       "Humidity(%)         213275.0    58.964764  23.149133     2.000000   \n",
       "Pressure(in)        213275.0    29.816991   0.498205     3.010000   \n",
       "Visibility(mi)      213275.0     9.202990   2.329285     0.000000   \n",
       "Wind_Speed(mph)     213275.0     7.097722   6.223569     0.000000   \n",
       "Year                213275.0  2017.722527   1.747040  2016.000000   \n",
       "Day                 213275.0    15.622848   8.654492     1.000000   \n",
       "Hour                213275.0    12.981784   5.532879     0.000000   \n",
       "Time_Duration(min)  213275.0    52.960000  42.135488    11.000000   \n",
       "\n",
       "                            25%          50%          75%          max  \\\n",
       "Severity               2.000000     2.000000     3.000000     4.000000   \n",
       "Start_Lat             33.949665    34.216019    37.749832    41.992886   \n",
       "Start_Lng           -121.833443  -118.452553  -117.936512  -114.510925   \n",
       "Distance(mi)           0.000000     0.000000     0.010000    51.130000   \n",
       "Temperature(F)        57.000000    64.900000    73.900000   127.000000   \n",
       "Humidity(%)           42.000000    61.000000    77.000000   100.000000   \n",
       "Pressure(in)          29.820000    29.920000    30.020000    58.040000   \n",
       "Visibility(mi)        10.000000    10.000000    10.000000   100.000000   \n",
       "Wind_Speed(mph)        3.500000     6.900000     9.200000   822.800000   \n",
       "Year                2016.000000  2017.000000  2020.000000  2020.000000   \n",
       "Day                    8.000000    16.000000    23.000000    31.000000   \n",
       "Hour                   9.000000    13.000000    17.000000    23.000000   \n",
       "Time_Duration(min)    30.000000    45.000000    60.000000  7800.000000   \n",
       "\n",
       "                    outlier_max  outlier_min  outlier  \n",
       "Severity               3.882267     0.918146      1.0  \n",
       "Start_Lat             41.816641    29.429999      1.0  \n",
       "Start_Lng           -113.612098  -125.588106      NaN  \n",
       "Distance(mi)           1.379091    -1.287198      1.0  \n",
       "Temperature(F)       103.954960    28.017219      1.0  \n",
       "Humidity(%)          128.412163   -10.482635      NaN  \n",
       "Pressure(in)          31.311607    28.322375      1.0  \n",
       "Visibility(mi)        16.190844     2.215136      1.0  \n",
       "Wind_Speed(mph)       25.768430   -11.572986      1.0  \n",
       "Year                2022.963646  2012.481408      NaN  \n",
       "Day                   41.586324   -10.340628      NaN  \n",
       "Hour                  29.580422    -3.616854      NaN  \n",
       "Time_Duration(min)   179.366465   -73.446465      1.0  "
      ]
     },
     "execution_count": 25,
     "metadata": {},
     "output_type": "execute_result"
    }
   ],
   "source": [
    "## Finding outliers (outlier > mean + 3*std_dev)\n",
    "stats = US_Accidents_Dec20_CA.describe().transpose()\n",
    "stats['outlier_max'] = stats['mean'] + 3*stats['std']\n",
    "stats['outlier_min'] = stats['mean'] - 3*stats['std']\n",
    "stats.loc[stats['min'] < stats['outlier_min'], 'outlier'] = 1\n",
    "stats.loc[stats['max'] > stats['outlier_max'], 'outlier'] = 1\n",
    "stats"
   ]
  },
  {
   "cell_type": "code",
   "execution_count": 26,
   "metadata": {},
   "outputs": [
    {
     "name": "stderr",
     "output_type": "stream",
     "text": [
      "<ipython-input-26-c9e8c6de3ae8>:7: SettingWithCopyWarning: \n",
      "A value is trying to be set on a copy of a slice from a DataFrame\n",
      "\n",
      "See the caveats in the documentation: https://pandas.pydata.org/pandas-docs/stable/user_guide/indexing.html#returning-a-view-versus-a-copy\n",
      "  US_Accidents_Dec20_CA[td][outliers] = np.nan\n"
     ]
    }
   ],
   "source": [
    "# Capping duration to mean + 3 * sd\n",
    "# Not capping other weather related vars as these might be meaningful extreme weather days\n",
    "mean = np.mean(US_Accidents_Dec20_CA[td])\n",
    "std = np.std(US_Accidents_Dec20_CA[td])\n",
    "n = 3\n",
    "outliers = (US_Accidents_Dec20_CA[td]- mean).abs() > std * n \n",
    "US_Accidents_Dec20_CA[td][outliers] = np.nan\n",
    "US_Accidents_Dec20_CA[td].fillna(mean + n * std,inplace=True)"
   ]
  },
  {
   "cell_type": "code",
   "execution_count": 27,
   "metadata": {},
   "outputs": [
    {
     "name": "stderr",
     "output_type": "stream",
     "text": [
      "<ipython-input-27-f59a213cd1a6>:6: SettingWithCopyWarning: \n",
      "A value is trying to be set on a copy of a slice from a DataFrame\n",
      "\n",
      "See the caveats in the documentation: https://pandas.pydata.org/pandas-docs/stable/user_guide/indexing.html#returning-a-view-versus-a-copy\n",
      "  US_Accidents_Dec20_CA['Distance(mi)'][outliers] = np.nan\n"
     ]
    }
   ],
   "source": [
    "# Capping Distance to mean + 3*sd\n",
    "mean = np.mean(US_Accidents_Dec20_CA['Distance(mi)'])\n",
    "std = np.std(US_Accidents_Dec20_CA['Distance(mi)'])\n",
    "n = 3\n",
    "outliers = (US_Accidents_Dec20_CA['Distance(mi)']- mean).abs() > std * n\n",
    "US_Accidents_Dec20_CA['Distance(mi)'][outliers] = np.nan\n",
    "US_Accidents_Dec20_CA['Distance(mi)'].fillna(mean + n * std,inplace=True)"
   ]
  },
  {
   "cell_type": "markdown",
   "metadata": {},
   "source": [
    "## (2) Severity distribution"
   ]
  },
  {
   "cell_type": "code",
   "execution_count": 28,
   "metadata": {},
   "outputs": [
    {
     "data": {
      "text/plain": [
       "2    127920\n",
       "3     84927\n",
       "4       285\n",
       "1       143\n",
       "Name: Severity, dtype: int64"
      ]
     },
     "execution_count": 28,
     "metadata": {},
     "output_type": "execute_result"
    }
   ],
   "source": [
    "US_Accidents_Dec20_CA[\"Severity\"].value_counts()"
   ]
  },
  {
   "cell_type": "code",
   "execution_count": 29,
   "metadata": {},
   "outputs": [
    {
     "data": {
      "text/plain": [
       "2    0.599789\n",
       "3    0.398204\n",
       "4    0.001336\n",
       "1    0.000670\n",
       "Name: Severity, dtype: float64"
      ]
     },
     "execution_count": 29,
     "metadata": {},
     "output_type": "execute_result"
    }
   ],
   "source": [
    "US_Accidents_Dec20_CA[\"Severity\"].value_counts(normalize=True)"
   ]
  },
  {
   "cell_type": "code",
   "execution_count": 30,
   "metadata": {},
   "outputs": [
    {
     "data": {
      "text/html": [
       "<div>\n",
       "<style scoped>\n",
       "    .dataframe tbody tr th:only-of-type {\n",
       "        vertical-align: middle;\n",
       "    }\n",
       "\n",
       "    .dataframe tbody tr th {\n",
       "        vertical-align: top;\n",
       "    }\n",
       "\n",
       "    .dataframe thead th {\n",
       "        text-align: right;\n",
       "    }\n",
       "</style>\n",
       "<table border=\"1\" class=\"dataframe\">\n",
       "  <thead>\n",
       "    <tr style=\"text-align: right;\">\n",
       "      <th></th>\n",
       "      <th>Time_Duration(min)</th>\n",
       "    </tr>\n",
       "    <tr>\n",
       "      <th>Severity</th>\n",
       "      <th></th>\n",
       "    </tr>\n",
       "  </thead>\n",
       "  <tbody>\n",
       "    <tr>\n",
       "      <th>1</th>\n",
       "      <td>47.321678</td>\n",
       "    </tr>\n",
       "    <tr>\n",
       "      <th>2</th>\n",
       "      <td>53.912047</td>\n",
       "    </tr>\n",
       "    <tr>\n",
       "      <th>3</th>\n",
       "      <td>48.832673</td>\n",
       "    </tr>\n",
       "    <tr>\n",
       "      <th>4</th>\n",
       "      <td>107.406665</td>\n",
       "    </tr>\n",
       "  </tbody>\n",
       "</table>\n",
       "</div>"
      ],
      "text/plain": [
       "          Time_Duration(min)\n",
       "Severity                    \n",
       "1                  47.321678\n",
       "2                  53.912047\n",
       "3                  48.832673\n",
       "4                 107.406665"
      ]
     },
     "execution_count": 30,
     "metadata": {},
     "output_type": "execute_result"
    }
   ],
   "source": [
    "US_Accidents_Dec20_CA[['Severity', 'Time_Duration(min)']].groupby('Severity').mean()"
   ]
  },
  {
   "cell_type": "code",
   "execution_count": 31,
   "metadata": {},
   "outputs": [
    {
     "data": {
      "text/html": [
       "<div>\n",
       "<style scoped>\n",
       "    .dataframe tbody tr th:only-of-type {\n",
       "        vertical-align: middle;\n",
       "    }\n",
       "\n",
       "    .dataframe tbody tr th {\n",
       "        vertical-align: top;\n",
       "    }\n",
       "\n",
       "    .dataframe thead th {\n",
       "        text-align: right;\n",
       "    }\n",
       "</style>\n",
       "<table border=\"1\" class=\"dataframe\">\n",
       "  <thead>\n",
       "    <tr style=\"text-align: right;\">\n",
       "      <th></th>\n",
       "      <th>Time_Duration(min)</th>\n",
       "    </tr>\n",
       "    <tr>\n",
       "      <th>Severity</th>\n",
       "      <th></th>\n",
       "    </tr>\n",
       "  </thead>\n",
       "  <tbody>\n",
       "    <tr>\n",
       "      <th>1</th>\n",
       "      <td>29.0</td>\n",
       "    </tr>\n",
       "    <tr>\n",
       "      <th>2</th>\n",
       "      <td>11.0</td>\n",
       "    </tr>\n",
       "    <tr>\n",
       "      <th>3</th>\n",
       "      <td>20.0</td>\n",
       "    </tr>\n",
       "    <tr>\n",
       "      <th>4</th>\n",
       "      <td>28.0</td>\n",
       "    </tr>\n",
       "  </tbody>\n",
       "</table>\n",
       "</div>"
      ],
      "text/plain": [
       "          Time_Duration(min)\n",
       "Severity                    \n",
       "1                       29.0\n",
       "2                       11.0\n",
       "3                       20.0\n",
       "4                       28.0"
      ]
     },
     "execution_count": 31,
     "metadata": {},
     "output_type": "execute_result"
    }
   ],
   "source": [
    "US_Accidents_Dec20_CA[['Severity', 'Time_Duration(min)']].groupby('Severity').min()"
   ]
  },
  {
   "cell_type": "code",
   "execution_count": 32,
   "metadata": {},
   "outputs": [
    {
     "data": {
      "text/html": [
       "<div>\n",
       "<style scoped>\n",
       "    .dataframe tbody tr th:only-of-type {\n",
       "        vertical-align: middle;\n",
       "    }\n",
       "\n",
       "    .dataframe tbody tr th {\n",
       "        vertical-align: top;\n",
       "    }\n",
       "\n",
       "    .dataframe thead th {\n",
       "        text-align: right;\n",
       "    }\n",
       "</style>\n",
       "<table border=\"1\" class=\"dataframe\">\n",
       "  <thead>\n",
       "    <tr style=\"text-align: right;\">\n",
       "      <th></th>\n",
       "      <th>Time_Duration(min)</th>\n",
       "    </tr>\n",
       "    <tr>\n",
       "      <th>Severity</th>\n",
       "      <th></th>\n",
       "    </tr>\n",
       "  </thead>\n",
       "  <tbody>\n",
       "    <tr>\n",
       "      <th>1</th>\n",
       "      <td>150.000000</td>\n",
       "    </tr>\n",
       "    <tr>\n",
       "      <th>2</th>\n",
       "      <td>179.366168</td>\n",
       "    </tr>\n",
       "    <tr>\n",
       "      <th>3</th>\n",
       "      <td>179.366168</td>\n",
       "    </tr>\n",
       "    <tr>\n",
       "      <th>4</th>\n",
       "      <td>179.366168</td>\n",
       "    </tr>\n",
       "  </tbody>\n",
       "</table>\n",
       "</div>"
      ],
      "text/plain": [
       "          Time_Duration(min)\n",
       "Severity                    \n",
       "1                 150.000000\n",
       "2                 179.366168\n",
       "3                 179.366168\n",
       "4                 179.366168"
      ]
     },
     "execution_count": 32,
     "metadata": {},
     "output_type": "execute_result"
    }
   ],
   "source": [
    "US_Accidents_Dec20_CA[['Severity', 'Time_Duration(min)']].groupby('Severity').max()"
   ]
  },
  {
   "cell_type": "code",
   "execution_count": 33,
   "metadata": {},
   "outputs": [
    {
     "data": {
      "text/plain": [
       "<AxesSubplot:xlabel='Severity', ylabel='Time_Duration(min)'>"
      ]
     },
     "execution_count": 33,
     "metadata": {},
     "output_type": "execute_result"
    },
    {
     "data": {
      "image/png": "[encoded data removed]",
      "text/plain": [
       "<Figure size 432x288 with 1 Axes>"
      ]
     },
     "metadata": {
      "needs_background": "light"
     },
     "output_type": "display_data"
    }
   ],
   "source": [
    "order = US_Accidents_Dec20_CA['Severity'].value_counts().index.sort_values()\n",
    "sns.boxplot(x = 'Severity', y='Time_Duration(min)', data = US_Accidents_Dec20_CA, order = order)"
   ]
  },
  {
   "cell_type": "code",
   "execution_count": 34,
   "metadata": {},
   "outputs": [],
   "source": [
    "#remove outliers' function\n",
    "def remove_outliers(data, variable, lower=-np.inf, upper=np.inf):\n",
    "    return data.loc[(data[variable] > lower) & (data[variable] < upper), :]"
   ]
  },
  {
   "cell_type": "code",
   "execution_count": 35,
   "metadata": {},
   "outputs": [
    {
     "data": {
      "text/plain": [
       "<AxesSubplot:xlabel='Severity', ylabel='Time_Duration(min)'>"
      ]
     },
     "execution_count": 35,
     "metadata": {},
     "output_type": "execute_result"
    },
    {
     "data": {
      "image/png": "[encoded data removed]",
      "text/plain": [
       "<Figure size 432x288 with 1 Axes>"
      ]
     },
     "metadata": {
      "needs_background": "light"
     },
     "output_type": "display_data"
    }
   ],
   "source": [
    "Q1 = np.quantile(US_Accidents_Dec20_CA['Time_Duration(min)'], 0.25)\n",
    "Q3 = np.quantile(US_Accidents_Dec20_CA['Time_Duration(min)'], 0.75)\n",
    "Time_Duration = US_Accidents_Dec20_CA.copy()\n",
    "Time_Duration = remove_outliers(US_Accidents_Dec20_CA, 'Time_Duration(min)', lower=Q1 - 1.5* (Q3 - Q1), upper= Q3 + 1.5*(Q3 - Q1))\n",
    "\n",
    "order = Time_Duration['Severity'].value_counts().index.sort_values()\n",
    "sns.boxplot(x = 'Severity', y='Time_Duration(min)', data = Time_Duration, order = order)"
   ]
  },
  {
   "cell_type": "markdown",
   "metadata": {},
   "source": [
    "## (3) Distance"
   ]
  },
  {
   "cell_type": "code",
   "execution_count": 36,
   "metadata": {},
   "outputs": [
    {
     "name": "stderr",
     "output_type": "stream",
     "text": [
      "C:\\Users\\Administrator\\anaconda3\\lib\\site-packages\\seaborn\\_decorators.py:36: FutureWarning: Pass the following variables as keyword args: x, y. From version 0.12, the only valid positional argument will be `data`, and passing other arguments without an explicit keyword will result in an error or misinterpretation.\n",
      "  warnings.warn(\n"
     ]
    },
    {
     "data": {
      "image/png": "[encoded data removed]",
      "text/plain": [
       "<Figure size 432x288 with 1 Axes>"
      ]
     },
     "metadata": {
      "needs_background": "light"
     },
     "output_type": "display_data"
    }
   ],
   "source": [
    "# Comparing with other severity levels, Severity 4 accidents have far more impact on traffic distance.\n",
    "severity_distance = US_Accidents_Dec20_CA.groupby(\"Severity\").mean()[\"Distance(mi)\"].sort_values(ascending=False)\n",
    "plt.title(\"Mean distance by severity\")\n",
    "sns.barplot( severity_distance.index, severity_distance.values, order=severity_distance.index, palette=\"Blues_d\")\n",
    "plt.xlabel(\"Distance (mi)\")\n",
    "plt.show()"
   ]
  },
  {
   "cell_type": "code",
   "execution_count": 37,
   "metadata": {},
   "outputs": [
    {
     "data": {
      "text/plain": [
       "Severity\n",
       "4    0.973513\n",
       "3    0.030922\n",
       "2    0.030182\n",
       "1    0.002937\n",
       "Name: Distance(mi), dtype: float64"
      ]
     },
     "execution_count": 37,
     "metadata": {},
     "output_type": "execute_result"
    }
   ],
   "source": [
    "severity_distance"
   ]
  },
  {
   "cell_type": "markdown",
   "metadata": {},
   "source": [
    "## (4) Road Features"
   ]
  },
  {
   "cell_type": "code",
   "execution_count": 38,
   "metadata": {},
   "outputs": [
    {
     "name": "stderr",
     "output_type": "stream",
     "text": [
      "C:\\Users\\Administrator\\anaconda3\\lib\\site-packages\\seaborn\\_decorators.py:36: FutureWarning: Pass the following variables as keyword args: x, y. From version 0.12, the only valid positional argument will be `data`, and passing other arguments without an explicit keyword will result in an error or misinterpretation.\n",
      "  warnings.warn(\n"
     ]
    },
    {
     "data": {
      "image/png": "[encoded data removed]",
      "text/plain": [
       "<Figure size 1296x576 with 1 Axes>"
      ]
     },
     "metadata": {
      "needs_background": "light"
     },
     "output_type": "display_data"
    }
   ],
   "source": [
    "road_features = [\"Amenity\", \"Bump\", \"Crossing\", \"Give_Way\", \"Junction\", \"No_Exit\", \"Railway\", \"Roundabout\", \"Station\", \"Stop\", \"Traffic_Calming\", \"Traffic_Signal\"]\n",
    "data_road_features = US_Accidents_Dec20_CA[road_features].sum().sort_values(ascending=False)\n",
    "\n",
    "plt.figure(figsize=(18, 8))\n",
    "plt.title(\"Most frequent road features\")\n",
    "sns.barplot(data_road_features.values, data_road_features.index);\n",
    "plt.xlabel(\"Value\");\n",
    "plt.ylabel(\"Road feature\");\n",
    "plt.show();"
   ]
  },
  {
   "cell_type": "markdown",
   "metadata": {},
   "source": [
    "## （5）Weather Features\n",
    "\n",
    "1. Helper Function\n",
    "2. Pressure(in)\n",
    "3. Wind speed\n",
    "4. Wind direction\n",
    "5. Humidity\n",
    "6. Temperature(f)\n",
    "7. Visibility\n",
    "8. Weather condition\n",
    "\n",
    "NOTE: We mostly foucus on the data after remove outliers"
   ]
  },
  {
   "cell_type": "code",
   "execution_count": 39,
   "metadata": {},
   "outputs": [],
   "source": [
    "#1. Helper Function:\n",
    "\n",
    "#remove outliers' function\n",
    "def remove_outliers(data, variable, lower=-np.inf, upper=np.inf):\n",
    "    return data.loc[(data[variable] > lower) & (data[variable] < upper), :]"
   ]
  },
  {
   "cell_type": "code",
   "execution_count": 40,
   "metadata": {},
   "outputs": [
    {
     "data": {
      "text/plain": [
       "<AxesSubplot:xlabel='Severity', ylabel='Pressure(in)'>"
      ]
     },
     "execution_count": 40,
     "metadata": {},
     "output_type": "execute_result"
    },
    {
     "data": {
      "image/png": "[encoded data removed]",
      "text/plain": [
       "<Figure size 432x288 with 1 Axes>"
      ]
     },
     "metadata": {
      "needs_background": "light"
     },
     "output_type": "display_data"
    }
   ],
   "source": [
    "# 2. Pressure\n",
    "\n",
    "#Pressure after remove outliers\n",
    "Q1 = np.quantile(US_Accidents_Dec20_CA['Pressure(in)'], 0.25)\n",
    "Q3 = np.quantile(US_Accidents_Dec20_CA['Pressure(in)'], 0.75)\n",
    "\n",
    "Pressure = US_Accidents_Dec20_CA.copy()\n",
    "Pressure = remove_outliers(US_Accidents_Dec20_CA, 'Pressure(in)', lower=Q1 - 1.5* (Q3 - Q1), upper= Q3 + 1.5*(Q3 - Q1))\n",
    "\n",
    "order = Pressure['Severity'].value_counts().index.sort_values()\n",
    "sns.boxplot(x = 'Severity', y='Pressure(in)', data = Pressure, order = order)"
   ]
  },
  {
   "cell_type": "code",
   "execution_count": 41,
   "metadata": {},
   "outputs": [
    {
     "data": {
      "text/plain": [
       "<AxesSubplot:xlabel='Severity', ylabel='Wind_Speed(mph)'>"
      ]
     },
     "execution_count": 41,
     "metadata": {},
     "output_type": "execute_result"
    },
    {
     "data": {
      "image/png": "[encoded data removed]",
      "text/plain": [
       "<Figure size 432x288 with 1 Axes>"
      ]
     },
     "metadata": {
      "needs_background": "light"
     },
     "output_type": "display_data"
    }
   ],
   "source": [
    "#3. Wind Speed\n",
    "Q1 = np.quantile(US_Accidents_Dec20_CA['Wind_Speed(mph)'], 0.25)\n",
    "Q3 = np.quantile(US_Accidents_Dec20_CA['Wind_Speed(mph)'], 0.75)\n",
    "Wind_Speed = US_Accidents_Dec20_CA.copy()\n",
    "Wind_Speed = remove_outliers(US_Accidents_Dec20_CA, 'Wind_Speed(mph)', lower=Q1 - 1.5* (Q3 - Q1), upper= Q3 + 1.5*(Q3 - Q1))\n",
    "\n",
    "order = Wind_Speed['Severity'].value_counts().index.sort_values()\n",
    "sns.boxplot(x = 'Severity', y='Wind_Speed(mph)', data = Wind_Speed, order = order)"
   ]
  },
  {
   "cell_type": "code",
   "execution_count": 42,
   "metadata": {},
   "outputs": [
    {
     "name": "stdout",
     "output_type": "stream",
     "text": [
      "W       61975\n",
      "S       38678\n",
      "CALM    25507\n",
      "N       17620\n",
      "VAR     16770\n",
      "E       16461\n",
      "SW      13900\n",
      "NW      11628\n",
      "SE       7708\n",
      "NE       3028\n",
      "Name: Wind_Direction, dtype: int64\n"
     ]
    },
    {
     "data": {
      "text/plain": [
       "<AxesSubplot:xlabel='Severity', ylabel='Wind_Direction'>"
      ]
     },
     "execution_count": 42,
     "metadata": {},
     "output_type": "execute_result"
    },
    {
     "data": {
      "image/png": "[encoded data removed]",
      "text/plain": [
       "<Figure size 432x288 with 1 Axes>"
      ]
     },
     "metadata": {
      "needs_background": "light"
     },
     "output_type": "display_data"
    }
   ],
   "source": [
    "#4. Wind Direction\n",
    "print(US_Accidents_Dec20_CA['Wind_Direction'].value_counts())\n",
    "\n",
    "Wind_Direction = US_Accidents_Dec20_CA.copy()\n",
    "\n",
    "def wind_direction(data):\n",
    "    data['Wind_Direction'] = data['Wind_Direction'].replace({'CALM': 0, 'N': 1, 'NE':2, 'E': 3, 'SE':4, 'S': 5, 'SW': 6, 'W':7, 'NW':8, 'VAR': 9 })\n",
    "    return data\n",
    "    \n",
    "Wind_Direction = wind_direction(Wind_Direction)\n",
    "\n",
    "sns.boxplot(x = 'Severity', y='Wind_Direction', data = Wind_Direction)"
   ]
  },
  {
   "cell_type": "code",
   "execution_count": 43,
   "metadata": {},
   "outputs": [
    {
     "data": {
      "text/plain": [
       "<AxesSubplot:xlabel='Severity', ylabel='Humidity(%)'>"
      ]
     },
     "execution_count": 43,
     "metadata": {},
     "output_type": "execute_result"
    },
    {
     "data": {
      "image/png": "[encoded data removed]",
      "text/plain": [
       "<Figure size 432x288 with 1 Axes>"
      ]
     },
     "metadata": {
      "needs_background": "light"
     },
     "output_type": "display_data"
    }
   ],
   "source": [
    "#5. Humidity\n",
    "Q1 = np.quantile(US_Accidents_Dec20_CA['Humidity(%)'], 0.25)\n",
    "Q3 = np.quantile(US_Accidents_Dec20_CA['Humidity(%)'], 0.75)\n",
    "Humidity = US_Accidents_Dec20_CA.copy()\n",
    "Humidity = remove_outliers(US_Accidents_Dec20_CA, 'Humidity(%)', lower=Q1 - 1.5* (Q3 - Q1), upper= Q3 + 1.5*(Q3 - Q1))\n",
    "\n",
    "order = Humidity['Severity'].value_counts().index.sort_values()\n",
    "sns.boxplot(x = 'Severity', y='Humidity(%)', data = Humidity, order = order)"
   ]
  },
  {
   "cell_type": "code",
   "execution_count": 44,
   "metadata": {},
   "outputs": [
    {
     "data": {
      "text/plain": [
       "<AxesSubplot:xlabel='Severity', ylabel='Temperature(F)'>"
      ]
     },
     "execution_count": 44,
     "metadata": {},
     "output_type": "execute_result"
    },
    {
     "data": {
      "image/png": "[encoded data removed]",
      "text/plain": [
       "<Figure size 432x288 with 1 Axes>"
      ]
     },
     "metadata": {
      "needs_background": "light"
     },
     "output_type": "display_data"
    }
   ],
   "source": [
    "#6. Temperature\n",
    "Q1 = np.quantile(US_Accidents_Dec20_CA['Temperature(F)'], 0.25)\n",
    "Q3 = np.quantile(US_Accidents_Dec20_CA['Temperature(F)'], 0.75)\n",
    "Temperature = US_Accidents_Dec20_CA.copy()\n",
    "Temperature = remove_outliers(US_Accidents_Dec20_CA, 'Temperature(F)', lower=Q1 - 1.5* (Q3 - Q1), upper= Q3 + 1.5*(Q3 - Q1))\n",
    "\n",
    "order = Temperature['Severity'].value_counts().index.sort_values()\n",
    "sns.boxplot(x = 'Severity', y='Temperature(F)', data = Temperature, order = order)"
   ]
  },
  {
   "cell_type": "code",
   "execution_count": 45,
   "metadata": {},
   "outputs": [
    {
     "data": {
      "text/plain": [
       "10.00     170714\n",
       "9.00        7692\n",
       "7.00        7123\n",
       "8.00        5978\n",
       "6.00        4697\n",
       "5.00        4398\n",
       "4.00        3253\n",
       "3.00        2888\n",
       "2.00        2367\n",
       "1.00        1161\n",
       "2.50         672\n",
       "0.25         525\n",
       "0.50         309\n",
       "1.50         245\n",
       "1.80         239\n",
       "0.00         229\n",
       "0.20         144\n",
       "1.20         119\n",
       "0.80         119\n",
       "0.75         113\n",
       "0.12          53\n",
       "30.00         46\n",
       "40.00         45\n",
       "80.00         32\n",
       "25.00         32\n",
       "20.00         22\n",
       "0.06          12\n",
       "0.38          10\n",
       "0.10           8\n",
       "100.00         7\n",
       "4.20           5\n",
       "0.63           5\n",
       "15.00          4\n",
       "5.50           3\n",
       "0.88           2\n",
       "0.19           1\n",
       "12.00          1\n",
       "50.00          1\n",
       "0.40           1\n",
       "Name: Visibility(mi), dtype: int64"
      ]
     },
     "execution_count": 45,
     "metadata": {},
     "output_type": "execute_result"
    }
   ],
   "source": [
    "#7. Visibility\n",
    "\n",
    "#Most data's visibility are 10 miles\n",
    "US_Accidents_Dec20_CA['Visibility(mi)'].value_counts()"
   ]
  },
  {
   "cell_type": "code",
   "execution_count": 46,
   "metadata": {},
   "outputs": [
    {
     "name": "stdout",
     "output_type": "stream",
     "text": [
      "10.0 10.0\n"
     ]
    },
    {
     "data": {
      "text/plain": [
       "<AxesSubplot:xlabel='Severity', ylabel='Visibility(mi)'>"
      ]
     },
     "execution_count": 46,
     "metadata": {},
     "output_type": "execute_result"
    },
    {
     "data": {
      "image/png": "[encoded data removed]",
      "text/plain": [
       "<Figure size 432x288 with 1 Axes>"
      ]
     },
     "metadata": {
      "needs_background": "light"
     },
     "output_type": "display_data"
    }
   ],
   "source": [
    "Q1 = np.quantile(US_Accidents_Dec20_CA['Visibility(mi)'], 0.25)\n",
    "Q3 = np.quantile(US_Accidents_Dec20_CA['Visibility(mi)'], 0.75)\n",
    "print(Q1, Q3)\n",
    "\n",
    "Visibility = US_Accidents_Dec20_CA.copy()\n",
    "\n",
    "order = Visibility['Severity'].value_counts().index.sort_values()\n",
    "sns.boxplot(x = 'Severity', y='Visibility(mi)', data = Visibility, order = order)"
   ]
  },
  {
   "cell_type": "code",
   "execution_count": 47,
   "metadata": {},
   "outputs": [
    {
     "data": {
      "text/plain": [
       "Clear           118454\n",
       "Cloudy           73189\n",
       "Rain             10714\n",
       "Fog               7847\n",
       "Smoke             2071\n",
       "Windy              740\n",
       "Snow               118\n",
       "Thunderstorm       113\n",
       "Sand                27\n",
       "Hail                 1\n",
       "Name: Weather_Condition, dtype: int64"
      ]
     },
     "execution_count": 47,
     "metadata": {},
     "output_type": "execute_result"
    }
   ],
   "source": [
    "#8. Weather Condition\n",
    "US_Accidents_Dec20_CA['Weather_Condition'].value_counts()"
   ]
  },
  {
   "cell_type": "code",
   "execution_count": 48,
   "metadata": {},
   "outputs": [],
   "source": [
    "#Helper Function\n",
    "def plot_categorical(Weather_Condition, data, with_filter=True):\n",
    "    if not with_filter:\n",
    "        Weather_Condition = data\n",
    "    fig, axs = plt.subplots(nrows=2)\n",
    "\n",
    "    sns.boxplot(\n",
    "        x='Weather_Condition',\n",
    "        y='Time_Duration(min)',\n",
    "        data=Weather_Condition.sort_values('Weather_Condition'),\n",
    "        ax=axs[0],\n",
    "    )\n",
    "\n",
    "    sns.countplot(\n",
    "        x='Weather_Condition',\n",
    "        data=Weather_Condition.sort_values('Weather_Condition'),\n",
    "        ax=axs[1],\n",
    "    )\n",
    "\n",
    "    # Draw median price\n",
    "    axs[0].axhline(\n",
    "        y=data['Severity'].median(), \n",
    "        color='red',\n",
    "        linestyle='dotted'\n",
    "    )\n",
    "\n",
    "    # Label the bars with counts\n",
    "    for patch in axs[1].patches:\n",
    "        x = patch.get_bbox().get_points()[:, 0]\n",
    "        y = patch.get_bbox().get_points()[1, 1]\n",
    "        axs[1].annotate(f'{int(y)}', (x.mean(), y), ha='center', va='bottom')\n",
    "\n",
    "    # Format x-axes\n",
    "    axs[1].set_xticklabels(axs[1].xaxis.get_majorticklabels(), rotation=90)\n",
    "    axs[0].xaxis.set_visible(False)\n",
    "\n",
    "    # Narrow the gap between the plots\n",
    "    plt.subplots_adjust(hspace=0.1)"
   ]
  },
  {
   "cell_type": "code",
   "execution_count": 49,
   "metadata": {},
   "outputs": [
    {
     "data": {
      "image/png": "[encoded data removed]",
      "text/plain": [
       "<Figure size 432x288 with 2 Axes>"
      ]
     },
     "metadata": {
      "needs_background": "light"
     },
     "output_type": "display_data"
    }
   ],
   "source": [
    "%matplotlib inline\n",
    "import matplotlib.pyplot as plt\n",
    "import seaborn as sns\n",
    "\n",
    "top_20 = US_Accidents_Dec20_CA['Weather_Condition'].value_counts().index\n",
    "top_20_neighborhoods = US_Accidents_Dec20_CA[US_Accidents_Dec20_CA['Weather_Condition'].isin(top_20)]\n",
    "\n",
    "plot_categorical(Weather_Condition=top_20_neighborhoods, data=US_Accidents_Dec20_CA)"
   ]
  },
  {
   "cell_type": "markdown",
   "metadata": {},
   "source": [
    "## (6) Time Features\n",
    "\n",
    "1. Number of accidents for each weekday\n",
    "2. Percentage for accident by the time of day and severity\n"
   ]
  },
  {
   "cell_type": "code",
   "execution_count": 50,
   "metadata": {},
   "outputs": [
    {
     "name": "stderr",
     "output_type": "stream",
     "text": [
      "C:\\Users\\Administrator\\anaconda3\\lib\\site-packages\\seaborn\\_decorators.py:36: FutureWarning: Pass the following variables as keyword args: x, y. From version 0.12, the only valid positional argument will be `data`, and passing other arguments without an explicit keyword will result in an error or misinterpretation.\n",
      "  warnings.warn(\n"
     ]
    },
    {
     "data": {
      "image/png": "[encoded data removed]",
      "text/plain": [
       "<Figure size 1440x576 with 1 Axes>"
      ]
     },
     "metadata": {
      "needs_background": "light"
     },
     "output_type": "display_data"
    }
   ],
   "source": [
    "# Number of accidents for weekday\n",
    "\n",
    "# Accidents are more likely to happen during work days, while in the weekend we have a frequency of about 1/2 less. \n",
    "# This may be due to the fact that there are fewer cars on the road during the weekend.\n",
    "counts = US_Accidents_Dec20_CA['Weekday'].value_counts()\n",
    "weekdays = [\"Mon\", \"Tue\", \"Wed\", \"Thu\", \"Fri\", \"Sat\", \"Sun\"]\n",
    "\n",
    "plt.figure(figsize=(20, 8))\n",
    "plt.title(\"Number of accidents for each weekday\")\n",
    "sns.barplot(counts.index, counts.values, order=weekdays, palette=\"Blues_d\")\n",
    "plt.xlabel(\"Weekday\")\n",
    "plt.ylabel(\"Count\")\n",
    "plt.show()"
   ]
  },
  {
   "cell_type": "code",
   "execution_count": 51,
   "metadata": {},
   "outputs": [
    {
     "data": {
      "image/png": "[encoded data removed]",
      "text/plain": [
       "<Figure size 1440x576 with 2 Axes>"
      ]
     },
     "metadata": {
      "needs_background": "light"
     },
     "output_type": "display_data"
    }
   ],
   "source": [
    "# Percentage for accident by the time of day and severity\n",
    "fig, axes = plt.subplots(1, 2, figsize=(20, 8))\n",
    "counts = US_Accidents_Dec20_CA[\"Sunrise_Sunset\"].value_counts()/len(US_Accidents_Dec20_CA[\"Sunrise_Sunset\"])*100\n",
    "axes[0].set_title(\"Percentage for accident by the time of day\")\n",
    "sns.barplot(ax = axes[0], x = counts.index, y = counts.values, palette=\"Blues_d\")\n",
    "axes[0].set_xlabel(\"Sunrise_Sunset\")\n",
    "axes[0].set_ylabel(\"Percentage(%)\")\n",
    "data = US_Accidents_Dec20_CA['Sunrise_Sunset'].groupby(US_Accidents_Dec20_CA['Severity']).value_counts(normalize=True).rename('percentage').reset_index()\n",
    "sns.barplot(ax = axes[1], x='Sunrise_Sunset', y = 'percentage',  hue='Severity', data = data)\n",
    "axes[1].set_title('Percentage of Accidents by time of day and severity');"
   ]
  },
  {
   "cell_type": "markdown",
   "metadata": {},
   "source": [
    "## (7) Country (use time duration)"
   ]
  },
  {
   "cell_type": "code",
   "execution_count": 52,
   "metadata": {},
   "outputs": [],
   "source": [
    "def plot_categorical(County, data, with_filter=True):\n",
    "    if not with_filter:\n",
    "        County = data\n",
    "    fig, axs = plt.subplots(nrows=2)\n",
    "    \n",
    "    sns.boxplot(\n",
    "        x='County',\n",
    "        y='Time_Duration(min)',\n",
    "        data=County.sort_values('County'),\n",
    "        ax=axs[0],\n",
    "    )\n",
    "\n",
    "    sns.countplot(\n",
    "        x='County',\n",
    "        data=County.sort_values('County'),\n",
    "        ax=axs[1],\n",
    "    )\n",
    "\n",
    "    # Draw median price\n",
    "    axs[0].axhline(\n",
    "        y=data['Time_Duration(min)'].median(), \n",
    "        color='red',\n",
    "        linestyle='dotted'\n",
    "    )\n",
    "\n",
    "    # Label the bars with counts\n",
    "    for patch in axs[1].patches:\n",
    "        x = patch.get_bbox().get_points()[:, 0]\n",
    "        y = patch.get_bbox().get_points()[1, 1]\n",
    "        axs[1].annotate(f'{int(y)}', (x.mean(), y), ha='center', va='bottom')\n",
    "\n",
    "    # Format x-axes\n",
    "    axs[1].set_xticklabels(axs[1].xaxis.get_majorticklabels(), rotation=90)\n",
    "    axs[0].xaxis.set_visible(False)\n",
    "\n",
    "    # Narrow the gap between the plots\n",
    "    plt.subplots_adjust(hspace=0.1)"
   ]
  },
  {
   "cell_type": "code",
   "execution_count": 53,
   "metadata": {},
   "outputs": [
    {
     "data": {
      "image/png": "[encoded data removed]",
      "text/plain": [
       "<Figure size 432x288 with 2 Axes>"
      ]
     },
     "metadata": {
      "needs_background": "light"
     },
     "output_type": "display_data"
    }
   ],
   "source": [
    "%matplotlib inline\n",
    "import matplotlib.pyplot as plt\n",
    "import seaborn as sns\n",
    "\n",
    "#Before remove outliers\n",
    "top_20 = US_Accidents_Dec20_CA['County'].value_counts()[0:20].index\n",
    "top_20_neighborhoods = US_Accidents_Dec20_CA[US_Accidents_Dec20_CA['County'].isin(top_20)]\n",
    "plot_categorical(County=top_20_neighborhoods, data=US_Accidents_Dec20_CA)"
   ]
  },
  {
   "cell_type": "code",
   "execution_count": 54,
   "metadata": {},
   "outputs": [
    {
     "name": "stderr",
     "output_type": "stream",
     "text": [
      "<ipython-input-54-f2b48cac17ae>:8: UserWarning: Boolean Series key will be reindexed to match DataFrame index.\n",
      "  top_20_neighborhoods = County[US_Accidents_Dec20_CA['County'].isin(top_20)]\n"
     ]
    },
    {
     "data": {
      "image/png": "[encoded data removed]",
      "text/plain": [
       "<Figure size 432x288 with 2 Axes>"
      ]
     },
     "metadata": {
      "needs_background": "light"
     },
     "output_type": "display_data"
    }
   ],
   "source": [
    "#remove outliers\n",
    "Q1 = np.quantile(US_Accidents_Dec20_CA['Time_Duration(min)'], 0.25)\n",
    "Q3 = np.quantile(US_Accidents_Dec20_CA['Time_Duration(min)'], 0.75)\n",
    "County = US_Accidents_Dec20_CA.copy()\n",
    "County = remove_outliers(US_Accidents_Dec20_CA, 'Time_Duration(min)', lower=Q1 - 1.5* (Q3 - Q1), upper= Q3 + 1.5*(Q3 - Q1))\n",
    "\n",
    "top_20 = County['County'].value_counts()[0:20].index\n",
    "top_20_neighborhoods = County[US_Accidents_Dec20_CA['County'].isin(top_20)]\n",
    "\n",
    "plot_categorical(County=top_20_neighborhoods, data=County)"
   ]
  },
  {
   "cell_type": "markdown",
   "metadata": {},
   "source": [
    "## (8) City"
   ]
  },
  {
   "cell_type": "code",
   "execution_count": 55,
   "metadata": {},
   "outputs": [
    {
     "data": {
      "text/plain": [
       "Los Angeles       18694\n",
       "Sacramento         9674\n",
       "San Diego          7570\n",
       "San Jose           5840\n",
       "Oakland            4157\n",
       "                  ...  \n",
       "Kensington            1\n",
       "Crescent Mills        1\n",
       "Somes Bar             1\n",
       "Igo                   1\n",
       "Scotia                1\n",
       "Name: City, Length: 1023, dtype: int64"
      ]
     },
     "execution_count": 55,
     "metadata": {},
     "output_type": "execute_result"
    }
   ],
   "source": [
    "US_Accidents_Dec20_CA['City'].value_counts()"
   ]
  },
  {
   "cell_type": "code",
   "execution_count": 56,
   "metadata": {},
   "outputs": [],
   "source": [
    "#Helper function\n",
    "def plot_categorical(City, data, with_filter=True):\n",
    "    if not with_filter:\n",
    "        City = data\n",
    "    fig, axs = plt.subplots(nrows=2)\n",
    "    \n",
    "    sns.boxplot(\n",
    "        x='City',\n",
    "        y='Time_Duration(min)',\n",
    "        data=City.sort_values('City'),\n",
    "        ax=axs[0],\n",
    "    )\n",
    "\n",
    "    sns.countplot(\n",
    "        x='City',\n",
    "        data=City.sort_values('City'),\n",
    "        ax=axs[1],\n",
    "    )\n",
    "\n",
    "    # Draw median price\n",
    "    axs[0].axhline(\n",
    "        y=data['Time_Duration(min)'].median(), \n",
    "        color='red',\n",
    "        linestyle='dotted'\n",
    "    )\n",
    "\n",
    "    # Label the bars with counts\n",
    "    for patch in axs[1].patches:\n",
    "        x = patch.get_bbox().get_points()[:, 0]\n",
    "        y = patch.get_bbox().get_points()[1, 1]\n",
    "        axs[1].annotate(f'{int(y)}', (x.mean(), y), ha='center', va='bottom')\n",
    "\n",
    "    # Format x-axes\n",
    "    axs[1].set_xticklabels(axs[1].xaxis.get_majorticklabels(), rotation=90)\n",
    "    axs[0].xaxis.set_visible(False)\n",
    "\n",
    "    # Narrow the gap between the plots\n",
    "    plt.subplots_adjust(hspace=0.1)"
   ]
  },
  {
   "cell_type": "code",
   "execution_count": 57,
   "metadata": {},
   "outputs": [
    {
     "data": {
      "image/png": "[encoded data removed]",
      "text/plain": [
       "<Figure size 432x288 with 2 Axes>"
      ]
     },
     "metadata": {
      "needs_background": "light"
     },
     "output_type": "display_data"
    }
   ],
   "source": [
    "# remove outliers before\n",
    "top_20 = US_Accidents_Dec20_CA['City'].value_counts()[0:20].index\n",
    "top_20_neighborhoods = US_Accidents_Dec20_CA[US_Accidents_Dec20_CA['City'].isin(top_20)]\n",
    "plot_categorical(City=top_20_neighborhoods, data=US_Accidents_Dec20_CA)"
   ]
  },
  {
   "cell_type": "code",
   "execution_count": 58,
   "metadata": {},
   "outputs": [
    {
     "name": "stderr",
     "output_type": "stream",
     "text": [
      "<ipython-input-58-459925aac3fb>:8: UserWarning: Boolean Series key will be reindexed to match DataFrame index.\n",
      "  top_20_neighborhoods = City[US_Accidents_Dec20_CA['City'].isin(top_20)]\n"
     ]
    },
    {
     "data": {
      "image/png": "[encoded data removed]",
      "text/plain": [
       "<Figure size 432x288 with 2 Axes>"
      ]
     },
     "metadata": {
      "needs_background": "light"
     },
     "output_type": "display_data"
    }
   ],
   "source": [
    "#remove outliers\n",
    "Q1 = np.quantile(US_Accidents_Dec20_CA['Time_Duration(min)'], 0.25)\n",
    "Q3 = np.quantile(US_Accidents_Dec20_CA['Time_Duration(min)'], 0.75)\n",
    "City = US_Accidents_Dec20_CA.copy()\n",
    "City = remove_outliers(US_Accidents_Dec20_CA, 'Time_Duration(min)', lower=Q1 - 1.5* (Q3 - Q1), upper= Q3 + 1.5*(Q3 - Q1))\n",
    "\n",
    "top_20 = City['City'].value_counts()[0:20].index\n",
    "top_20_neighborhoods = City[US_Accidents_Dec20_CA['City'].isin(top_20)]\n",
    "\n",
    "plot_categorical(City=top_20_neighborhoods, data=City)"
   ]
  },
  {
   "cell_type": "markdown",
   "metadata": {},
   "source": [
    "## (9) Airport_code"
   ]
  },
  {
   "cell_type": "code",
   "execution_count": 59,
   "metadata": {},
   "outputs": [
    {
     "data": {
      "text/plain": [
       "KCQT    12098\n",
       "KEMT     8741\n",
       "KHHR     8507\n",
       "KCCR     7932\n",
       "KOAK     7470\n",
       "        ...  \n",
       "KNYL        6\n",
       "KXVW        5\n",
       "KNSI        4\n",
       "KMHS        3\n",
       "KEDW        1\n",
       "Name: Airport_Code, Length: 132, dtype: int64"
      ]
     },
     "execution_count": 59,
     "metadata": {},
     "output_type": "execute_result"
    }
   ],
   "source": [
    "US_Accidents_Dec20_CA['Airport_Code'].value_counts()"
   ]
  },
  {
   "cell_type": "code",
   "execution_count": 60,
   "metadata": {},
   "outputs": [],
   "source": [
    "#Helper Function\n",
    "def plot_categorical(Airport_Code, data, with_filter=True):\n",
    "    if not with_filter:\n",
    "        Airport_Code = data\n",
    "    fig, axs = plt.subplots(nrows=2)\n",
    "    \n",
    "    sns.boxplot(\n",
    "        x='Airport_Code',\n",
    "        y='Time_Duration(min)',\n",
    "        data=Airport_Code.sort_values('Airport_Code'),\n",
    "        ax=axs[0],\n",
    "    )\n",
    "\n",
    "    sns.countplot(\n",
    "        x='Airport_Code',\n",
    "        data=Airport_Code.sort_values('Airport_Code'),\n",
    "        ax=axs[1],\n",
    "    )\n",
    "\n",
    "    # Draw median price\n",
    "    axs[0].axhline(\n",
    "        y=data['Time_Duration(min)'].median(), \n",
    "        color='red',\n",
    "        linestyle='dotted'\n",
    "    )\n",
    "\n",
    "    # Label the bars with counts\n",
    "    for patch in axs[1].patches:\n",
    "        x = patch.get_bbox().get_points()[:, 0]\n",
    "        y = patch.get_bbox().get_points()[1, 1]\n",
    "        axs[1].annotate(f'{int(y)}', (x.mean(), y), ha='center', va='bottom')\n",
    "\n",
    "    # Format x-axes\n",
    "    axs[1].set_xticklabels(axs[1].xaxis.get_majorticklabels(), rotation=90)\n",
    "    axs[0].xaxis.set_visible(False)\n",
    "\n",
    "    # Narrow the gap between the plots\n",
    "    plt.subplots_adjust(hspace=0.1)"
   ]
  },
  {
   "cell_type": "code",
   "execution_count": 61,
   "metadata": {},
   "outputs": [
    {
     "data": {
      "image/png": "[encoded data removed]",
      "text/plain": [
       "<Figure size 432x288 with 2 Axes>"
      ]
     },
     "metadata": {
      "needs_background": "light"
     },
     "output_type": "display_data"
    }
   ],
   "source": [
    "# Before remove outlier\n",
    "top_20 = US_Accidents_Dec20_CA['Airport_Code'].value_counts()[0:20].index\n",
    "top_20_neighborhoods = US_Accidents_Dec20_CA[US_Accidents_Dec20_CA['Airport_Code'].isin(top_20)]\n",
    "plot_categorical(Airport_Code=top_20_neighborhoods, data=US_Accidents_Dec20_CA)"
   ]
  },
  {
   "cell_type": "code",
   "execution_count": 62,
   "metadata": {},
   "outputs": [
    {
     "name": "stderr",
     "output_type": "stream",
     "text": [
      "<ipython-input-62-436c6436c70c>:8: UserWarning: Boolean Series key will be reindexed to match DataFrame index.\n",
      "  top_20_neighborhoods = Airport_Code[US_Accidents_Dec20_CA['Airport_Code'].isin(top_20)]\n"
     ]
    },
    {
     "data": {
      "image/png": "[encoded data removed]",
      "text/plain": [
       "<Figure size 432x288 with 2 Axes>"
      ]
     },
     "metadata": {
      "needs_background": "light"
     },
     "output_type": "display_data"
    }
   ],
   "source": [
    "#remove outliers\n",
    "Q1 = np.quantile(US_Accidents_Dec20_CA['Time_Duration(min)'], 0.25)\n",
    "Q3 = np.quantile(US_Accidents_Dec20_CA['Time_Duration(min)'], 0.75)\n",
    "Airport_Code = US_Accidents_Dec20_CA.copy()\n",
    "Airport_Code = remove_outliers(US_Accidents_Dec20_CA, 'Time_Duration(min)', lower=Q1 - 1.5* (Q3 - Q1), upper= Q3 + 1.5*(Q3 - Q1))\n",
    "\n",
    "top_20 = Airport_Code['Airport_Code'].value_counts()[0:20].index\n",
    "top_20_neighborhoods = Airport_Code[US_Accidents_Dec20_CA['Airport_Code'].isin(top_20)]\n",
    "\n",
    "plot_categorical(Airport_Code=top_20_neighborhoods, data=City)"
   ]
  },
  {
   "cell_type": "markdown",
   "metadata": {},
   "source": [
    "## (10) Side (Left side or Right side)"
   ]
  },
  {
   "cell_type": "code",
   "execution_count": 63,
   "metadata": {},
   "outputs": [
    {
     "data": {
      "image/png": "[encoded data removed]",
      "text/plain": [
       "<Figure size 360x360 with 1 Axes>"
      ]
     },
     "metadata": {
      "needs_background": "light"
     },
     "output_type": "display_data"
    }
   ],
   "source": [
    "plt.figure(figsize=(5,5))\n",
    "sns.countplot(x='Side', hue='Severity', data=US_Accidents_Dec20_CA)\n",
    "plt.title(\"Count of Accidents by Side\", size=15, y=1.05)\n",
    "plt.show()"
   ]
  },
  {
   "cell_type": "markdown",
   "metadata": {},
   "source": [
    "## (11) Check correlation between features"
   ]
  },
  {
   "cell_type": "code",
   "execution_count": 64,
   "metadata": {},
   "outputs": [
    {
     "data": {
      "image/png": "[encoded data removed]",
      "text/plain": [
       "<Figure size 864x864 with 2 Axes>"
      ]
     },
     "metadata": {
      "needs_background": "light"
     },
     "output_type": "display_data"
    }
   ],
   "source": [
    "fig=plt.gcf()\n",
    "fig.set_size_inches(12,12)\n",
    "fig=sns.heatmap(US_Accidents_Dec20_CA.corr(), cmap=\"seismic\",\n",
    "                linewidths=1,linecolor='k',square=True,mask=False, vmin=-1, vmax=1,\n",
    "                cbar_kws={\"orientation\": \"vertical\"},cbar=True)"
   ]
  },
  {
   "cell_type": "markdown",
   "metadata": {},
   "source": [
    "# 4. Feature Engineering\n",
    "\n",
    "1. Select features after EDA\n",
    "2. Set up \"Severity\" to dummy variable\n",
    "3. Rename features which contains unit on it's name"
   ]
  },
  {
   "cell_type": "code",
   "execution_count": 65,
   "metadata": {},
   "outputs": [],
   "source": [
    "#1. Select features after EDA\n",
    "full_data = US_Accidents_Dec20_CA[['Severity', 'Start_Lat', 'Start_Lng', 'Distance(mi)', 'Side', \n",
    "                                   'County', 'Pressure(in)',  'Wind_Direction','Weather_Condition',\n",
    "                                   'Amenity', 'Bump', 'Crossing', 'Give_Way', 'Junction', 'No_Exit',\n",
    "                                   'Railway', 'Roundabout', 'Station', 'Stop', 'Traffic_Calming', \n",
    "                                   'Traffic_Signal', 'Sunrise_Sunset', 'Year', 'Month',\n",
    "                                   'Day', 'Hour', 'Weekday', 'Time_Duration(min)']].copy()"
   ]
  },
  {
   "cell_type": "code",
   "execution_count": 66,
   "metadata": {},
   "outputs": [
    {
     "data": {
      "text/plain": [
       "Severity                    3\n",
       "Start_Lat             38.0853\n",
       "Start_Lng            -122.233\n",
       "Distance(mi)                0\n",
       "Side                        R\n",
       "County                 Solano\n",
       "Pressure(in)               30\n",
       "Wind_Direction            VAR\n",
       "Weather_Condition       Clear\n",
       "Amenity                 False\n",
       "Bump                    False\n",
       "Crossing                False\n",
       "Give_Way                False\n",
       "Junction                False\n",
       "No_Exit                 False\n",
       "Railway                 False\n",
       "Roundabout              False\n",
       "Station                 False\n",
       "Stop                    False\n",
       "Traffic_Calming         False\n",
       "Traffic_Signal          False\n",
       "Sunrise_Sunset            Day\n",
       "Year                     2016\n",
       "Month                     Jun\n",
       "Day                        21\n",
       "Hour                       10\n",
       "Weekday                   Tue\n",
       "Time_Duration(min)         30\n",
       "Name: 0, dtype: object"
      ]
     },
     "execution_count": 66,
     "metadata": {},
     "output_type": "execute_result"
    }
   ],
   "source": [
    "# The first data in the full data set\n",
    "full_data.iloc[0,:]"
   ]
  },
  {
   "cell_type": "code",
   "execution_count": 67,
   "metadata": {},
   "outputs": [],
   "source": [
    "#2. Set up \"Severity\" to dummy variable \n",
    "\n",
    "# If \"Severity\" large or equal to 3, set \"Severity3\" equal to 1\n",
    "# If \"Severity\" smaller than 3, set \"Severity3\" equal to 0\n",
    "severity_dummy = np.array(full_data.loc[:, 'Severity'] >= 3).astype(int)\n",
    "full_data['Severity3'] = severity_dummy"
   ]
  },
  {
   "cell_type": "code",
   "execution_count": 68,
   "metadata": {},
   "outputs": [
    {
     "data": {
      "text/html": [
       "<div>\n",
       "<style scoped>\n",
       "    .dataframe tbody tr th:only-of-type {\n",
       "        vertical-align: middle;\n",
       "    }\n",
       "\n",
       "    .dataframe tbody tr th {\n",
       "        vertical-align: top;\n",
       "    }\n",
       "\n",
       "    .dataframe thead th {\n",
       "        text-align: right;\n",
       "    }\n",
       "</style>\n",
       "<table border=\"1\" class=\"dataframe\">\n",
       "  <thead>\n",
       "    <tr style=\"text-align: right;\">\n",
       "      <th></th>\n",
       "      <th>Severity</th>\n",
       "      <th>Start_Lat</th>\n",
       "      <th>Start_Lng</th>\n",
       "      <th>Distance</th>\n",
       "      <th>Side</th>\n",
       "      <th>County</th>\n",
       "      <th>Pressure</th>\n",
       "      <th>Wind_Direction</th>\n",
       "      <th>Weather_Condition</th>\n",
       "      <th>Amenity</th>\n",
       "      <th>...</th>\n",
       "      <th>Traffic_Calming</th>\n",
       "      <th>Traffic_Signal</th>\n",
       "      <th>Sunrise_Sunset</th>\n",
       "      <th>Year</th>\n",
       "      <th>Month</th>\n",
       "      <th>Day</th>\n",
       "      <th>Hour</th>\n",
       "      <th>Weekday</th>\n",
       "      <th>Time_Duration</th>\n",
       "      <th>Severity3</th>\n",
       "    </tr>\n",
       "  </thead>\n",
       "  <tbody>\n",
       "    <tr>\n",
       "      <th>0</th>\n",
       "      <td>3</td>\n",
       "      <td>38.085300</td>\n",
       "      <td>-122.233017</td>\n",
       "      <td>0.0</td>\n",
       "      <td>R</td>\n",
       "      <td>Solano</td>\n",
       "      <td>30.00</td>\n",
       "      <td>VAR</td>\n",
       "      <td>Clear</td>\n",
       "      <td>False</td>\n",
       "      <td>...</td>\n",
       "      <td>False</td>\n",
       "      <td>False</td>\n",
       "      <td>Day</td>\n",
       "      <td>2016</td>\n",
       "      <td>Jun</td>\n",
       "      <td>21</td>\n",
       "      <td>10</td>\n",
       "      <td>Tue</td>\n",
       "      <td>30.0</td>\n",
       "      <td>1</td>\n",
       "    </tr>\n",
       "    <tr>\n",
       "      <th>1</th>\n",
       "      <td>3</td>\n",
       "      <td>37.631813</td>\n",
       "      <td>-122.084167</td>\n",
       "      <td>0.0</td>\n",
       "      <td>R</td>\n",
       "      <td>Alameda</td>\n",
       "      <td>30.06</td>\n",
       "      <td>W</td>\n",
       "      <td>Clear</td>\n",
       "      <td>False</td>\n",
       "      <td>...</td>\n",
       "      <td>False</td>\n",
       "      <td>False</td>\n",
       "      <td>Day</td>\n",
       "      <td>2016</td>\n",
       "      <td>Jun</td>\n",
       "      <td>21</td>\n",
       "      <td>10</td>\n",
       "      <td>Tue</td>\n",
       "      <td>46.0</td>\n",
       "      <td>1</td>\n",
       "    </tr>\n",
       "    <tr>\n",
       "      <th>2</th>\n",
       "      <td>2</td>\n",
       "      <td>37.896564</td>\n",
       "      <td>-122.070717</td>\n",
       "      <td>0.0</td>\n",
       "      <td>R</td>\n",
       "      <td>Contra Costa</td>\n",
       "      <td>29.97</td>\n",
       "      <td>N</td>\n",
       "      <td>Clear</td>\n",
       "      <td>False</td>\n",
       "      <td>...</td>\n",
       "      <td>False</td>\n",
       "      <td>False</td>\n",
       "      <td>Day</td>\n",
       "      <td>2016</td>\n",
       "      <td>Jun</td>\n",
       "      <td>21</td>\n",
       "      <td>10</td>\n",
       "      <td>Tue</td>\n",
       "      <td>30.0</td>\n",
       "      <td>0</td>\n",
       "    </tr>\n",
       "    <tr>\n",
       "      <th>3</th>\n",
       "      <td>3</td>\n",
       "      <td>37.334255</td>\n",
       "      <td>-122.032471</td>\n",
       "      <td>0.0</td>\n",
       "      <td>R</td>\n",
       "      <td>Santa Clara</td>\n",
       "      <td>30.04</td>\n",
       "      <td>N</td>\n",
       "      <td>Clear</td>\n",
       "      <td>False</td>\n",
       "      <td>...</td>\n",
       "      <td>False</td>\n",
       "      <td>False</td>\n",
       "      <td>Day</td>\n",
       "      <td>2016</td>\n",
       "      <td>Jun</td>\n",
       "      <td>21</td>\n",
       "      <td>10</td>\n",
       "      <td>Tue</td>\n",
       "      <td>30.0</td>\n",
       "      <td>1</td>\n",
       "    </tr>\n",
       "    <tr>\n",
       "      <th>4</th>\n",
       "      <td>2</td>\n",
       "      <td>37.250729</td>\n",
       "      <td>-121.910713</td>\n",
       "      <td>0.0</td>\n",
       "      <td>R</td>\n",
       "      <td>Santa Clara</td>\n",
       "      <td>30.06</td>\n",
       "      <td>VAR</td>\n",
       "      <td>Clear</td>\n",
       "      <td>False</td>\n",
       "      <td>...</td>\n",
       "      <td>False</td>\n",
       "      <td>False</td>\n",
       "      <td>Day</td>\n",
       "      <td>2016</td>\n",
       "      <td>Jun</td>\n",
       "      <td>21</td>\n",
       "      <td>10</td>\n",
       "      <td>Tue</td>\n",
       "      <td>48.0</td>\n",
       "      <td>0</td>\n",
       "    </tr>\n",
       "    <tr>\n",
       "      <th>...</th>\n",
       "      <td>...</td>\n",
       "      <td>...</td>\n",
       "      <td>...</td>\n",
       "      <td>...</td>\n",
       "      <td>...</td>\n",
       "      <td>...</td>\n",
       "      <td>...</td>\n",
       "      <td>...</td>\n",
       "      <td>...</td>\n",
       "      <td>...</td>\n",
       "      <td>...</td>\n",
       "      <td>...</td>\n",
       "      <td>...</td>\n",
       "      <td>...</td>\n",
       "      <td>...</td>\n",
       "      <td>...</td>\n",
       "      <td>...</td>\n",
       "      <td>...</td>\n",
       "      <td>...</td>\n",
       "      <td>...</td>\n",
       "      <td>...</td>\n",
       "    </tr>\n",
       "    <tr>\n",
       "      <th>260381</th>\n",
       "      <td>2</td>\n",
       "      <td>34.123230</td>\n",
       "      <td>-118.341896</td>\n",
       "      <td>0.0</td>\n",
       "      <td>R</td>\n",
       "      <td>Los Angeles</td>\n",
       "      <td>29.00</td>\n",
       "      <td>S</td>\n",
       "      <td>Clear</td>\n",
       "      <td>False</td>\n",
       "      <td>...</td>\n",
       "      <td>False</td>\n",
       "      <td>False</td>\n",
       "      <td>Night</td>\n",
       "      <td>2019</td>\n",
       "      <td>Oct</td>\n",
       "      <td>9</td>\n",
       "      <td>19</td>\n",
       "      <td>Wed</td>\n",
       "      <td>48.0</td>\n",
       "      <td>0</td>\n",
       "    </tr>\n",
       "    <tr>\n",
       "      <th>260382</th>\n",
       "      <td>3</td>\n",
       "      <td>34.068192</td>\n",
       "      <td>-117.978111</td>\n",
       "      <td>0.0</td>\n",
       "      <td>R</td>\n",
       "      <td>Los Angeles</td>\n",
       "      <td>29.72</td>\n",
       "      <td>SW</td>\n",
       "      <td>Cloudy</td>\n",
       "      <td>False</td>\n",
       "      <td>...</td>\n",
       "      <td>False</td>\n",
       "      <td>False</td>\n",
       "      <td>Night</td>\n",
       "      <td>2019</td>\n",
       "      <td>Oct</td>\n",
       "      <td>9</td>\n",
       "      <td>19</td>\n",
       "      <td>Wed</td>\n",
       "      <td>28.0</td>\n",
       "      <td>1</td>\n",
       "    </tr>\n",
       "    <tr>\n",
       "      <th>260383</th>\n",
       "      <td>3</td>\n",
       "      <td>33.928146</td>\n",
       "      <td>-118.239166</td>\n",
       "      <td>0.0</td>\n",
       "      <td>R</td>\n",
       "      <td>Los Angeles</td>\n",
       "      <td>29.77</td>\n",
       "      <td>CALM</td>\n",
       "      <td>Cloudy</td>\n",
       "      <td>False</td>\n",
       "      <td>...</td>\n",
       "      <td>False</td>\n",
       "      <td>False</td>\n",
       "      <td>Night</td>\n",
       "      <td>2019</td>\n",
       "      <td>Oct</td>\n",
       "      <td>9</td>\n",
       "      <td>20</td>\n",
       "      <td>Wed</td>\n",
       "      <td>30.0</td>\n",
       "      <td>1</td>\n",
       "    </tr>\n",
       "    <tr>\n",
       "      <th>260384</th>\n",
       "      <td>3</td>\n",
       "      <td>33.930241</td>\n",
       "      <td>-118.280624</td>\n",
       "      <td>0.0</td>\n",
       "      <td>R</td>\n",
       "      <td>Los Angeles</td>\n",
       "      <td>29.77</td>\n",
       "      <td>CALM</td>\n",
       "      <td>Cloudy</td>\n",
       "      <td>False</td>\n",
       "      <td>...</td>\n",
       "      <td>False</td>\n",
       "      <td>False</td>\n",
       "      <td>Night</td>\n",
       "      <td>2019</td>\n",
       "      <td>Oct</td>\n",
       "      <td>9</td>\n",
       "      <td>20</td>\n",
       "      <td>Wed</td>\n",
       "      <td>47.0</td>\n",
       "      <td>1</td>\n",
       "    </tr>\n",
       "    <tr>\n",
       "      <th>260385</th>\n",
       "      <td>3</td>\n",
       "      <td>33.941174</td>\n",
       "      <td>-118.096519</td>\n",
       "      <td>0.0</td>\n",
       "      <td>R</td>\n",
       "      <td>Los Angeles</td>\n",
       "      <td>29.79</td>\n",
       "      <td>VAR</td>\n",
       "      <td>Cloudy</td>\n",
       "      <td>False</td>\n",
       "      <td>...</td>\n",
       "      <td>False</td>\n",
       "      <td>False</td>\n",
       "      <td>Night</td>\n",
       "      <td>2019</td>\n",
       "      <td>Oct</td>\n",
       "      <td>9</td>\n",
       "      <td>21</td>\n",
       "      <td>Wed</td>\n",
       "      <td>30.0</td>\n",
       "      <td>1</td>\n",
       "    </tr>\n",
       "  </tbody>\n",
       "</table>\n",
       "<p>213275 rows × 29 columns</p>\n",
       "</div>"
      ],
      "text/plain": [
       "        Severity  Start_Lat   Start_Lng  Distance Side        County  \\\n",
       "0              3  38.085300 -122.233017       0.0    R        Solano   \n",
       "1              3  37.631813 -122.084167       0.0    R       Alameda   \n",
       "2              2  37.896564 -122.070717       0.0    R  Contra Costa   \n",
       "3              3  37.334255 -122.032471       0.0    R   Santa Clara   \n",
       "4              2  37.250729 -121.910713       0.0    R   Santa Clara   \n",
       "...          ...        ...         ...       ...  ...           ...   \n",
       "260381         2  34.123230 -118.341896       0.0    R   Los Angeles   \n",
       "260382         3  34.068192 -117.978111       0.0    R   Los Angeles   \n",
       "260383         3  33.928146 -118.239166       0.0    R   Los Angeles   \n",
       "260384         3  33.930241 -118.280624       0.0    R   Los Angeles   \n",
       "260385         3  33.941174 -118.096519       0.0    R   Los Angeles   \n",
       "\n",
       "        Pressure Wind_Direction Weather_Condition  Amenity  ...  \\\n",
       "0          30.00            VAR             Clear    False  ...   \n",
       "1          30.06              W             Clear    False  ...   \n",
       "2          29.97              N             Clear    False  ...   \n",
       "3          30.04              N             Clear    False  ...   \n",
       "4          30.06            VAR             Clear    False  ...   \n",
       "...          ...            ...               ...      ...  ...   \n",
       "260381     29.00              S             Clear    False  ...   \n",
       "260382     29.72             SW            Cloudy    False  ...   \n",
       "260383     29.77           CALM            Cloudy    False  ...   \n",
       "260384     29.77           CALM            Cloudy    False  ...   \n",
       "260385     29.79            VAR            Cloudy    False  ...   \n",
       "\n",
       "        Traffic_Calming  Traffic_Signal  Sunrise_Sunset  Year  Month  Day  \\\n",
       "0                 False           False             Day  2016    Jun   21   \n",
       "1                 False           False             Day  2016    Jun   21   \n",
       "2                 False           False             Day  2016    Jun   21   \n",
       "3                 False           False             Day  2016    Jun   21   \n",
       "4                 False           False             Day  2016    Jun   21   \n",
       "...                 ...             ...             ...   ...    ...  ...   \n",
       "260381            False           False           Night  2019    Oct    9   \n",
       "260382            False           False           Night  2019    Oct    9   \n",
       "260383            False           False           Night  2019    Oct    9   \n",
       "260384            False           False           Night  2019    Oct    9   \n",
       "260385            False           False           Night  2019    Oct    9   \n",
       "\n",
       "        Hour  Weekday  Time_Duration  Severity3  \n",
       "0         10      Tue           30.0          1  \n",
       "1         10      Tue           46.0          1  \n",
       "2         10      Tue           30.0          0  \n",
       "3         10      Tue           30.0          1  \n",
       "4         10      Tue           48.0          0  \n",
       "...      ...      ...            ...        ...  \n",
       "260381    19      Wed           48.0          0  \n",
       "260382    19      Wed           28.0          1  \n",
       "260383    20      Wed           30.0          1  \n",
       "260384    20      Wed           47.0          1  \n",
       "260385    21      Wed           30.0          1  \n",
       "\n",
       "[213275 rows x 29 columns]"
      ]
     },
     "execution_count": 68,
     "metadata": {},
     "output_type": "execute_result"
    }
   ],
   "source": [
    "full_data =full_data.rename(columns = {'Distance(mi)': 'Distance', 'Pressure(in)' : 'Pressure', 'Time_Duration(min)': 'Time_Duration'})\n",
    "full_data"
   ]
  },
  {
   "cell_type": "code",
   "execution_count": 70,
   "metadata": {},
   "outputs": [],
   "source": [
    "Full_data = full_data.to_csv(index=False)\n",
    "compression_opts = dict(method='zip',\n",
    "                        archive_name='full_data.csv')  \n",
    "full_data.to_csv('full_data.zip', index=False,\n",
    "          compression=compression_opts)  "
   ]
  },
  {
   "cell_type": "code",
   "execution_count": 71,
   "metadata": {},
   "outputs": [
    {
     "name": "stderr",
     "output_type": "stream",
     "text": [
      "C:\\Users\\Administrator\\anaconda3\\lib\\site-packages\\seaborn\\_decorators.py:36: FutureWarning: Pass the following variables as keyword args: x, y. From version 0.12, the only valid positional argument will be `data`, and passing other arguments without an explicit keyword will result in an error or misinterpretation.\n",
      "  warnings.warn(\n"
     ]
    },
    {
     "data": {
      "image/png": "[encoded data removed]",
      "text/plain": [
       "<Figure size 720x576 with 1 Axes>"
      ]
     },
     "metadata": {
      "needs_background": "light"
     },
     "output_type": "display_data"
    }
   ],
   "source": [
    "severity_counts = full_data[\"Severity3\"].value_counts()\n",
    "\n",
    "plt.figure(figsize=(10, 8))\n",
    "plt.title(\"Histogram for the severity\")\n",
    "sns.barplot(severity_counts.index, severity_counts.values)\n",
    "plt.xlabel(\"Severity\")\n",
    "plt.ylabel(\"Value\")\n",
    "plt.show()"
   ]
  },
  {
   "cell_type": "code",
   "execution_count": null,
   "metadata": {},
   "outputs": [],
   "source": []
  }
 ],
 "metadata": {
  "kernelspec": {
   "display_name": "Python 3",
   "language": "python",
   "name": "python3"
  },
  "language_info": {
   "codemirror_mode": {
    "name": "ipython",
    "version": 3
   },
   "file_extension": ".py",
   "mimetype": "text/x-python",
   "name": "python",
   "nbconvert_exporter": "python",
   "pygments_lexer": "ipython3",
   "version": "3.8.8"
  }
 },
 "nbformat": 4,
 "nbformat_minor": 4
}
